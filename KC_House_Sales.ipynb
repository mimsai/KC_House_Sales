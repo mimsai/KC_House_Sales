{
 "cells": [
  {
   "cell_type": "code",
   "execution_count": 1,
   "metadata": {
    "ExecuteTime": {
     "end_time": "2021-12-22T00:24:21.956383Z",
     "start_time": "2021-12-22T00:24:18.762235Z"
    },
    "scrolled": true
   },
   "outputs": [],
   "source": [
    "import time\n",
    "import geopy\n",
    "import numpy                as np\n",
    "import pandas               as pd\n",
    "import seaborn              as sns\n",
    "import plotly.express       as px\n",
    "import matplotlib.pyplot    as plt\n",
    "import ipywidgets           as widgets\n",
    "import geopandas            as gpd\n",
    "import matplotlib.pyplot    as plt\n",
    "import plotly_express       as px\n",
    "\n",
    "from geopy.geocoders          import Nominatim\n",
    "from tabulate                 import tabulate\n",
    "from datetime                 import datetime as dt\n",
    "from matplotlib               import gridspec\n",
    "from IPython.core.display     import HTML  \n",
    "from ipywidgets               import fixed\n",
    "from multiprocessing          import Pool\n",
    "from geopy.extra.rate_limiter import RateLimiter"
   ]
  },
  {
   "cell_type": "code",
   "execution_count": 2,
   "metadata": {
    "ExecuteTime": {
     "end_time": "2021-12-22T00:24:21.989632Z",
     "start_time": "2021-12-22T00:24:21.960468Z"
    }
   },
   "outputs": [],
   "source": [
    "def jupyter_settings():\n",
    "    %matplotlib inline\n",
    "    %pylab inline\n",
    "\n",
    "    plt.style.use( 'bmh' )\n",
    "    plt.rcParams['figure.figsize'] = [20,12]\n",
    "    plt.rcParams['font.size'] = 15\n",
    "    display( HTML( '<style>.container { width:100% !important; }</style>') )\n",
    "    pd.set_option('display.float_format', lambda x: '%.3f' % x)\n",
    "    pd.options.display.max_columns = None\n",
    "    pd.options.display.max_rows = None\n",
    "    pd.set_option( 'display.expand_frame_repr', False )\n",
    "\n",
    "    sns.set()\n"
   ]
  },
  {
   "cell_type": "code",
   "execution_count": 3,
   "metadata": {
    "ExecuteTime": {
     "end_time": "2021-12-22T00:24:22.020825Z",
     "start_time": "2021-12-22T00:24:21.994860Z"
    }
   },
   "outputs": [
    {
     "name": "stdout",
     "output_type": "stream",
     "text": [
      "Populating the interactive namespace from numpy and matplotlib\n"
     ]
    },
    {
     "data": {
      "text/html": [
       "<style>.container { width:100% !important; }</style>"
      ],
      "text/plain": [
       "<IPython.core.display.HTML object>"
      ]
     },
     "metadata": {},
     "output_type": "display_data"
    }
   ],
   "source": [
    "jupyter_settings()"
   ]
  },
  {
   "cell_type": "markdown",
   "metadata": {},
   "source": [
    "# 0.0 Imports"
   ]
  },
  {
   "cell_type": "markdown",
   "metadata": {},
   "source": [
    "## 0.1 Loanding Data"
   ]
  },
  {
   "cell_type": "code",
   "execution_count": 4,
   "metadata": {
    "ExecuteTime": {
     "end_time": "2021-12-22T00:24:22.120999Z",
     "start_time": "2021-12-22T00:24:22.024011Z"
    }
   },
   "outputs": [],
   "source": [
    "df_kc_sales = pd.read_csv(\"kc_house_data.csv\", index_col = False, low_memory = False)"
   ]
  },
  {
   "cell_type": "code",
   "execution_count": 5,
   "metadata": {
    "ExecuteTime": {
     "end_time": "2021-12-22T00:24:22.155625Z",
     "start_time": "2021-12-22T00:24:22.122674Z"
    },
    "scrolled": true
   },
   "outputs": [
    {
     "data": {
      "text/html": [
       "<div>\n",
       "<style scoped>\n",
       "    .dataframe tbody tr th:only-of-type {\n",
       "        vertical-align: middle;\n",
       "    }\n",
       "\n",
       "    .dataframe tbody tr th {\n",
       "        vertical-align: top;\n",
       "    }\n",
       "\n",
       "    .dataframe thead th {\n",
       "        text-align: right;\n",
       "    }\n",
       "</style>\n",
       "<table border=\"1\" class=\"dataframe\">\n",
       "  <thead>\n",
       "    <tr style=\"text-align: right;\">\n",
       "      <th></th>\n",
       "      <th>id</th>\n",
       "      <th>date</th>\n",
       "      <th>price</th>\n",
       "      <th>bedrooms</th>\n",
       "      <th>bathrooms</th>\n",
       "      <th>sqft_living</th>\n",
       "      <th>sqft_lot</th>\n",
       "      <th>floors</th>\n",
       "      <th>waterfront</th>\n",
       "      <th>view</th>\n",
       "      <th>condition</th>\n",
       "      <th>grade</th>\n",
       "      <th>sqft_above</th>\n",
       "      <th>sqft_basement</th>\n",
       "      <th>yr_built</th>\n",
       "      <th>yr_renovated</th>\n",
       "      <th>zipcode</th>\n",
       "      <th>lat</th>\n",
       "      <th>long</th>\n",
       "      <th>sqft_living15</th>\n",
       "      <th>sqft_lot15</th>\n",
       "    </tr>\n",
       "  </thead>\n",
       "  <tbody>\n",
       "    <tr>\n",
       "      <th>12393</th>\n",
       "      <td>4136920030</td>\n",
       "      <td>20140524T000000</td>\n",
       "      <td>347000.000</td>\n",
       "      <td>4</td>\n",
       "      <td>1.500</td>\n",
       "      <td>2670</td>\n",
       "      <td>10026</td>\n",
       "      <td>2.000</td>\n",
       "      <td>0</td>\n",
       "      <td>0</td>\n",
       "      <td>3</td>\n",
       "      <td>8</td>\n",
       "      <td>2670</td>\n",
       "      <td>0</td>\n",
       "      <td>1996</td>\n",
       "      <td>0</td>\n",
       "      <td>98092</td>\n",
       "      <td>47.266</td>\n",
       "      <td>-122.215</td>\n",
       "      <td>2420</td>\n",
       "      <td>11900</td>\n",
       "    </tr>\n",
       "    <tr>\n",
       "      <th>6968</th>\n",
       "      <td>7885100005</td>\n",
       "      <td>20140820T000000</td>\n",
       "      <td>299000.000</td>\n",
       "      <td>4</td>\n",
       "      <td>2.000</td>\n",
       "      <td>2320</td>\n",
       "      <td>12000</td>\n",
       "      <td>1.000</td>\n",
       "      <td>0</td>\n",
       "      <td>0</td>\n",
       "      <td>3</td>\n",
       "      <td>7</td>\n",
       "      <td>1720</td>\n",
       "      <td>600</td>\n",
       "      <td>1943</td>\n",
       "      <td>2014</td>\n",
       "      <td>98108</td>\n",
       "      <td>47.525</td>\n",
       "      <td>-122.325</td>\n",
       "      <td>1390</td>\n",
       "      <td>6000</td>\n",
       "    </tr>\n",
       "    <tr>\n",
       "      <th>4146</th>\n",
       "      <td>461002551</td>\n",
       "      <td>20141004T000000</td>\n",
       "      <td>330600.000</td>\n",
       "      <td>1</td>\n",
       "      <td>1.000</td>\n",
       "      <td>580</td>\n",
       "      <td>1799</td>\n",
       "      <td>1.000</td>\n",
       "      <td>0</td>\n",
       "      <td>0</td>\n",
       "      <td>3</td>\n",
       "      <td>7</td>\n",
       "      <td>580</td>\n",
       "      <td>0</td>\n",
       "      <td>1908</td>\n",
       "      <td>2005</td>\n",
       "      <td>98117</td>\n",
       "      <td>47.683</td>\n",
       "      <td>-122.375</td>\n",
       "      <td>1260</td>\n",
       "      <td>4000</td>\n",
       "    </tr>\n",
       "    <tr>\n",
       "      <th>15149</th>\n",
       "      <td>9406510130</td>\n",
       "      <td>20150505T000000</td>\n",
       "      <td>448000.000</td>\n",
       "      <td>5</td>\n",
       "      <td>3.500</td>\n",
       "      <td>3740</td>\n",
       "      <td>24684</td>\n",
       "      <td>2.000</td>\n",
       "      <td>0</td>\n",
       "      <td>0</td>\n",
       "      <td>3</td>\n",
       "      <td>9</td>\n",
       "      <td>2760</td>\n",
       "      <td>980</td>\n",
       "      <td>1998</td>\n",
       "      <td>0</td>\n",
       "      <td>98038</td>\n",
       "      <td>47.383</td>\n",
       "      <td>-122.057</td>\n",
       "      <td>2880</td>\n",
       "      <td>26023</td>\n",
       "    </tr>\n",
       "    <tr>\n",
       "      <th>14881</th>\n",
       "      <td>1311600020</td>\n",
       "      <td>20140821T000000</td>\n",
       "      <td>285000.000</td>\n",
       "      <td>4</td>\n",
       "      <td>2.500</td>\n",
       "      <td>2360</td>\n",
       "      <td>7350</td>\n",
       "      <td>1.000</td>\n",
       "      <td>0</td>\n",
       "      <td>0</td>\n",
       "      <td>4</td>\n",
       "      <td>7</td>\n",
       "      <td>1440</td>\n",
       "      <td>920</td>\n",
       "      <td>1965</td>\n",
       "      <td>0</td>\n",
       "      <td>98001</td>\n",
       "      <td>47.342</td>\n",
       "      <td>-122.277</td>\n",
       "      <td>1450</td>\n",
       "      <td>7305</td>\n",
       "    </tr>\n",
       "  </tbody>\n",
       "</table>\n",
       "</div>"
      ],
      "text/plain": [
       "               id             date      price  bedrooms  bathrooms  sqft_living  sqft_lot  floors  waterfront  view  condition  grade  sqft_above  sqft_basement  yr_built  yr_renovated  zipcode    lat     long  sqft_living15  sqft_lot15\n",
       "12393  4136920030  20140524T000000 347000.000         4      1.500         2670     10026   2.000           0     0          3      8        2670              0      1996             0    98092 47.266 -122.215           2420       11900\n",
       "6968   7885100005  20140820T000000 299000.000         4      2.000         2320     12000   1.000           0     0          3      7        1720            600      1943          2014    98108 47.525 -122.325           1390        6000\n",
       "4146    461002551  20141004T000000 330600.000         1      1.000          580      1799   1.000           0     0          3      7         580              0      1908          2005    98117 47.683 -122.375           1260        4000\n",
       "15149  9406510130  20150505T000000 448000.000         5      3.500         3740     24684   2.000           0     0          3      9        2760            980      1998             0    98038 47.383 -122.057           2880       26023\n",
       "14881  1311600020  20140821T000000 285000.000         4      2.500         2360      7350   1.000           0     0          4      7        1440            920      1965             0    98001 47.342 -122.277           1450        7305"
      ]
     },
     "execution_count": 5,
     "metadata": {},
     "output_type": "execute_result"
    }
   ],
   "source": [
    "df_kc_sales.sample(5)"
   ]
  },
  {
   "cell_type": "markdown",
   "metadata": {},
   "source": [
    "# 1.0 Data Descriptive\n",
    "\n"
   ]
  },
  {
   "cell_type": "code",
   "execution_count": 6,
   "metadata": {
    "ExecuteTime": {
     "end_time": "2021-12-22T00:24:22.171332Z",
     "start_time": "2021-12-22T00:24:22.157775Z"
    }
   },
   "outputs": [],
   "source": [
    "df1 = df_kc_sales.copy()"
   ]
  },
  {
   "cell_type": "markdown",
   "metadata": {},
   "source": [
    "# 1.1 Data Dimensions"
   ]
  },
  {
   "cell_type": "code",
   "execution_count": 7,
   "metadata": {
    "ExecuteTime": {
     "end_time": "2021-12-22T00:24:22.187406Z",
     "start_time": "2021-12-22T00:24:22.174090Z"
    }
   },
   "outputs": [
    {
     "name": "stdout",
     "output_type": "stream",
     "text": [
      "Number of Rows: 21613\n",
      "Number of Cols: 21\n"
     ]
    }
   ],
   "source": [
    "print ('Number of Rows: {}'.format( df1.shape[0]))\n",
    "print ('Number of Cols: {}'.format (df1.shape[1]))"
   ]
  },
  {
   "cell_type": "code",
   "execution_count": 8,
   "metadata": {
    "ExecuteTime": {
     "end_time": "2021-12-22T00:24:22.202601Z",
     "start_time": "2021-12-22T00:24:22.190776Z"
    }
   },
   "outputs": [
    {
     "data": {
      "text/plain": [
       "Index(['id', 'date', 'price', 'bedrooms', 'bathrooms', 'sqft_living',\n",
       "       'sqft_lot', 'floors', 'waterfront', 'view', 'condition', 'grade',\n",
       "       'sqft_above', 'sqft_basement', 'yr_built', 'yr_renovated', 'zipcode',\n",
       "       'lat', 'long', 'sqft_living15', 'sqft_lot15'],\n",
       "      dtype='object')"
      ]
     },
     "execution_count": 8,
     "metadata": {},
     "output_type": "execute_result"
    }
   ],
   "source": [
    "df1.columns"
   ]
  },
  {
   "cell_type": "markdown",
   "metadata": {},
   "source": [
    "# 1.2 Data Types"
   ]
  },
  {
   "cell_type": "code",
   "execution_count": 9,
   "metadata": {
    "ExecuteTime": {
     "end_time": "2021-12-22T00:24:22.234505Z",
     "start_time": "2021-12-22T00:24:22.209631Z"
    },
    "scrolled": true
   },
   "outputs": [
    {
     "data": {
      "text/plain": [
       "id                 int64\n",
       "date              object\n",
       "price            float64\n",
       "bedrooms           int64\n",
       "bathrooms        float64\n",
       "sqft_living        int64\n",
       "sqft_lot           int64\n",
       "floors           float64\n",
       "waterfront         int64\n",
       "view               int64\n",
       "condition          int64\n",
       "grade              int64\n",
       "sqft_above         int64\n",
       "sqft_basement      int64\n",
       "yr_built           int64\n",
       "yr_renovated       int64\n",
       "zipcode            int64\n",
       "lat              float64\n",
       "long             float64\n",
       "sqft_living15      int64\n",
       "sqft_lot15         int64\n",
       "dtype: object"
      ]
     },
     "execution_count": 9,
     "metadata": {},
     "output_type": "execute_result"
    }
   ],
   "source": [
    "df1.dtypes"
   ]
  },
  {
   "cell_type": "markdown",
   "metadata": {},
   "source": [
    "# 1.3 API (Adicionar Endereço Completo)"
   ]
  },
  {
   "cell_type": "code",
   "execution_count": 10,
   "metadata": {
    "ExecuteTime": {
     "end_time": "2021-12-22T00:24:22.255817Z",
     "start_time": "2021-12-22T00:24:22.237497Z"
    },
    "scrolled": true
   },
   "outputs": [],
   "source": [
    "#df1['query'] = df1[['lat', 'long']].apply( lambda x: str(x['lat']) + ',' + str(x['long']), axis = 1)\n",
    "#\n",
    "#df_query = df1.loc[:,('id', 'query')]"
   ]
  },
  {
   "cell_type": "code",
   "execution_count": 11,
   "metadata": {
    "ExecuteTime": {
     "end_time": "2021-12-22T00:24:22.272199Z",
     "start_time": "2021-12-22T00:24:22.259665Z"
    }
   },
   "outputs": [],
   "source": [
    "#Create Empty Columns\n",
    "\n",
    "#df1.loc[:,'place_id']      = 'NA'\n",
    "#df1.loc[:,'osm_type']      = 'NA'\n",
    "#df1.loc[:,'house_number']  = 'NA'\n",
    "#df1.loc[:,'road']          = 'NA'\n",
    "#df1.loc[:,'neighbourhood'] = 'NA'\n",
    "#df1.loc[:,'city']          = 'NA'\n",
    "#df1.loc[:,'county']        = 'NA'\n",
    "#df1.loc[:,'state']         = 'NA'\n",
    "#df1.loc[:,'country']       = 'NA'\n",
    "#df1.loc[:,'country_code']  = 'NA'"
   ]
  },
  {
   "cell_type": "code",
   "execution_count": 12,
   "metadata": {
    "ExecuteTime": {
     "end_time": "2021-12-22T00:24:22.289148Z",
     "start_time": "2021-12-22T00:24:22.275673Z"
    }
   },
   "outputs": [],
   "source": [
    "#p = Pool(4)\n",
    "#\n",
    "#\n",
    "#start = time.process_time()\n",
    "#\n",
    "##Arquivo 'defs' em .py\n",
    "#\n",
    "#import defs\n",
    "#\n",
    "#df_query[['house_number','road', 'neighbourhood', 'city', 'state', 'country']] = p.map ( defs.get_data, df_query.iterrows())\n",
    "#\n",
    "#end = time.process_time()\n",
    "#\n",
    "#print ('Time Elapsed: {}', end - start)\n",
    "\n",
    "#df_query = df_query.to_csv(\"df_query.csv\")"
   ]
  },
  {
   "cell_type": "code",
   "execution_count": 13,
   "metadata": {
    "ExecuteTime": {
     "end_time": "2021-12-22T00:24:22.385453Z",
     "start_time": "2021-12-22T00:24:22.292140Z"
    }
   },
   "outputs": [],
   "source": [
    "df_query = pd.read_csv('df_query.csv')"
   ]
  },
  {
   "cell_type": "code",
   "execution_count": 14,
   "metadata": {
    "ExecuteTime": {
     "end_time": "2021-12-22T00:24:22.401563Z",
     "start_time": "2021-12-22T00:24:22.387448Z"
    }
   },
   "outputs": [
    {
     "data": {
      "text/html": [
       "<div>\n",
       "<style scoped>\n",
       "    .dataframe tbody tr th:only-of-type {\n",
       "        vertical-align: middle;\n",
       "    }\n",
       "\n",
       "    .dataframe tbody tr th {\n",
       "        vertical-align: top;\n",
       "    }\n",
       "\n",
       "    .dataframe thead th {\n",
       "        text-align: right;\n",
       "    }\n",
       "</style>\n",
       "<table border=\"1\" class=\"dataframe\">\n",
       "  <thead>\n",
       "    <tr style=\"text-align: right;\">\n",
       "      <th></th>\n",
       "      <th>Unnamed: 0</th>\n",
       "      <th>id</th>\n",
       "      <th>query</th>\n",
       "      <th>house_number</th>\n",
       "      <th>road</th>\n",
       "      <th>neighbourhood</th>\n",
       "      <th>city</th>\n",
       "      <th>state</th>\n",
       "      <th>country</th>\n",
       "    </tr>\n",
       "  </thead>\n",
       "  <tbody>\n",
       "    <tr>\n",
       "      <th>0</th>\n",
       "      <td>0</td>\n",
       "      <td>7129300520</td>\n",
       "      <td>47.5112,-122.257</td>\n",
       "      <td>10012</td>\n",
       "      <td>61st Avenue South</td>\n",
       "      <td>Rainier Beach</td>\n",
       "      <td>Seattle</td>\n",
       "      <td>Washington</td>\n",
       "      <td>United States</td>\n",
       "    </tr>\n",
       "    <tr>\n",
       "      <th>1</th>\n",
       "      <td>1</td>\n",
       "      <td>6414100192</td>\n",
       "      <td>47.721,-122.319</td>\n",
       "      <td>837</td>\n",
       "      <td>Northeast 127th Street</td>\n",
       "      <td>NaN</td>\n",
       "      <td>Seattle</td>\n",
       "      <td>Washington</td>\n",
       "      <td>United States</td>\n",
       "    </tr>\n",
       "    <tr>\n",
       "      <th>2</th>\n",
       "      <td>2</td>\n",
       "      <td>5631500400</td>\n",
       "      <td>47.7379,-122.233</td>\n",
       "      <td>15109</td>\n",
       "      <td>81st Avenue Northeast</td>\n",
       "      <td>NaN</td>\n",
       "      <td>NaN</td>\n",
       "      <td>Washington</td>\n",
       "      <td>United States</td>\n",
       "    </tr>\n",
       "    <tr>\n",
       "      <th>3</th>\n",
       "      <td>3</td>\n",
       "      <td>2487200875</td>\n",
       "      <td>47.5208,-122.393</td>\n",
       "      <td>9236</td>\n",
       "      <td>Fauntleroy Way Southwest</td>\n",
       "      <td>NaN</td>\n",
       "      <td>Seattle</td>\n",
       "      <td>Washington</td>\n",
       "      <td>United States</td>\n",
       "    </tr>\n",
       "    <tr>\n",
       "      <th>4</th>\n",
       "      <td>4</td>\n",
       "      <td>1954400510</td>\n",
       "      <td>47.6168,-122.045</td>\n",
       "      <td>923</td>\n",
       "      <td>221st Avenue Northeast</td>\n",
       "      <td>NaN</td>\n",
       "      <td>NaN</td>\n",
       "      <td>Washington</td>\n",
       "      <td>United States</td>\n",
       "    </tr>\n",
       "  </tbody>\n",
       "</table>\n",
       "</div>"
      ],
      "text/plain": [
       "   Unnamed: 0          id             query house_number                      road  neighbourhood     city       state        country\n",
       "0           0  7129300520  47.5112,-122.257        10012         61st Avenue South  Rainier Beach  Seattle  Washington  United States\n",
       "1           1  6414100192   47.721,-122.319          837    Northeast 127th Street            NaN  Seattle  Washington  United States\n",
       "2           2  5631500400  47.7379,-122.233        15109     81st Avenue Northeast            NaN      NaN  Washington  United States\n",
       "3           3  2487200875  47.5208,-122.393         9236  Fauntleroy Way Southwest            NaN  Seattle  Washington  United States\n",
       "4           4  1954400510  47.6168,-122.045          923    221st Avenue Northeast            NaN      NaN  Washington  United States"
      ]
     },
     "execution_count": 14,
     "metadata": {},
     "output_type": "execute_result"
    }
   ],
   "source": [
    "df_query.head()"
   ]
  },
  {
   "cell_type": "markdown",
   "metadata": {},
   "source": [
    "# 1.4 Check NA"
   ]
  },
  {
   "cell_type": "code",
   "execution_count": 15,
   "metadata": {
    "ExecuteTime": {
     "end_time": "2021-12-22T00:24:22.433226Z",
     "start_time": "2021-12-22T00:24:22.403559Z"
    },
    "scrolled": true
   },
   "outputs": [
    {
     "data": {
      "text/plain": [
       "id               0\n",
       "date             0\n",
       "price            0\n",
       "bedrooms         0\n",
       "bathrooms        0\n",
       "sqft_living      0\n",
       "sqft_lot         0\n",
       "floors           0\n",
       "waterfront       0\n",
       "view             0\n",
       "condition        0\n",
       "grade            0\n",
       "sqft_above       0\n",
       "sqft_basement    0\n",
       "yr_built         0\n",
       "yr_renovated     0\n",
       "zipcode          0\n",
       "lat              0\n",
       "long             0\n",
       "sqft_living15    0\n",
       "sqft_lot15       0\n",
       "dtype: int64"
      ]
     },
     "execution_count": 15,
     "metadata": {},
     "output_type": "execute_result"
    }
   ],
   "source": [
    "df1.isnull().sum()#/df1.shape[0] * 100"
   ]
  },
  {
   "cell_type": "markdown",
   "metadata": {},
   "source": [
    "# 1.4 Descriptive Statistical"
   ]
  },
  {
   "cell_type": "code",
   "execution_count": 16,
   "metadata": {
    "ExecuteTime": {
     "end_time": "2021-12-22T00:24:22.449315Z",
     "start_time": "2021-12-22T00:24:22.436219Z"
    }
   },
   "outputs": [],
   "source": [
    "num_att = df1.select_dtypes( include = ['int64', 'float64'])"
   ]
  },
  {
   "cell_type": "markdown",
   "metadata": {},
   "source": [
    "# 1.4.1 Numerical Attributes"
   ]
  },
  {
   "cell_type": "code",
   "execution_count": 17,
   "metadata": {
    "ExecuteTime": {
     "end_time": "2021-12-22T00:24:22.638541Z",
     "start_time": "2021-12-22T00:24:22.452827Z"
    }
   },
   "outputs": [
    {
     "data": {
      "text/html": [
       "<div>\n",
       "<style scoped>\n",
       "    .dataframe tbody tr th:only-of-type {\n",
       "        vertical-align: middle;\n",
       "    }\n",
       "\n",
       "    .dataframe tbody tr th {\n",
       "        vertical-align: top;\n",
       "    }\n",
       "\n",
       "    .dataframe thead th {\n",
       "        text-align: right;\n",
       "    }\n",
       "</style>\n",
       "<table border=\"1\" class=\"dataframe\">\n",
       "  <thead>\n",
       "    <tr style=\"text-align: right;\">\n",
       "      <th></th>\n",
       "      <th>attributes</th>\n",
       "      <th>min</th>\n",
       "      <th>max</th>\n",
       "      <th>range</th>\n",
       "      <th>mean</th>\n",
       "      <th>median</th>\n",
       "      <th>std</th>\n",
       "      <th>skew</th>\n",
       "      <th>kurtosis</th>\n",
       "    </tr>\n",
       "  </thead>\n",
       "  <tbody>\n",
       "    <tr>\n",
       "      <th>0</th>\n",
       "      <td>id</td>\n",
       "      <td>1000102.000</td>\n",
       "      <td>9900000190.000</td>\n",
       "      <td>9899000088.000</td>\n",
       "      <td>4580301520.865</td>\n",
       "      <td>3904930410.000</td>\n",
       "      <td>2876499023.428</td>\n",
       "      <td>0.243</td>\n",
       "      <td>-1.261</td>\n",
       "    </tr>\n",
       "    <tr>\n",
       "      <th>1</th>\n",
       "      <td>price</td>\n",
       "      <td>75000.000</td>\n",
       "      <td>7700000.000</td>\n",
       "      <td>7625000.000</td>\n",
       "      <td>540088.142</td>\n",
       "      <td>450000.000</td>\n",
       "      <td>367118.703</td>\n",
       "      <td>4.024</td>\n",
       "      <td>34.586</td>\n",
       "    </tr>\n",
       "    <tr>\n",
       "      <th>2</th>\n",
       "      <td>bedrooms</td>\n",
       "      <td>0.000</td>\n",
       "      <td>33.000</td>\n",
       "      <td>33.000</td>\n",
       "      <td>3.371</td>\n",
       "      <td>3.000</td>\n",
       "      <td>0.930</td>\n",
       "      <td>1.974</td>\n",
       "      <td>49.064</td>\n",
       "    </tr>\n",
       "    <tr>\n",
       "      <th>3</th>\n",
       "      <td>bathrooms</td>\n",
       "      <td>0.000</td>\n",
       "      <td>8.000</td>\n",
       "      <td>8.000</td>\n",
       "      <td>2.115</td>\n",
       "      <td>2.250</td>\n",
       "      <td>0.770</td>\n",
       "      <td>0.511</td>\n",
       "      <td>1.280</td>\n",
       "    </tr>\n",
       "    <tr>\n",
       "      <th>4</th>\n",
       "      <td>sqft_living</td>\n",
       "      <td>290.000</td>\n",
       "      <td>13540.000</td>\n",
       "      <td>13250.000</td>\n",
       "      <td>2079.900</td>\n",
       "      <td>1910.000</td>\n",
       "      <td>918.420</td>\n",
       "      <td>1.472</td>\n",
       "      <td>5.243</td>\n",
       "    </tr>\n",
       "    <tr>\n",
       "      <th>5</th>\n",
       "      <td>sqft_lot</td>\n",
       "      <td>520.000</td>\n",
       "      <td>1651359.000</td>\n",
       "      <td>1650839.000</td>\n",
       "      <td>15106.968</td>\n",
       "      <td>7618.000</td>\n",
       "      <td>41419.553</td>\n",
       "      <td>13.060</td>\n",
       "      <td>285.078</td>\n",
       "    </tr>\n",
       "    <tr>\n",
       "      <th>6</th>\n",
       "      <td>floors</td>\n",
       "      <td>1.000</td>\n",
       "      <td>3.500</td>\n",
       "      <td>2.500</td>\n",
       "      <td>1.494</td>\n",
       "      <td>1.500</td>\n",
       "      <td>0.540</td>\n",
       "      <td>0.616</td>\n",
       "      <td>-0.485</td>\n",
       "    </tr>\n",
       "    <tr>\n",
       "      <th>7</th>\n",
       "      <td>waterfront</td>\n",
       "      <td>0.000</td>\n",
       "      <td>1.000</td>\n",
       "      <td>1.000</td>\n",
       "      <td>0.008</td>\n",
       "      <td>0.000</td>\n",
       "      <td>0.087</td>\n",
       "      <td>11.385</td>\n",
       "      <td>127.632</td>\n",
       "    </tr>\n",
       "    <tr>\n",
       "      <th>8</th>\n",
       "      <td>view</td>\n",
       "      <td>0.000</td>\n",
       "      <td>4.000</td>\n",
       "      <td>4.000</td>\n",
       "      <td>0.234</td>\n",
       "      <td>0.000</td>\n",
       "      <td>0.766</td>\n",
       "      <td>3.396</td>\n",
       "      <td>10.893</td>\n",
       "    </tr>\n",
       "    <tr>\n",
       "      <th>9</th>\n",
       "      <td>condition</td>\n",
       "      <td>1.000</td>\n",
       "      <td>5.000</td>\n",
       "      <td>4.000</td>\n",
       "      <td>3.409</td>\n",
       "      <td>3.000</td>\n",
       "      <td>0.651</td>\n",
       "      <td>1.033</td>\n",
       "      <td>0.526</td>\n",
       "    </tr>\n",
       "    <tr>\n",
       "      <th>10</th>\n",
       "      <td>grade</td>\n",
       "      <td>1.000</td>\n",
       "      <td>13.000</td>\n",
       "      <td>12.000</td>\n",
       "      <td>7.657</td>\n",
       "      <td>7.000</td>\n",
       "      <td>1.175</td>\n",
       "      <td>0.771</td>\n",
       "      <td>1.191</td>\n",
       "    </tr>\n",
       "    <tr>\n",
       "      <th>11</th>\n",
       "      <td>sqft_above</td>\n",
       "      <td>290.000</td>\n",
       "      <td>9410.000</td>\n",
       "      <td>9120.000</td>\n",
       "      <td>1788.391</td>\n",
       "      <td>1560.000</td>\n",
       "      <td>828.072</td>\n",
       "      <td>1.447</td>\n",
       "      <td>3.402</td>\n",
       "    </tr>\n",
       "    <tr>\n",
       "      <th>12</th>\n",
       "      <td>sqft_basement</td>\n",
       "      <td>0.000</td>\n",
       "      <td>4820.000</td>\n",
       "      <td>4820.000</td>\n",
       "      <td>291.509</td>\n",
       "      <td>0.000</td>\n",
       "      <td>442.565</td>\n",
       "      <td>1.578</td>\n",
       "      <td>2.716</td>\n",
       "    </tr>\n",
       "    <tr>\n",
       "      <th>13</th>\n",
       "      <td>yr_built</td>\n",
       "      <td>1900.000</td>\n",
       "      <td>2015.000</td>\n",
       "      <td>115.000</td>\n",
       "      <td>1971.005</td>\n",
       "      <td>1975.000</td>\n",
       "      <td>29.373</td>\n",
       "      <td>-0.470</td>\n",
       "      <td>-0.657</td>\n",
       "    </tr>\n",
       "    <tr>\n",
       "      <th>14</th>\n",
       "      <td>yr_renovated</td>\n",
       "      <td>0.000</td>\n",
       "      <td>2015.000</td>\n",
       "      <td>2015.000</td>\n",
       "      <td>84.402</td>\n",
       "      <td>0.000</td>\n",
       "      <td>401.670</td>\n",
       "      <td>4.549</td>\n",
       "      <td>18.701</td>\n",
       "    </tr>\n",
       "    <tr>\n",
       "      <th>15</th>\n",
       "      <td>zipcode</td>\n",
       "      <td>98001.000</td>\n",
       "      <td>98199.000</td>\n",
       "      <td>198.000</td>\n",
       "      <td>98077.940</td>\n",
       "      <td>98065.000</td>\n",
       "      <td>53.504</td>\n",
       "      <td>0.406</td>\n",
       "      <td>-0.853</td>\n",
       "    </tr>\n",
       "    <tr>\n",
       "      <th>16</th>\n",
       "      <td>lat</td>\n",
       "      <td>47.156</td>\n",
       "      <td>47.778</td>\n",
       "      <td>0.622</td>\n",
       "      <td>47.560</td>\n",
       "      <td>47.572</td>\n",
       "      <td>0.139</td>\n",
       "      <td>-0.485</td>\n",
       "      <td>-0.676</td>\n",
       "    </tr>\n",
       "    <tr>\n",
       "      <th>17</th>\n",
       "      <td>long</td>\n",
       "      <td>-122.519</td>\n",
       "      <td>-121.315</td>\n",
       "      <td>1.204</td>\n",
       "      <td>-122.214</td>\n",
       "      <td>-122.230</td>\n",
       "      <td>0.141</td>\n",
       "      <td>0.885</td>\n",
       "      <td>1.050</td>\n",
       "    </tr>\n",
       "    <tr>\n",
       "      <th>18</th>\n",
       "      <td>sqft_living15</td>\n",
       "      <td>399.000</td>\n",
       "      <td>6210.000</td>\n",
       "      <td>5811.000</td>\n",
       "      <td>1986.552</td>\n",
       "      <td>1840.000</td>\n",
       "      <td>685.375</td>\n",
       "      <td>1.108</td>\n",
       "      <td>1.597</td>\n",
       "    </tr>\n",
       "    <tr>\n",
       "      <th>19</th>\n",
       "      <td>sqft_lot15</td>\n",
       "      <td>651.000</td>\n",
       "      <td>871200.000</td>\n",
       "      <td>870549.000</td>\n",
       "      <td>12768.456</td>\n",
       "      <td>7620.000</td>\n",
       "      <td>27303.548</td>\n",
       "      <td>9.507</td>\n",
       "      <td>150.763</td>\n",
       "    </tr>\n",
       "  </tbody>\n",
       "</table>\n",
       "</div>"
      ],
      "text/plain": [
       "       attributes         min            max          range           mean         median            std   skew  kurtosis\n",
       "0              id 1000102.000 9900000190.000 9899000088.000 4580301520.865 3904930410.000 2876499023.428  0.243    -1.261\n",
       "1           price   75000.000    7700000.000    7625000.000     540088.142     450000.000     367118.703  4.024    34.586\n",
       "2        bedrooms       0.000         33.000         33.000          3.371          3.000          0.930  1.974    49.064\n",
       "3       bathrooms       0.000          8.000          8.000          2.115          2.250          0.770  0.511     1.280\n",
       "4     sqft_living     290.000      13540.000      13250.000       2079.900       1910.000        918.420  1.472     5.243\n",
       "5        sqft_lot     520.000    1651359.000    1650839.000      15106.968       7618.000      41419.553 13.060   285.078\n",
       "6          floors       1.000          3.500          2.500          1.494          1.500          0.540  0.616    -0.485\n",
       "7      waterfront       0.000          1.000          1.000          0.008          0.000          0.087 11.385   127.632\n",
       "8            view       0.000          4.000          4.000          0.234          0.000          0.766  3.396    10.893\n",
       "9       condition       1.000          5.000          4.000          3.409          3.000          0.651  1.033     0.526\n",
       "10          grade       1.000         13.000         12.000          7.657          7.000          1.175  0.771     1.191\n",
       "11     sqft_above     290.000       9410.000       9120.000       1788.391       1560.000        828.072  1.447     3.402\n",
       "12  sqft_basement       0.000       4820.000       4820.000        291.509          0.000        442.565  1.578     2.716\n",
       "13       yr_built    1900.000       2015.000        115.000       1971.005       1975.000         29.373 -0.470    -0.657\n",
       "14   yr_renovated       0.000       2015.000       2015.000         84.402          0.000        401.670  4.549    18.701\n",
       "15        zipcode   98001.000      98199.000        198.000      98077.940      98065.000         53.504  0.406    -0.853\n",
       "16            lat      47.156         47.778          0.622         47.560         47.572          0.139 -0.485    -0.676\n",
       "17           long    -122.519       -121.315          1.204       -122.214       -122.230          0.141  0.885     1.050\n",
       "18  sqft_living15     399.000       6210.000       5811.000       1986.552       1840.000        685.375  1.108     1.597\n",
       "19     sqft_lot15     651.000     871200.000     870549.000      12768.456       7620.000      27303.548  9.507   150.763"
      ]
     },
     "execution_count": 17,
     "metadata": {},
     "output_type": "execute_result"
    }
   ],
   "source": [
    "# Central Tendency - Mean, Median\n",
    "\n",
    "ct1 = pd.DataFrame (num_att.apply (np.mean)).T\n",
    "ct2 = pd.DataFrame (num_att.apply (np.median)).T\n",
    "\n",
    "#Dispersion - std, min, max, range, skew, kurtosis\n",
    "\n",
    "d1 = pd.DataFrame (num_att.apply (np.std)).T\n",
    "d2 = pd.DataFrame (num_att.apply (min)).T\n",
    "d3 = pd.DataFrame (num_att.apply (max)).T\n",
    "d4 = pd.DataFrame (num_att.apply (lambda x: x.max() - x.min())).T\n",
    "d5 = pd.DataFrame (num_att.apply (lambda x: x.skew())).T\n",
    "d6 = pd.DataFrame (num_att.apply (lambda x: x.kurtosis())).T\n",
    "\n",
    "# Concatenate\n",
    "\n",
    "t = pd.concat ((d2, d3, d4, ct1, ct2, d1, d5, d6)).T.reset_index()\n",
    "t.columns =['attributes', 'min', 'max', 'range', 'mean', 'median', 'std', 'skew', 'kurtosis']\n",
    "\n",
    "t"
   ]
  },
  {
   "cell_type": "markdown",
   "metadata": {},
   "source": [
    "# 1.5 Modificações Para Alterações de Variáveis (Usabilidade)"
   ]
  },
  {
   "cell_type": "code",
   "execution_count": 18,
   "metadata": {
    "ExecuteTime": {
     "end_time": "2021-12-22T00:24:24.768493Z",
     "start_time": "2021-12-22T00:24:22.641574Z"
    }
   },
   "outputs": [],
   "source": [
    "##Considerações de Old_House e New_House\n",
    "#Imóvel com data a partir de 01-01-2015: 'new_house'\n",
    "#Imóvel com data anterior à 01-01-2015: 'old_house'\n",
    "\n",
    "df1['date'] = pd.to_datetime(df1['date'], format = '%Y-%m-%d')\n",
    "df1['house_age'] = df1['date'].apply( lambda x: 'new_house' if x > pd.to_datetime('2015-01-01',format = '%Y-%m-%d')  else 'old_house')"
   ]
  },
  {
   "cell_type": "code",
   "execution_count": 19,
   "metadata": {
    "ExecuteTime": {
     "end_time": "2021-12-22T00:24:24.783772Z",
     "start_time": "2021-12-22T00:24:24.769490Z"
    }
   },
   "outputs": [],
   "source": [
    "##Considerações sobre tipo de Quarto\n",
    "#Imóvel com um quarto: 'Studio'\n",
    "#Imóvel com dois quartos: 'Apartament'\n",
    "#Imóvel com mais de dois quartos: 'House'\n",
    "#Imóvel com valor '0': 'No Bedroom'\n",
    "\n",
    "df1['dormitory_type'] = df1['bedrooms'].apply(lambda x: 'studio' if x == 1 else\n",
    "                                                        'apartament' if x == 2 else\n",
    "                                                        'house' if x > 2 else \"no bedroom\" )"
   ]
  },
  {
   "cell_type": "code",
   "execution_count": 20,
   "metadata": {
    "ExecuteTime": {
     "end_time": "2021-12-22T00:24:24.818460Z",
     "start_time": "2021-12-22T00:24:24.785109Z"
    }
   },
   "outputs": [],
   "source": [
    "##Considerações sobre Conservação do Apartamento\n",
    "#Imóvel com condição 1: 'bad'\n",
    "#Imóvel com condição 2: 'bad'\n",
    "#Imóvel com condição 3: 'regular'\n",
    "#Imóvel com condição 4: 'regular'\n",
    "#Imóvel com condição 5: 'good'\n",
    "\n",
    "\n",
    "df1['condition_type'] = df1['condition'].apply(lambda x: 'bad' if x <= 2 else\n",
    "                                                         'regular' if (x == 3) | (x == 4) else 'good')\n",
    "df1['condition'] = df1['condition'].astype('str')"
   ]
  },
  {
   "cell_type": "code",
   "execution_count": 21,
   "metadata": {
    "ExecuteTime": {
     "end_time": "2021-12-22T00:24:24.834658Z",
     "start_time": "2021-12-22T00:24:24.819457Z"
    }
   },
   "outputs": [],
   "source": [
    "#Modificação de Colunas\n",
    "\n",
    "df1 = df1.drop(['sqft_living15', 'sqft_lot15'], axis = 1)"
   ]
  },
  {
   "cell_type": "code",
   "execution_count": 22,
   "metadata": {
    "ExecuteTime": {
     "end_time": "2021-12-22T00:24:28.696647Z",
     "start_time": "2021-12-22T00:24:24.836041Z"
    }
   },
   "outputs": [],
   "source": [
    "#Transformação para Datas\n",
    "\n",
    "df1['yr_built'] = pd.to_datetime(df1['yr_built'], format = '%Y').dt.year\n",
    "\n",
    "df1['yr_renovated'] = df1['yr_renovated'].apply (lambda x: pd.to_datetime ('1900-01-01', format = '%Y-%m-%d') if x == 0 else pd.to_datetime (x, format ='%Y'))"
   ]
  },
  {
   "cell_type": "code",
   "execution_count": 23,
   "metadata": {
    "ExecuteTime": {
     "end_time": "2021-12-22T00:24:28.746921Z",
     "start_time": "2021-12-22T00:24:28.698642Z"
    }
   },
   "outputs": [],
   "source": [
    "##Considerações sobre Level de Valores\n",
    "#Imóvel 0 até 321.950: 0\n",
    "#Imóvel 321.950 até 450.000: 1\n",
    "#Imóvel 450.000 até 645.000: 2\n",
    "#Imóvel acima de 645.000: 3\n",
    "\n",
    "df1['level'] = 'standard'\n",
    "       \n",
    "df1['level'] = df1['price'].apply ( lambda x: 0 if x < 321950 else\n",
    "                                              1 if (x > 321950) & (x < 450000) else\n",
    "                                              2 if (x > 450000) & (x < 645000) else 3)\n",
    "\n",
    "df1['level'] = df1['level'].astype(int)"
   ]
  },
  {
   "cell_type": "code",
   "execution_count": 24,
   "metadata": {
    "ExecuteTime": {
     "end_time": "2021-12-22T00:24:28.779892Z",
     "start_time": "2021-12-22T00:24:28.748946Z"
    }
   },
   "outputs": [],
   "source": [
    "# Coluna \"Yes/No\" WaterFront\n",
    "\n",
    "df1['is_waterfront'] =  df1['waterfront'].apply( lambda x: 'Yes' if x == 1 else 'No')"
   ]
  },
  {
   "cell_type": "code",
   "execution_count": 25,
   "metadata": {
    "ExecuteTime": {
     "end_time": "2021-12-22T00:24:28.813027Z",
     "start_time": "2021-12-22T00:24:28.784539Z"
    }
   },
   "outputs": [],
   "source": [
    "## Size das Salas de Estar\n",
    "#Imóvel 0 até 1.427: 0\n",
    "#Imóvel 1.427 até 1.910: 1\n",
    "#Imóvel 1.910 até 2.550: 2\n",
    "#Imóvel acima de 2.550: 3\n",
    "\n",
    "df1['size'] = 'standard'\n",
    "\n",
    "df1['size'] = df1['sqft_living'].apply ( lambda x: 's00' if (x >= 0) & (x <= 1427) else\n",
    "                                            's01' if (x > 1427) & (x <= 1910) else\n",
    "                                            's02' if (x > 1910) & (x <= 2550) else 's03')"
   ]
  },
  {
   "cell_type": "code",
   "execution_count": 26,
   "metadata": {
    "ExecuteTime": {
     "end_time": "2021-12-22T00:24:28.829022Z",
     "start_time": "2021-12-22T00:24:28.817015Z"
    },
    "scrolled": true
   },
   "outputs": [
    {
     "name": "stdout",
     "output_type": "stream",
     "text": [
      "[ 3  2  4  5  1  6  7  0  8  9 11 10 33]\n",
      "1.000    10680\n",
      "2.000     8241\n",
      "1.500     1910\n",
      "3.000      613\n",
      "2.500      161\n",
      "3.500        8\n",
      "Name: floors, dtype: int64\n"
     ]
    }
   ],
   "source": [
    "##Inconformidade de Valores\n",
    "\n",
    "print(df1['bedrooms'].unique())\n",
    "print(df1['floors'].value_counts())"
   ]
  },
  {
   "cell_type": "code",
   "execution_count": 27,
   "metadata": {
    "ExecuteTime": {
     "end_time": "2021-12-22T00:24:28.878343Z",
     "start_time": "2021-12-22T00:24:28.836547Z"
    }
   },
   "outputs": [],
   "source": [
    "df1 = df1.drop(df1[df1['bedrooms'] > 11].index)"
   ]
  },
  {
   "cell_type": "code",
   "execution_count": 28,
   "metadata": {
    "ExecuteTime": {
     "end_time": "2021-12-22T00:24:28.896308Z",
     "start_time": "2021-12-22T00:24:28.882123Z"
    }
   },
   "outputs": [],
   "source": [
    "df1['floors'] = df1['floors'].apply(np.ceil)"
   ]
  },
  {
   "cell_type": "code",
   "execution_count": 29,
   "metadata": {
    "ExecuteTime": {
     "end_time": "2021-12-22T00:24:28.912862Z",
     "start_time": "2021-12-22T00:24:28.900130Z"
    },
    "scrolled": true
   },
   "outputs": [],
   "source": [
    "df1['bathrooms'] = df1['bathrooms'].apply(np.ceil)"
   ]
  },
  {
   "cell_type": "code",
   "execution_count": 30,
   "metadata": {
    "ExecuteTime": {
     "end_time": "2021-12-22T00:24:30.485058Z",
     "start_time": "2021-12-22T00:24:28.916850Z"
    }
   },
   "outputs": [],
   "source": [
    "df_clean = df1.to_csv('df_clean')"
   ]
  },
  {
   "cell_type": "code",
   "execution_count": 31,
   "metadata": {
    "ExecuteTime": {
     "end_time": "2021-12-22T00:24:30.594286Z",
     "start_time": "2021-12-22T00:24:30.487568Z"
    }
   },
   "outputs": [],
   "source": [
    "df_clean = pd.read_csv('df_clean')"
   ]
  },
  {
   "cell_type": "markdown",
   "metadata": {},
   "source": [
    "# 3.0 Perguntas CEO"
   ]
  },
  {
   "cell_type": "markdown",
   "metadata": {},
   "source": [
    "## 1. Quantas casas estão disponíveis para compra?"
   ]
  },
  {
   "cell_type": "code",
   "execution_count": 32,
   "metadata": {
    "ExecuteTime": {
     "end_time": "2021-12-22T00:24:30.609699Z",
     "start_time": "2021-12-22T00:24:30.597278Z"
    }
   },
   "outputs": [
    {
     "name": "stdout",
     "output_type": "stream",
     "text": [
      "O número de casas disponíveis é de 21435.\n"
     ]
    }
   ],
   "source": [
    "houses = len( df1['id'].unique())\n",
    "print ('O número de casas disponíveis é de {}.'.format (houses))"
   ]
  },
  {
   "cell_type": "markdown",
   "metadata": {},
   "source": [
    "## 2. Quantos atributos as casas possuem?"
   ]
  },
  {
   "cell_type": "code",
   "execution_count": 33,
   "metadata": {
    "ExecuteTime": {
     "end_time": "2021-12-22T00:24:30.625288Z",
     "start_time": "2021-12-22T00:24:30.613465Z"
    }
   },
   "outputs": [
    {
     "name": "stdout",
     "output_type": "stream",
     "text": [
      "O número de atributos é: 23.\n"
     ]
    }
   ],
   "source": [
    "attribut = df1.drop(['id', 'date'], axis = 1)\n",
    "a = len(attribut.columns)\n",
    "\n",
    "print ('O número de atributos é: {}.'.format (a))"
   ]
  },
  {
   "cell_type": "markdown",
   "metadata": {},
   "source": [
    "## 3. Quais são os atributos das casas?"
   ]
  },
  {
   "cell_type": "code",
   "execution_count": 34,
   "metadata": {
    "ExecuteTime": {
     "end_time": "2021-12-22T00:24:30.641233Z",
     "start_time": "2021-12-22T00:24:30.627283Z"
    },
    "scrolled": true
   },
   "outputs": [
    {
     "data": {
      "text/plain": [
       "Index(['price', 'bedrooms', 'bathrooms', 'sqft_living', 'sqft_lot', 'floors',\n",
       "       'waterfront', 'view', 'condition', 'grade', 'sqft_above',\n",
       "       'sqft_basement', 'yr_built', 'yr_renovated', 'zipcode', 'lat', 'long',\n",
       "       'house_age', 'dormitory_type', 'condition_type', 'level',\n",
       "       'is_waterfront', 'size'],\n",
       "      dtype='object')"
      ]
     },
     "execution_count": 34,
     "metadata": {},
     "output_type": "execute_result"
    }
   ],
   "source": [
    "a = attribut.columns\n",
    "a"
   ]
  },
  {
   "cell_type": "markdown",
   "metadata": {},
   "source": [
    "## 4. Qual a casa mais cara?"
   ]
  },
  {
   "cell_type": "code",
   "execution_count": 35,
   "metadata": {
    "ExecuteTime": {
     "end_time": "2021-12-22T00:24:30.673207Z",
     "start_time": "2021-12-22T00:24:30.642468Z"
    }
   },
   "outputs": [
    {
     "name": "stdout",
     "output_type": "stream",
     "text": [
      "A casa mais cara é a de ID: 6762700020 e valor: 7700000.0.\n"
     ]
    }
   ],
   "source": [
    "a = df1[['id', 'price']].sort_values ( 'price', ascending = False).reset_index(drop = True)['id'][0]\n",
    "b = df1[['id', 'price']].sort_values ( 'price', ascending = False).reset_index(drop = True)['price'][0]\n",
    "\n",
    "print ('A casa mais cara é a de ID: {} e valor: {}.'.format (a,b))"
   ]
  },
  {
   "cell_type": "markdown",
   "metadata": {},
   "source": [
    "## 5. Qual a casa com o maior número de quartos?"
   ]
  },
  {
   "cell_type": "code",
   "execution_count": 36,
   "metadata": {
    "ExecuteTime": {
     "end_time": "2021-12-22T00:24:30.710148Z",
     "start_time": "2021-12-22T00:24:30.675658Z"
    }
   },
   "outputs": [
    {
     "name": "stdout",
     "output_type": "stream",
     "text": [
      "A casa com o maior número de quartos é a de ID: 1773100755 e possui: 11 quartos.\n"
     ]
    }
   ],
   "source": [
    "a = df1[['id', 'bedrooms']].sort_values ( 'bedrooms', ascending = False).reset_index(drop = True)['id'][0]\n",
    "b = df1[['id', 'bedrooms']].sort_values ( 'bedrooms', ascending = False).reset_index(drop = True)['bedrooms'][0]\n",
    "\n",
    "print ('A casa com o maior número de quartos é a de ID: {} e possui: {} quartos.'.format (a,b))"
   ]
  },
  {
   "cell_type": "markdown",
   "metadata": {},
   "source": [
    "## 6. Quantas casas possuem 2 banheiros? E qual o valor médio destas?"
   ]
  },
  {
   "cell_type": "code",
   "execution_count": 37,
   "metadata": {
    "ExecuteTime": {
     "end_time": "2021-12-22T00:24:30.741369Z",
     "start_time": "2021-12-22T00:24:30.715781Z"
    }
   },
   "outputs": [
    {
     "name": "stdout",
     "output_type": "stream",
     "text": [
      "O número de casas que possuem 2 banheiros é de 6432 e o valor médio destas estão por volta de 445752.69.\n"
     ]
    }
   ],
   "source": [
    "a = len(df1.loc[df1['bathrooms'] == 2, ['id', 'bathrooms']])\n",
    "b = np.round(df1.loc[df1['bathrooms'] == 2, 'price'].mean(), 2)\n",
    "\n",
    "print( 'O número de casas que possuem 2 banheiros é de {} e o valor médio destas estão por volta de {}.'. format(a,b))"
   ]
  },
  {
   "cell_type": "markdown",
   "metadata": {},
   "source": [
    "##  7. Qual o preço mínimo entre as casas com 3 quartos?"
   ]
  },
  {
   "cell_type": "code",
   "execution_count": 38,
   "metadata": {
    "ExecuteTime": {
     "end_time": "2021-12-22T00:24:30.756818Z",
     "start_time": "2021-12-22T00:24:30.746868Z"
    },
    "scrolled": true
   },
   "outputs": [
    {
     "name": "stdout",
     "output_type": "stream",
     "text": [
      "O preço mínimo de casas que possuem 3 quartos é de 82000.0.\n"
     ]
    }
   ],
   "source": [
    "a = df1.loc[df1['bedrooms'] == 3, 'price'].min()\n",
    "\n",
    "print( 'O preço mínimo de casas que possuem 3 quartos é de {}.'. format(a))"
   ]
  },
  {
   "cell_type": "markdown",
   "metadata": {},
   "source": [
    "## 8. Quantas casas possuem mais de 300 metros quadrados na sala de estar e têm mais de 2 banheiros?"
   ]
  },
  {
   "cell_type": "code",
   "execution_count": 39,
   "metadata": {
    "ExecuteTime": {
     "end_time": "2021-12-22T00:24:30.793505Z",
     "start_time": "2021-12-22T00:24:30.760312Z"
    }
   },
   "outputs": [
    {
     "name": "stdout",
     "output_type": "stream",
     "text": [
      "O número de casas que possuem 300 metros quadrados na sala de estar e possuem 2 banheiros é de 2249.\n"
     ]
    }
   ],
   "source": [
    "df1['m2'] = df1['sqft_living'] *0.093\n",
    "\n",
    "a = len(df1.loc[(df1['m2'] > 300) & (df1['bedrooms'] > 2), 'id'])\n",
    "\n",
    "print( 'O número de casas que possuem 300 metros quadrados na sala de estar e possuem 2 banheiros é de {}.'. format(a))"
   ]
  },
  {
   "cell_type": "markdown",
   "metadata": {},
   "source": [
    "## 9. Quantas casas possuem mais de 2 andares? E quantos possuem dois andares?"
   ]
  },
  {
   "cell_type": "code",
   "execution_count": 40,
   "metadata": {
    "ExecuteTime": {
     "end_time": "2021-12-22T00:24:30.809870Z",
     "start_time": "2021-12-22T00:24:30.795540Z"
    }
   },
   "outputs": [
    {
     "name": "stdout",
     "output_type": "stream",
     "text": [
      "O número de casas que possuem mais de 2 andares é de 782 e das que possuem dois andares é de 10151.\n"
     ]
    }
   ],
   "source": [
    "a = len (df1.loc[df1['floors']>2, 'id'])\n",
    "b = len (df1.loc[df1['floors'] == 2, 'id'])\n",
    "\n",
    "print( 'O número de casas que possuem mais de 2 andares é de {} e das que possuem dois andares é de {}.'. format(a,b))"
   ]
  },
  {
   "cell_type": "markdown",
   "metadata": {},
   "source": [
    "## 10. Quantas casas tem vista para o mar/lago?"
   ]
  },
  {
   "cell_type": "code",
   "execution_count": 41,
   "metadata": {
    "ExecuteTime": {
     "end_time": "2021-12-22T00:24:30.826044Z",
     "start_time": "2021-12-22T00:24:30.811866Z"
    }
   },
   "outputs": [
    {
     "name": "stdout",
     "output_type": "stream",
     "text": [
      "O número de casas que possuem vista para o mar/lago é de 163.\n"
     ]
    }
   ],
   "source": [
    "a = len (df1.loc[df1['waterfront'] == 1, 'id'])\n",
    "print( 'O número de casas que possuem vista para o mar/lago é de {}.'. format(a))"
   ]
  },
  {
   "cell_type": "markdown",
   "metadata": {},
   "source": [
    "## 11. Das casas com vista para o mar/lago, quantas tem 3 quartos?"
   ]
  },
  {
   "cell_type": "code",
   "execution_count": 42,
   "metadata": {
    "ExecuteTime": {
     "end_time": "2021-12-22T00:24:30.841948Z",
     "start_time": "2021-12-22T00:24:30.829036Z"
    }
   },
   "outputs": [
    {
     "name": "stdout",
     "output_type": "stream",
     "text": [
      "O número de casas que possuem vista para o mar/lago e possuem 3 quartos é de 64.\n"
     ]
    }
   ],
   "source": [
    "a = len(df1.loc[(df1['waterfront'] == 1) & (df1['bedrooms'] == 3), 'id'])\n",
    "\n",
    "print( 'O número de casas que possuem vista para o mar/lago e possuem 3 quartos é de {}.'. format(a))"
   ]
  },
  {
   "cell_type": "markdown",
   "metadata": {},
   "source": [
    "## 12. Qual a data do imóvel mais antigo? E qual a data mais antiga de renovação?"
   ]
  },
  {
   "cell_type": "code",
   "execution_count": 43,
   "metadata": {
    "ExecuteTime": {
     "end_time": "2021-12-22T00:24:30.877311Z",
     "start_time": "2021-12-22T00:24:30.846783Z"
    }
   },
   "outputs": [
    {
     "name": "stdout",
     "output_type": "stream",
     "text": [
      "A data do imóvel mais antigo é de 1900 e data do imóvel que tem a reforma mais antiga é de 1934.\n"
     ]
    }
   ],
   "source": [
    "a = df1['yr_built'].min()\n",
    "b = df1.loc[df1['yr_renovated'] > pd.to_datetime('1900-01-01',format = '%Y-%m-%d'), 'yr_renovated'].dt.year.min()\n",
    "\n",
    "print( 'A data do imóvel mais antigo é de {} e data do imóvel que tem a reforma mais antiga é de {}.'. format(a,b))"
   ]
  },
  {
   "cell_type": "markdown",
   "metadata": {},
   "source": [
    "## 13. Qual o número máximo de andares e quantos casas possuem este número?"
   ]
  },
  {
   "cell_type": "code",
   "execution_count": 44,
   "metadata": {
    "ExecuteTime": {
     "end_time": "2021-12-22T00:24:30.909751Z",
     "start_time": "2021-12-22T00:24:30.879344Z"
    },
    "scrolled": true
   },
   "outputs": [
    {
     "name": "stdout",
     "output_type": "stream",
     "text": [
      "O número máximo de andares é de 4.0 e 0 imóveis possuem este número.\n"
     ]
    }
   ],
   "source": [
    "a = df1['floors'].unique().max()\n",
    "b = len(df1[df1['floors'] == 3.5][['floors', 'id']])\n",
    "\n",
    "print( 'O número máximo de andares é de {} e {} imóveis possuem este número.'. format(a,b))"
   ]
  },
  {
   "cell_type": "markdown",
   "metadata": {},
   "source": [
    "## 14. Quantos imóveis estão com a condição regular?"
   ]
  },
  {
   "cell_type": "code",
   "execution_count": 45,
   "metadata": {
    "ExecuteTime": {
     "end_time": "2021-12-22T00:24:30.943721Z",
     "start_time": "2021-12-22T00:24:30.913453Z"
    },
    "scrolled": true
   },
   "outputs": [
    {
     "name": "stdout",
     "output_type": "stream",
     "text": [
      "O número imóveis que estão com a condição regular é de 19710.\n"
     ]
    }
   ],
   "source": [
    "a = df1.loc[df1['condition_type'] == 'regular', 'id'].size\n",
    "\n",
    "print( 'O número imóveis que estão com a condição regular é de {}.'. format(a))"
   ]
  },
  {
   "cell_type": "markdown",
   "metadata": {},
   "source": [
    "## 15. Quantos imóveis estão com a condição 'bad' e possuem vista para mar/lago?"
   ]
  },
  {
   "cell_type": "code",
   "execution_count": 46,
   "metadata": {
    "ExecuteTime": {
     "end_time": "2021-12-22T00:24:30.976775Z",
     "start_time": "2021-12-22T00:24:30.944722Z"
    },
    "scrolled": true
   },
   "outputs": [
    {
     "name": "stdout",
     "output_type": "stream",
     "text": [
      "O número imóveis que estão com a condição \"bad\" e possuem vista para mar/lago é de 2.\n"
     ]
    }
   ],
   "source": [
    "a = df1.loc[(df1['condition_type'] == 'bad')& (df1['waterfront'] == 1), 'id'].size\n",
    "\n",
    "print( 'O número imóveis que estão com a condição \"bad\" e possuem vista para mar/lago é de {}.'. format(a))"
   ]
  },
  {
   "cell_type": "markdown",
   "metadata": {},
   "source": [
    "## 16. Quantos imóveis estão com a condição 'good' e são consideradas 'new_house'?"
   ]
  },
  {
   "cell_type": "code",
   "execution_count": 47,
   "metadata": {
    "ExecuteTime": {
     "end_time": "2021-12-22T00:24:31.008951Z",
     "start_time": "2021-12-22T00:24:30.979764Z"
    }
   },
   "outputs": [
    {
     "name": "stdout",
     "output_type": "stream",
     "text": [
      "O número imóveis que estão com a condição \"good\" e são consideradas \"new_house\" é de 423.\n"
     ]
    }
   ],
   "source": [
    "a = df1.loc[(df1['condition_type'] == 'good')& (df1['house_age'] == 'new_house'), 'id'].size\n",
    "\n",
    "print( 'O número imóveis que estão com a condição \"good\" e são consideradas \"new_house\" é de {}.'. format(a))"
   ]
  },
  {
   "cell_type": "markdown",
   "metadata": {},
   "source": [
    "## 17. Qual o valor do imóvel mais caro do tipo 'studio'?"
   ]
  },
  {
   "cell_type": "code",
   "execution_count": 48,
   "metadata": {
    "ExecuteTime": {
     "end_time": "2021-12-22T00:24:31.041482Z",
     "start_time": "2021-12-22T00:24:31.013524Z"
    },
    "scrolled": true
   },
   "outputs": [
    {
     "name": "stdout",
     "output_type": "stream",
     "text": [
      "O valor do imóvel mais caro do tipo \"studio\" é de 1247000.0.\n"
     ]
    }
   ],
   "source": [
    "a = df1.loc[df1['dormitory_type'] == 'studio', 'price'].max()\n",
    "\n",
    "print( 'O valor do imóvel mais caro do tipo \"studio\" é de {}.'. format(a))"
   ]
  },
  {
   "cell_type": "markdown",
   "metadata": {},
   "source": [
    "## 18. Quantos imóveis do tipo \"apartment\" foram reformados em 2015?"
   ]
  },
  {
   "cell_type": "code",
   "execution_count": 49,
   "metadata": {
    "ExecuteTime": {
     "end_time": "2021-12-22T00:24:31.057231Z",
     "start_time": "2021-12-22T00:24:31.044512Z"
    },
    "scrolled": true
   },
   "outputs": [
    {
     "name": "stdout",
     "output_type": "stream",
     "text": [
      "A quantidade de imóveis do tipo \"apartment\" que foram reformados no ano de 2015 é de 16.\n"
     ]
    }
   ],
   "source": [
    "a = df1.loc[df1['yr_renovated'] == pd.to_datetime ('2015-01-01'), 'id'].size\n",
    "\n",
    "print( 'A quantidade de imóveis do tipo \"apartment\" que foram reformados no ano de 2015 é de {}.'. format(a))"
   ]
  },
  {
   "cell_type": "markdown",
   "metadata": {},
   "source": [
    "## 19. Qual o maior número de quartos que um imóvel do tipo \"house\" possui?"
   ]
  },
  {
   "cell_type": "code",
   "execution_count": 50,
   "metadata": {
    "ExecuteTime": {
     "end_time": "2021-12-22T00:24:31.089417Z",
     "start_time": "2021-12-22T00:24:31.063853Z"
    }
   },
   "outputs": [
    {
     "name": "stdout",
     "output_type": "stream",
     "text": [
      "O maior número de quartos de um imóvel do tipo \"house\" é de 11.\n"
     ]
    }
   ],
   "source": [
    "a = df1.loc[df1['dormitory_type'] == 'house', 'bedrooms'].max()\n",
    "\n",
    "print( 'O maior número de quartos de um imóvel do tipo \"house\" é de {}.'. format(a))"
   ]
  },
  {
   "cell_type": "markdown",
   "metadata": {},
   "source": [
    "## 20. Quantos imóveis \"new_house\" foram reformados no ano de 2014?"
   ]
  },
  {
   "cell_type": "code",
   "execution_count": 51,
   "metadata": {
    "ExecuteTime": {
     "end_time": "2021-12-22T00:24:31.121096Z",
     "start_time": "2021-12-22T00:24:31.093829Z"
    }
   },
   "outputs": [
    {
     "name": "stdout",
     "output_type": "stream",
     "text": [
      "A quantidade de imóveis considerados \"new_house\" que foram reformados no ano de 2014 é de 15.\n"
     ]
    }
   ],
   "source": [
    "a = df1.loc[( df1['house_age'] == 'new_house') &\n",
    "            ( df1['yr_renovated'] == pd.to_datetime ('2014-01-01', format = '%Y-%m-%d')), 'id'].size\n",
    "\n",
    "print ( 'A quantidade de imóveis considerados \"new_house\" que foram reformados no ano de 2014 é de {}.'. format(a))"
   ]
  },
  {
   "cell_type": "markdown",
   "metadata": {},
   "source": [
    "# <center> TABELAS"
   ]
  },
  {
   "cell_type": "markdown",
   "metadata": {},
   "source": [
    "## <center> Imóveis x Quartos"
   ]
  },
  {
   "cell_type": "code",
   "execution_count": 52,
   "metadata": {
    "ExecuteTime": {
     "end_time": "2021-12-22T00:24:31.153506Z",
     "start_time": "2021-12-22T00:24:31.126488Z"
    },
    "scrolled": true
   },
   "outputs": [
    {
     "data": {
      "text/plain": [
       "bedrooms\n",
       "0       13\n",
       "1      199\n",
       "2     2760\n",
       "3     9824\n",
       "4     6882\n",
       "5     1601\n",
       "6      272\n",
       "7       38\n",
       "8       13\n",
       "9        6\n",
       "10       3\n",
       "11       1\n",
       "dtype: int64"
      ]
     },
     "execution_count": 52,
     "metadata": {},
     "output_type": "execute_result"
    }
   ],
   "source": [
    "df_grouped = df1[['id', 'bedrooms']].groupby('bedrooms').size()\n",
    "df_grouped"
   ]
  },
  {
   "cell_type": "markdown",
   "metadata": {},
   "source": [
    "## <center> Imóveis x Ano de Construção\n",
    "    "
   ]
  },
  {
   "cell_type": "code",
   "execution_count": 53,
   "metadata": {
    "ExecuteTime": {
     "end_time": "2021-12-22T00:24:31.217394Z",
     "start_time": "2021-12-22T00:24:31.155499Z"
    },
    "scrolled": true
   },
   "outputs": [
    {
     "data": {
      "text/html": [
       "<div>\n",
       "<style scoped>\n",
       "    .dataframe tbody tr th:only-of-type {\n",
       "        vertical-align: middle;\n",
       "    }\n",
       "\n",
       "    .dataframe tbody tr th {\n",
       "        vertical-align: top;\n",
       "    }\n",
       "\n",
       "    .dataframe thead th {\n",
       "        text-align: right;\n",
       "    }\n",
       "</style>\n",
       "<table border=\"1\" class=\"dataframe\">\n",
       "  <thead>\n",
       "    <tr style=\"text-align: right;\">\n",
       "      <th></th>\n",
       "      <th>yr_built</th>\n",
       "      <th>id</th>\n",
       "    </tr>\n",
       "  </thead>\n",
       "  <tbody>\n",
       "    <tr>\n",
       "      <th>0</th>\n",
       "      <td>1900</td>\n",
       "      <td>87</td>\n",
       "    </tr>\n",
       "    <tr>\n",
       "      <th>1</th>\n",
       "      <td>1901</td>\n",
       "      <td>29</td>\n",
       "    </tr>\n",
       "    <tr>\n",
       "      <th>2</th>\n",
       "      <td>1902</td>\n",
       "      <td>27</td>\n",
       "    </tr>\n",
       "    <tr>\n",
       "      <th>3</th>\n",
       "      <td>1903</td>\n",
       "      <td>46</td>\n",
       "    </tr>\n",
       "    <tr>\n",
       "      <th>4</th>\n",
       "      <td>1904</td>\n",
       "      <td>45</td>\n",
       "    </tr>\n",
       "    <tr>\n",
       "      <th>5</th>\n",
       "      <td>1905</td>\n",
       "      <td>74</td>\n",
       "    </tr>\n",
       "    <tr>\n",
       "      <th>6</th>\n",
       "      <td>1906</td>\n",
       "      <td>92</td>\n",
       "    </tr>\n",
       "    <tr>\n",
       "      <th>7</th>\n",
       "      <td>1907</td>\n",
       "      <td>65</td>\n",
       "    </tr>\n",
       "    <tr>\n",
       "      <th>8</th>\n",
       "      <td>1908</td>\n",
       "      <td>86</td>\n",
       "    </tr>\n",
       "    <tr>\n",
       "      <th>9</th>\n",
       "      <td>1909</td>\n",
       "      <td>94</td>\n",
       "    </tr>\n",
       "    <tr>\n",
       "      <th>10</th>\n",
       "      <td>1910</td>\n",
       "      <td>134</td>\n",
       "    </tr>\n",
       "    <tr>\n",
       "      <th>11</th>\n",
       "      <td>1911</td>\n",
       "      <td>73</td>\n",
       "    </tr>\n",
       "    <tr>\n",
       "      <th>12</th>\n",
       "      <td>1912</td>\n",
       "      <td>79</td>\n",
       "    </tr>\n",
       "    <tr>\n",
       "      <th>13</th>\n",
       "      <td>1913</td>\n",
       "      <td>59</td>\n",
       "    </tr>\n",
       "    <tr>\n",
       "      <th>14</th>\n",
       "      <td>1914</td>\n",
       "      <td>54</td>\n",
       "    </tr>\n",
       "    <tr>\n",
       "      <th>15</th>\n",
       "      <td>1915</td>\n",
       "      <td>64</td>\n",
       "    </tr>\n",
       "    <tr>\n",
       "      <th>16</th>\n",
       "      <td>1916</td>\n",
       "      <td>79</td>\n",
       "    </tr>\n",
       "    <tr>\n",
       "      <th>17</th>\n",
       "      <td>1917</td>\n",
       "      <td>56</td>\n",
       "    </tr>\n",
       "    <tr>\n",
       "      <th>18</th>\n",
       "      <td>1918</td>\n",
       "      <td>120</td>\n",
       "    </tr>\n",
       "    <tr>\n",
       "      <th>19</th>\n",
       "      <td>1919</td>\n",
       "      <td>88</td>\n",
       "    </tr>\n",
       "    <tr>\n",
       "      <th>20</th>\n",
       "      <td>1920</td>\n",
       "      <td>98</td>\n",
       "    </tr>\n",
       "    <tr>\n",
       "      <th>21</th>\n",
       "      <td>1921</td>\n",
       "      <td>76</td>\n",
       "    </tr>\n",
       "    <tr>\n",
       "      <th>22</th>\n",
       "      <td>1922</td>\n",
       "      <td>95</td>\n",
       "    </tr>\n",
       "    <tr>\n",
       "      <th>23</th>\n",
       "      <td>1923</td>\n",
       "      <td>84</td>\n",
       "    </tr>\n",
       "    <tr>\n",
       "      <th>24</th>\n",
       "      <td>1924</td>\n",
       "      <td>139</td>\n",
       "    </tr>\n",
       "    <tr>\n",
       "      <th>25</th>\n",
       "      <td>1925</td>\n",
       "      <td>165</td>\n",
       "    </tr>\n",
       "    <tr>\n",
       "      <th>26</th>\n",
       "      <td>1926</td>\n",
       "      <td>180</td>\n",
       "    </tr>\n",
       "    <tr>\n",
       "      <th>27</th>\n",
       "      <td>1927</td>\n",
       "      <td>115</td>\n",
       "    </tr>\n",
       "    <tr>\n",
       "      <th>28</th>\n",
       "      <td>1928</td>\n",
       "      <td>126</td>\n",
       "    </tr>\n",
       "    <tr>\n",
       "      <th>29</th>\n",
       "      <td>1929</td>\n",
       "      <td>114</td>\n",
       "    </tr>\n",
       "    <tr>\n",
       "      <th>30</th>\n",
       "      <td>1930</td>\n",
       "      <td>90</td>\n",
       "    </tr>\n",
       "    <tr>\n",
       "      <th>31</th>\n",
       "      <td>1931</td>\n",
       "      <td>61</td>\n",
       "    </tr>\n",
       "    <tr>\n",
       "      <th>32</th>\n",
       "      <td>1932</td>\n",
       "      <td>38</td>\n",
       "    </tr>\n",
       "    <tr>\n",
       "      <th>33</th>\n",
       "      <td>1933</td>\n",
       "      <td>30</td>\n",
       "    </tr>\n",
       "    <tr>\n",
       "      <th>34</th>\n",
       "      <td>1934</td>\n",
       "      <td>21</td>\n",
       "    </tr>\n",
       "    <tr>\n",
       "      <th>35</th>\n",
       "      <td>1935</td>\n",
       "      <td>24</td>\n",
       "    </tr>\n",
       "    <tr>\n",
       "      <th>36</th>\n",
       "      <td>1936</td>\n",
       "      <td>40</td>\n",
       "    </tr>\n",
       "    <tr>\n",
       "      <th>37</th>\n",
       "      <td>1937</td>\n",
       "      <td>68</td>\n",
       "    </tr>\n",
       "    <tr>\n",
       "      <th>38</th>\n",
       "      <td>1938</td>\n",
       "      <td>52</td>\n",
       "    </tr>\n",
       "    <tr>\n",
       "      <th>39</th>\n",
       "      <td>1939</td>\n",
       "      <td>106</td>\n",
       "    </tr>\n",
       "    <tr>\n",
       "      <th>40</th>\n",
       "      <td>1940</td>\n",
       "      <td>156</td>\n",
       "    </tr>\n",
       "    <tr>\n",
       "      <th>41</th>\n",
       "      <td>1941</td>\n",
       "      <td>161</td>\n",
       "    </tr>\n",
       "    <tr>\n",
       "      <th>42</th>\n",
       "      <td>1942</td>\n",
       "      <td>223</td>\n",
       "    </tr>\n",
       "    <tr>\n",
       "      <th>43</th>\n",
       "      <td>1943</td>\n",
       "      <td>170</td>\n",
       "    </tr>\n",
       "    <tr>\n",
       "      <th>44</th>\n",
       "      <td>1944</td>\n",
       "      <td>140</td>\n",
       "    </tr>\n",
       "    <tr>\n",
       "      <th>45</th>\n",
       "      <td>1945</td>\n",
       "      <td>95</td>\n",
       "    </tr>\n",
       "    <tr>\n",
       "      <th>46</th>\n",
       "      <td>1946</td>\n",
       "      <td>126</td>\n",
       "    </tr>\n",
       "    <tr>\n",
       "      <th>47</th>\n",
       "      <td>1947</td>\n",
       "      <td>262</td>\n",
       "    </tr>\n",
       "    <tr>\n",
       "      <th>48</th>\n",
       "      <td>1948</td>\n",
       "      <td>235</td>\n",
       "    </tr>\n",
       "    <tr>\n",
       "      <th>49</th>\n",
       "      <td>1949</td>\n",
       "      <td>195</td>\n",
       "    </tr>\n",
       "    <tr>\n",
       "      <th>50</th>\n",
       "      <td>1950</td>\n",
       "      <td>250</td>\n",
       "    </tr>\n",
       "    <tr>\n",
       "      <th>51</th>\n",
       "      <td>1951</td>\n",
       "      <td>229</td>\n",
       "    </tr>\n",
       "    <tr>\n",
       "      <th>52</th>\n",
       "      <td>1952</td>\n",
       "      <td>220</td>\n",
       "    </tr>\n",
       "    <tr>\n",
       "      <th>53</th>\n",
       "      <td>1953</td>\n",
       "      <td>223</td>\n",
       "    </tr>\n",
       "    <tr>\n",
       "      <th>54</th>\n",
       "      <td>1954</td>\n",
       "      <td>305</td>\n",
       "    </tr>\n",
       "    <tr>\n",
       "      <th>55</th>\n",
       "      <td>1955</td>\n",
       "      <td>271</td>\n",
       "    </tr>\n",
       "    <tr>\n",
       "      <th>56</th>\n",
       "      <td>1956</td>\n",
       "      <td>198</td>\n",
       "    </tr>\n",
       "    <tr>\n",
       "      <th>57</th>\n",
       "      <td>1957</td>\n",
       "      <td>198</td>\n",
       "    </tr>\n",
       "    <tr>\n",
       "      <th>58</th>\n",
       "      <td>1958</td>\n",
       "      <td>224</td>\n",
       "    </tr>\n",
       "    <tr>\n",
       "      <th>59</th>\n",
       "      <td>1959</td>\n",
       "      <td>334</td>\n",
       "    </tr>\n",
       "    <tr>\n",
       "      <th>60</th>\n",
       "      <td>1960</td>\n",
       "      <td>248</td>\n",
       "    </tr>\n",
       "    <tr>\n",
       "      <th>61</th>\n",
       "      <td>1961</td>\n",
       "      <td>224</td>\n",
       "    </tr>\n",
       "    <tr>\n",
       "      <th>62</th>\n",
       "      <td>1962</td>\n",
       "      <td>312</td>\n",
       "    </tr>\n",
       "    <tr>\n",
       "      <th>63</th>\n",
       "      <td>1963</td>\n",
       "      <td>256</td>\n",
       "    </tr>\n",
       "    <tr>\n",
       "      <th>64</th>\n",
       "      <td>1964</td>\n",
       "      <td>172</td>\n",
       "    </tr>\n",
       "    <tr>\n",
       "      <th>65</th>\n",
       "      <td>1965</td>\n",
       "      <td>187</td>\n",
       "    </tr>\n",
       "    <tr>\n",
       "      <th>66</th>\n",
       "      <td>1966</td>\n",
       "      <td>250</td>\n",
       "    </tr>\n",
       "    <tr>\n",
       "      <th>67</th>\n",
       "      <td>1967</td>\n",
       "      <td>350</td>\n",
       "    </tr>\n",
       "    <tr>\n",
       "      <th>68</th>\n",
       "      <td>1968</td>\n",
       "      <td>381</td>\n",
       "    </tr>\n",
       "    <tr>\n",
       "      <th>69</th>\n",
       "      <td>1969</td>\n",
       "      <td>280</td>\n",
       "    </tr>\n",
       "    <tr>\n",
       "      <th>70</th>\n",
       "      <td>1970</td>\n",
       "      <td>132</td>\n",
       "    </tr>\n",
       "    <tr>\n",
       "      <th>71</th>\n",
       "      <td>1971</td>\n",
       "      <td>104</td>\n",
       "    </tr>\n",
       "    <tr>\n",
       "      <th>72</th>\n",
       "      <td>1972</td>\n",
       "      <td>149</td>\n",
       "    </tr>\n",
       "    <tr>\n",
       "      <th>73</th>\n",
       "      <td>1973</td>\n",
       "      <td>149</td>\n",
       "    </tr>\n",
       "    <tr>\n",
       "      <th>74</th>\n",
       "      <td>1974</td>\n",
       "      <td>162</td>\n",
       "    </tr>\n",
       "    <tr>\n",
       "      <th>75</th>\n",
       "      <td>1975</td>\n",
       "      <td>189</td>\n",
       "    </tr>\n",
       "    <tr>\n",
       "      <th>76</th>\n",
       "      <td>1976</td>\n",
       "      <td>253</td>\n",
       "    </tr>\n",
       "    <tr>\n",
       "      <th>77</th>\n",
       "      <td>1977</td>\n",
       "      <td>417</td>\n",
       "    </tr>\n",
       "    <tr>\n",
       "      <th>78</th>\n",
       "      <td>1978</td>\n",
       "      <td>387</td>\n",
       "    </tr>\n",
       "    <tr>\n",
       "      <th>79</th>\n",
       "      <td>1979</td>\n",
       "      <td>343</td>\n",
       "    </tr>\n",
       "    <tr>\n",
       "      <th>80</th>\n",
       "      <td>1980</td>\n",
       "      <td>240</td>\n",
       "    </tr>\n",
       "    <tr>\n",
       "      <th>81</th>\n",
       "      <td>1981</td>\n",
       "      <td>199</td>\n",
       "    </tr>\n",
       "    <tr>\n",
       "      <th>82</th>\n",
       "      <td>1982</td>\n",
       "      <td>105</td>\n",
       "    </tr>\n",
       "    <tr>\n",
       "      <th>83</th>\n",
       "      <td>1983</td>\n",
       "      <td>212</td>\n",
       "    </tr>\n",
       "    <tr>\n",
       "      <th>84</th>\n",
       "      <td>1984</td>\n",
       "      <td>229</td>\n",
       "    </tr>\n",
       "    <tr>\n",
       "      <th>85</th>\n",
       "      <td>1985</td>\n",
       "      <td>228</td>\n",
       "    </tr>\n",
       "    <tr>\n",
       "      <th>86</th>\n",
       "      <td>1986</td>\n",
       "      <td>215</td>\n",
       "    </tr>\n",
       "    <tr>\n",
       "      <th>87</th>\n",
       "      <td>1987</td>\n",
       "      <td>294</td>\n",
       "    </tr>\n",
       "    <tr>\n",
       "      <th>88</th>\n",
       "      <td>1988</td>\n",
       "      <td>270</td>\n",
       "    </tr>\n",
       "    <tr>\n",
       "      <th>89</th>\n",
       "      <td>1989</td>\n",
       "      <td>290</td>\n",
       "    </tr>\n",
       "    <tr>\n",
       "      <th>90</th>\n",
       "      <td>1990</td>\n",
       "      <td>320</td>\n",
       "    </tr>\n",
       "    <tr>\n",
       "      <th>91</th>\n",
       "      <td>1991</td>\n",
       "      <td>224</td>\n",
       "    </tr>\n",
       "    <tr>\n",
       "      <th>92</th>\n",
       "      <td>1992</td>\n",
       "      <td>198</td>\n",
       "    </tr>\n",
       "    <tr>\n",
       "      <th>93</th>\n",
       "      <td>1993</td>\n",
       "      <td>202</td>\n",
       "    </tr>\n",
       "    <tr>\n",
       "      <th>94</th>\n",
       "      <td>1994</td>\n",
       "      <td>249</td>\n",
       "    </tr>\n",
       "    <tr>\n",
       "      <th>95</th>\n",
       "      <td>1995</td>\n",
       "      <td>169</td>\n",
       "    </tr>\n",
       "    <tr>\n",
       "      <th>96</th>\n",
       "      <td>1996</td>\n",
       "      <td>195</td>\n",
       "    </tr>\n",
       "    <tr>\n",
       "      <th>97</th>\n",
       "      <td>1997</td>\n",
       "      <td>177</td>\n",
       "    </tr>\n",
       "    <tr>\n",
       "      <th>98</th>\n",
       "      <td>1998</td>\n",
       "      <td>239</td>\n",
       "    </tr>\n",
       "    <tr>\n",
       "      <th>99</th>\n",
       "      <td>1999</td>\n",
       "      <td>265</td>\n",
       "    </tr>\n",
       "    <tr>\n",
       "      <th>100</th>\n",
       "      <td>2000</td>\n",
       "      <td>218</td>\n",
       "    </tr>\n",
       "    <tr>\n",
       "      <th>101</th>\n",
       "      <td>2001</td>\n",
       "      <td>305</td>\n",
       "    </tr>\n",
       "    <tr>\n",
       "      <th>102</th>\n",
       "      <td>2002</td>\n",
       "      <td>222</td>\n",
       "    </tr>\n",
       "    <tr>\n",
       "      <th>103</th>\n",
       "      <td>2003</td>\n",
       "      <td>422</td>\n",
       "    </tr>\n",
       "    <tr>\n",
       "      <th>104</th>\n",
       "      <td>2004</td>\n",
       "      <td>433</td>\n",
       "    </tr>\n",
       "    <tr>\n",
       "      <th>105</th>\n",
       "      <td>2005</td>\n",
       "      <td>450</td>\n",
       "    </tr>\n",
       "    <tr>\n",
       "      <th>106</th>\n",
       "      <td>2006</td>\n",
       "      <td>454</td>\n",
       "    </tr>\n",
       "    <tr>\n",
       "      <th>107</th>\n",
       "      <td>2007</td>\n",
       "      <td>417</td>\n",
       "    </tr>\n",
       "    <tr>\n",
       "      <th>108</th>\n",
       "      <td>2008</td>\n",
       "      <td>367</td>\n",
       "    </tr>\n",
       "    <tr>\n",
       "      <th>109</th>\n",
       "      <td>2009</td>\n",
       "      <td>230</td>\n",
       "    </tr>\n",
       "    <tr>\n",
       "      <th>110</th>\n",
       "      <td>2010</td>\n",
       "      <td>143</td>\n",
       "    </tr>\n",
       "    <tr>\n",
       "      <th>111</th>\n",
       "      <td>2011</td>\n",
       "      <td>130</td>\n",
       "    </tr>\n",
       "    <tr>\n",
       "      <th>112</th>\n",
       "      <td>2012</td>\n",
       "      <td>170</td>\n",
       "    </tr>\n",
       "    <tr>\n",
       "      <th>113</th>\n",
       "      <td>2013</td>\n",
       "      <td>201</td>\n",
       "    </tr>\n",
       "    <tr>\n",
       "      <th>114</th>\n",
       "      <td>2014</td>\n",
       "      <td>559</td>\n",
       "    </tr>\n",
       "    <tr>\n",
       "      <th>115</th>\n",
       "      <td>2015</td>\n",
       "      <td>38</td>\n",
       "    </tr>\n",
       "  </tbody>\n",
       "</table>\n",
       "</div>"
      ],
      "text/plain": [
       "     yr_built   id\n",
       "0        1900   87\n",
       "1        1901   29\n",
       "2        1902   27\n",
       "3        1903   46\n",
       "4        1904   45\n",
       "5        1905   74\n",
       "6        1906   92\n",
       "7        1907   65\n",
       "8        1908   86\n",
       "9        1909   94\n",
       "10       1910  134\n",
       "11       1911   73\n",
       "12       1912   79\n",
       "13       1913   59\n",
       "14       1914   54\n",
       "15       1915   64\n",
       "16       1916   79\n",
       "17       1917   56\n",
       "18       1918  120\n",
       "19       1919   88\n",
       "20       1920   98\n",
       "21       1921   76\n",
       "22       1922   95\n",
       "23       1923   84\n",
       "24       1924  139\n",
       "25       1925  165\n",
       "26       1926  180\n",
       "27       1927  115\n",
       "28       1928  126\n",
       "29       1929  114\n",
       "30       1930   90\n",
       "31       1931   61\n",
       "32       1932   38\n",
       "33       1933   30\n",
       "34       1934   21\n",
       "35       1935   24\n",
       "36       1936   40\n",
       "37       1937   68\n",
       "38       1938   52\n",
       "39       1939  106\n",
       "40       1940  156\n",
       "41       1941  161\n",
       "42       1942  223\n",
       "43       1943  170\n",
       "44       1944  140\n",
       "45       1945   95\n",
       "46       1946  126\n",
       "47       1947  262\n",
       "48       1948  235\n",
       "49       1949  195\n",
       "50       1950  250\n",
       "51       1951  229\n",
       "52       1952  220\n",
       "53       1953  223\n",
       "54       1954  305\n",
       "55       1955  271\n",
       "56       1956  198\n",
       "57       1957  198\n",
       "58       1958  224\n",
       "59       1959  334\n",
       "60       1960  248\n",
       "61       1961  224\n",
       "62       1962  312\n",
       "63       1963  256\n",
       "64       1964  172\n",
       "65       1965  187\n",
       "66       1966  250\n",
       "67       1967  350\n",
       "68       1968  381\n",
       "69       1969  280\n",
       "70       1970  132\n",
       "71       1971  104\n",
       "72       1972  149\n",
       "73       1973  149\n",
       "74       1974  162\n",
       "75       1975  189\n",
       "76       1976  253\n",
       "77       1977  417\n",
       "78       1978  387\n",
       "79       1979  343\n",
       "80       1980  240\n",
       "81       1981  199\n",
       "82       1982  105\n",
       "83       1983  212\n",
       "84       1984  229\n",
       "85       1985  228\n",
       "86       1986  215\n",
       "87       1987  294\n",
       "88       1988  270\n",
       "89       1989  290\n",
       "90       1990  320\n",
       "91       1991  224\n",
       "92       1992  198\n",
       "93       1993  202\n",
       "94       1994  249\n",
       "95       1995  169\n",
       "96       1996  195\n",
       "97       1997  177\n",
       "98       1998  239\n",
       "99       1999  265\n",
       "100      2000  218\n",
       "101      2001  305\n",
       "102      2002  222\n",
       "103      2003  422\n",
       "104      2004  433\n",
       "105      2005  450\n",
       "106      2006  454\n",
       "107      2007  417\n",
       "108      2008  367\n",
       "109      2009  230\n",
       "110      2010  143\n",
       "111      2011  130\n",
       "112      2012  170\n",
       "113      2013  201\n",
       "114      2014  559\n",
       "115      2015   38"
      ]
     },
     "execution_count": 53,
     "metadata": {},
     "output_type": "execute_result"
    }
   ],
   "source": [
    "df_grouped = df1[['id', 'yr_built']].groupby('yr_built').count().reset_index()\n",
    "df_grouped"
   ]
  },
  {
   "cell_type": "markdown",
   "metadata": {},
   "source": [
    "## <center> Menor Número de Quartos x Ano de Construção de Imóveis"
   ]
  },
  {
   "cell_type": "code",
   "execution_count": 54,
   "metadata": {
    "ExecuteTime": {
     "end_time": "2021-12-22T00:24:31.281293Z",
     "start_time": "2021-12-22T00:24:31.219387Z"
    }
   },
   "outputs": [
    {
     "data": {
      "text/html": [
       "<div>\n",
       "<style scoped>\n",
       "    .dataframe tbody tr th:only-of-type {\n",
       "        vertical-align: middle;\n",
       "    }\n",
       "\n",
       "    .dataframe tbody tr th {\n",
       "        vertical-align: top;\n",
       "    }\n",
       "\n",
       "    .dataframe thead th {\n",
       "        text-align: right;\n",
       "    }\n",
       "</style>\n",
       "<table border=\"1\" class=\"dataframe\">\n",
       "  <thead>\n",
       "    <tr style=\"text-align: right;\">\n",
       "      <th></th>\n",
       "      <th>bedrooms</th>\n",
       "    </tr>\n",
       "    <tr>\n",
       "      <th>yr_built</th>\n",
       "      <th></th>\n",
       "    </tr>\n",
       "  </thead>\n",
       "  <tbody>\n",
       "    <tr>\n",
       "      <th>1900</th>\n",
       "      <td>1</td>\n",
       "    </tr>\n",
       "    <tr>\n",
       "      <th>1901</th>\n",
       "      <td>2</td>\n",
       "    </tr>\n",
       "    <tr>\n",
       "      <th>1902</th>\n",
       "      <td>2</td>\n",
       "    </tr>\n",
       "    <tr>\n",
       "      <th>1903</th>\n",
       "      <td>1</td>\n",
       "    </tr>\n",
       "    <tr>\n",
       "      <th>1904</th>\n",
       "      <td>2</td>\n",
       "    </tr>\n",
       "    <tr>\n",
       "      <th>1905</th>\n",
       "      <td>1</td>\n",
       "    </tr>\n",
       "    <tr>\n",
       "      <th>1906</th>\n",
       "      <td>1</td>\n",
       "    </tr>\n",
       "    <tr>\n",
       "      <th>1907</th>\n",
       "      <td>1</td>\n",
       "    </tr>\n",
       "    <tr>\n",
       "      <th>1908</th>\n",
       "      <td>1</td>\n",
       "    </tr>\n",
       "    <tr>\n",
       "      <th>1909</th>\n",
       "      <td>2</td>\n",
       "    </tr>\n",
       "    <tr>\n",
       "      <th>1910</th>\n",
       "      <td>1</td>\n",
       "    </tr>\n",
       "    <tr>\n",
       "      <th>1911</th>\n",
       "      <td>1</td>\n",
       "    </tr>\n",
       "    <tr>\n",
       "      <th>1912</th>\n",
       "      <td>1</td>\n",
       "    </tr>\n",
       "    <tr>\n",
       "      <th>1913</th>\n",
       "      <td>0</td>\n",
       "    </tr>\n",
       "    <tr>\n",
       "      <th>1914</th>\n",
       "      <td>1</td>\n",
       "    </tr>\n",
       "    <tr>\n",
       "      <th>1915</th>\n",
       "      <td>1</td>\n",
       "    </tr>\n",
       "    <tr>\n",
       "      <th>1916</th>\n",
       "      <td>1</td>\n",
       "    </tr>\n",
       "    <tr>\n",
       "      <th>1917</th>\n",
       "      <td>1</td>\n",
       "    </tr>\n",
       "    <tr>\n",
       "      <th>1918</th>\n",
       "      <td>1</td>\n",
       "    </tr>\n",
       "    <tr>\n",
       "      <th>1919</th>\n",
       "      <td>1</td>\n",
       "    </tr>\n",
       "    <tr>\n",
       "      <th>1920</th>\n",
       "      <td>1</td>\n",
       "    </tr>\n",
       "    <tr>\n",
       "      <th>1921</th>\n",
       "      <td>1</td>\n",
       "    </tr>\n",
       "    <tr>\n",
       "      <th>1922</th>\n",
       "      <td>1</td>\n",
       "    </tr>\n",
       "    <tr>\n",
       "      <th>1923</th>\n",
       "      <td>1</td>\n",
       "    </tr>\n",
       "    <tr>\n",
       "      <th>1924</th>\n",
       "      <td>1</td>\n",
       "    </tr>\n",
       "    <tr>\n",
       "      <th>1925</th>\n",
       "      <td>1</td>\n",
       "    </tr>\n",
       "    <tr>\n",
       "      <th>1926</th>\n",
       "      <td>1</td>\n",
       "    </tr>\n",
       "    <tr>\n",
       "      <th>1927</th>\n",
       "      <td>1</td>\n",
       "    </tr>\n",
       "    <tr>\n",
       "      <th>1928</th>\n",
       "      <td>1</td>\n",
       "    </tr>\n",
       "    <tr>\n",
       "      <th>1929</th>\n",
       "      <td>1</td>\n",
       "    </tr>\n",
       "    <tr>\n",
       "      <th>1930</th>\n",
       "      <td>1</td>\n",
       "    </tr>\n",
       "    <tr>\n",
       "      <th>1931</th>\n",
       "      <td>1</td>\n",
       "    </tr>\n",
       "    <tr>\n",
       "      <th>1932</th>\n",
       "      <td>2</td>\n",
       "    </tr>\n",
       "    <tr>\n",
       "      <th>1933</th>\n",
       "      <td>2</td>\n",
       "    </tr>\n",
       "    <tr>\n",
       "      <th>1934</th>\n",
       "      <td>2</td>\n",
       "    </tr>\n",
       "    <tr>\n",
       "      <th>1935</th>\n",
       "      <td>1</td>\n",
       "    </tr>\n",
       "    <tr>\n",
       "      <th>1936</th>\n",
       "      <td>1</td>\n",
       "    </tr>\n",
       "    <tr>\n",
       "      <th>1937</th>\n",
       "      <td>1</td>\n",
       "    </tr>\n",
       "    <tr>\n",
       "      <th>1938</th>\n",
       "      <td>2</td>\n",
       "    </tr>\n",
       "    <tr>\n",
       "      <th>1939</th>\n",
       "      <td>1</td>\n",
       "    </tr>\n",
       "    <tr>\n",
       "      <th>1940</th>\n",
       "      <td>1</td>\n",
       "    </tr>\n",
       "    <tr>\n",
       "      <th>1941</th>\n",
       "      <td>1</td>\n",
       "    </tr>\n",
       "    <tr>\n",
       "      <th>1942</th>\n",
       "      <td>1</td>\n",
       "    </tr>\n",
       "    <tr>\n",
       "      <th>1943</th>\n",
       "      <td>1</td>\n",
       "    </tr>\n",
       "    <tr>\n",
       "      <th>1944</th>\n",
       "      <td>1</td>\n",
       "    </tr>\n",
       "    <tr>\n",
       "      <th>1945</th>\n",
       "      <td>1</td>\n",
       "    </tr>\n",
       "    <tr>\n",
       "      <th>1946</th>\n",
       "      <td>1</td>\n",
       "    </tr>\n",
       "    <tr>\n",
       "      <th>1947</th>\n",
       "      <td>1</td>\n",
       "    </tr>\n",
       "    <tr>\n",
       "      <th>1948</th>\n",
       "      <td>1</td>\n",
       "    </tr>\n",
       "    <tr>\n",
       "      <th>1949</th>\n",
       "      <td>1</td>\n",
       "    </tr>\n",
       "    <tr>\n",
       "      <th>1950</th>\n",
       "      <td>1</td>\n",
       "    </tr>\n",
       "    <tr>\n",
       "      <th>1951</th>\n",
       "      <td>2</td>\n",
       "    </tr>\n",
       "    <tr>\n",
       "      <th>1952</th>\n",
       "      <td>1</td>\n",
       "    </tr>\n",
       "    <tr>\n",
       "      <th>1953</th>\n",
       "      <td>0</td>\n",
       "    </tr>\n",
       "    <tr>\n",
       "      <th>1954</th>\n",
       "      <td>1</td>\n",
       "    </tr>\n",
       "    <tr>\n",
       "      <th>1955</th>\n",
       "      <td>2</td>\n",
       "    </tr>\n",
       "    <tr>\n",
       "      <th>1956</th>\n",
       "      <td>2</td>\n",
       "    </tr>\n",
       "    <tr>\n",
       "      <th>1957</th>\n",
       "      <td>2</td>\n",
       "    </tr>\n",
       "    <tr>\n",
       "      <th>1958</th>\n",
       "      <td>1</td>\n",
       "    </tr>\n",
       "    <tr>\n",
       "      <th>1959</th>\n",
       "      <td>2</td>\n",
       "    </tr>\n",
       "    <tr>\n",
       "      <th>1960</th>\n",
       "      <td>1</td>\n",
       "    </tr>\n",
       "    <tr>\n",
       "      <th>1961</th>\n",
       "      <td>1</td>\n",
       "    </tr>\n",
       "    <tr>\n",
       "      <th>1962</th>\n",
       "      <td>1</td>\n",
       "    </tr>\n",
       "    <tr>\n",
       "      <th>1963</th>\n",
       "      <td>0</td>\n",
       "    </tr>\n",
       "    <tr>\n",
       "      <th>1964</th>\n",
       "      <td>2</td>\n",
       "    </tr>\n",
       "    <tr>\n",
       "      <th>1965</th>\n",
       "      <td>2</td>\n",
       "    </tr>\n",
       "    <tr>\n",
       "      <th>1966</th>\n",
       "      <td>1</td>\n",
       "    </tr>\n",
       "    <tr>\n",
       "      <th>1967</th>\n",
       "      <td>1</td>\n",
       "    </tr>\n",
       "    <tr>\n",
       "      <th>1968</th>\n",
       "      <td>1</td>\n",
       "    </tr>\n",
       "    <tr>\n",
       "      <th>1969</th>\n",
       "      <td>2</td>\n",
       "    </tr>\n",
       "    <tr>\n",
       "      <th>1970</th>\n",
       "      <td>2</td>\n",
       "    </tr>\n",
       "    <tr>\n",
       "      <th>1971</th>\n",
       "      <td>2</td>\n",
       "    </tr>\n",
       "    <tr>\n",
       "      <th>1972</th>\n",
       "      <td>2</td>\n",
       "    </tr>\n",
       "    <tr>\n",
       "      <th>1973</th>\n",
       "      <td>2</td>\n",
       "    </tr>\n",
       "    <tr>\n",
       "      <th>1974</th>\n",
       "      <td>2</td>\n",
       "    </tr>\n",
       "    <tr>\n",
       "      <th>1975</th>\n",
       "      <td>2</td>\n",
       "    </tr>\n",
       "    <tr>\n",
       "      <th>1976</th>\n",
       "      <td>1</td>\n",
       "    </tr>\n",
       "    <tr>\n",
       "      <th>1977</th>\n",
       "      <td>1</td>\n",
       "    </tr>\n",
       "    <tr>\n",
       "      <th>1978</th>\n",
       "      <td>1</td>\n",
       "    </tr>\n",
       "    <tr>\n",
       "      <th>1979</th>\n",
       "      <td>1</td>\n",
       "    </tr>\n",
       "    <tr>\n",
       "      <th>1980</th>\n",
       "      <td>2</td>\n",
       "    </tr>\n",
       "    <tr>\n",
       "      <th>1981</th>\n",
       "      <td>2</td>\n",
       "    </tr>\n",
       "    <tr>\n",
       "      <th>1982</th>\n",
       "      <td>1</td>\n",
       "    </tr>\n",
       "    <tr>\n",
       "      <th>1983</th>\n",
       "      <td>1</td>\n",
       "    </tr>\n",
       "    <tr>\n",
       "      <th>1984</th>\n",
       "      <td>2</td>\n",
       "    </tr>\n",
       "    <tr>\n",
       "      <th>1985</th>\n",
       "      <td>0</td>\n",
       "    </tr>\n",
       "    <tr>\n",
       "      <th>1986</th>\n",
       "      <td>2</td>\n",
       "    </tr>\n",
       "    <tr>\n",
       "      <th>1987</th>\n",
       "      <td>2</td>\n",
       "    </tr>\n",
       "    <tr>\n",
       "      <th>1988</th>\n",
       "      <td>1</td>\n",
       "    </tr>\n",
       "    <tr>\n",
       "      <th>1989</th>\n",
       "      <td>1</td>\n",
       "    </tr>\n",
       "    <tr>\n",
       "      <th>1990</th>\n",
       "      <td>0</td>\n",
       "    </tr>\n",
       "    <tr>\n",
       "      <th>1991</th>\n",
       "      <td>1</td>\n",
       "    </tr>\n",
       "    <tr>\n",
       "      <th>1992</th>\n",
       "      <td>2</td>\n",
       "    </tr>\n",
       "    <tr>\n",
       "      <th>1993</th>\n",
       "      <td>2</td>\n",
       "    </tr>\n",
       "    <tr>\n",
       "      <th>1994</th>\n",
       "      <td>2</td>\n",
       "    </tr>\n",
       "    <tr>\n",
       "      <th>1995</th>\n",
       "      <td>2</td>\n",
       "    </tr>\n",
       "    <tr>\n",
       "      <th>1996</th>\n",
       "      <td>0</td>\n",
       "    </tr>\n",
       "    <tr>\n",
       "      <th>1997</th>\n",
       "      <td>2</td>\n",
       "    </tr>\n",
       "    <tr>\n",
       "      <th>1998</th>\n",
       "      <td>2</td>\n",
       "    </tr>\n",
       "    <tr>\n",
       "      <th>1999</th>\n",
       "      <td>0</td>\n",
       "    </tr>\n",
       "    <tr>\n",
       "      <th>2000</th>\n",
       "      <td>1</td>\n",
       "    </tr>\n",
       "    <tr>\n",
       "      <th>2001</th>\n",
       "      <td>1</td>\n",
       "    </tr>\n",
       "    <tr>\n",
       "      <th>2002</th>\n",
       "      <td>2</td>\n",
       "    </tr>\n",
       "    <tr>\n",
       "      <th>2003</th>\n",
       "      <td>0</td>\n",
       "    </tr>\n",
       "    <tr>\n",
       "      <th>2004</th>\n",
       "      <td>2</td>\n",
       "    </tr>\n",
       "    <tr>\n",
       "      <th>2005</th>\n",
       "      <td>2</td>\n",
       "    </tr>\n",
       "    <tr>\n",
       "      <th>2006</th>\n",
       "      <td>0</td>\n",
       "    </tr>\n",
       "    <tr>\n",
       "      <th>2007</th>\n",
       "      <td>1</td>\n",
       "    </tr>\n",
       "    <tr>\n",
       "      <th>2008</th>\n",
       "      <td>1</td>\n",
       "    </tr>\n",
       "    <tr>\n",
       "      <th>2009</th>\n",
       "      <td>1</td>\n",
       "    </tr>\n",
       "    <tr>\n",
       "      <th>2010</th>\n",
       "      <td>2</td>\n",
       "    </tr>\n",
       "    <tr>\n",
       "      <th>2011</th>\n",
       "      <td>1</td>\n",
       "    </tr>\n",
       "    <tr>\n",
       "      <th>2012</th>\n",
       "      <td>2</td>\n",
       "    </tr>\n",
       "    <tr>\n",
       "      <th>2013</th>\n",
       "      <td>2</td>\n",
       "    </tr>\n",
       "    <tr>\n",
       "      <th>2014</th>\n",
       "      <td>1</td>\n",
       "    </tr>\n",
       "    <tr>\n",
       "      <th>2015</th>\n",
       "      <td>1</td>\n",
       "    </tr>\n",
       "  </tbody>\n",
       "</table>\n",
       "</div>"
      ],
      "text/plain": [
       "          bedrooms\n",
       "yr_built          \n",
       "1900             1\n",
       "1901             2\n",
       "1902             2\n",
       "1903             1\n",
       "1904             2\n",
       "1905             1\n",
       "1906             1\n",
       "1907             1\n",
       "1908             1\n",
       "1909             2\n",
       "1910             1\n",
       "1911             1\n",
       "1912             1\n",
       "1913             0\n",
       "1914             1\n",
       "1915             1\n",
       "1916             1\n",
       "1917             1\n",
       "1918             1\n",
       "1919             1\n",
       "1920             1\n",
       "1921             1\n",
       "1922             1\n",
       "1923             1\n",
       "1924             1\n",
       "1925             1\n",
       "1926             1\n",
       "1927             1\n",
       "1928             1\n",
       "1929             1\n",
       "1930             1\n",
       "1931             1\n",
       "1932             2\n",
       "1933             2\n",
       "1934             2\n",
       "1935             1\n",
       "1936             1\n",
       "1937             1\n",
       "1938             2\n",
       "1939             1\n",
       "1940             1\n",
       "1941             1\n",
       "1942             1\n",
       "1943             1\n",
       "1944             1\n",
       "1945             1\n",
       "1946             1\n",
       "1947             1\n",
       "1948             1\n",
       "1949             1\n",
       "1950             1\n",
       "1951             2\n",
       "1952             1\n",
       "1953             0\n",
       "1954             1\n",
       "1955             2\n",
       "1956             2\n",
       "1957             2\n",
       "1958             1\n",
       "1959             2\n",
       "1960             1\n",
       "1961             1\n",
       "1962             1\n",
       "1963             0\n",
       "1964             2\n",
       "1965             2\n",
       "1966             1\n",
       "1967             1\n",
       "1968             1\n",
       "1969             2\n",
       "1970             2\n",
       "1971             2\n",
       "1972             2\n",
       "1973             2\n",
       "1974             2\n",
       "1975             2\n",
       "1976             1\n",
       "1977             1\n",
       "1978             1\n",
       "1979             1\n",
       "1980             2\n",
       "1981             2\n",
       "1982             1\n",
       "1983             1\n",
       "1984             2\n",
       "1985             0\n",
       "1986             2\n",
       "1987             2\n",
       "1988             1\n",
       "1989             1\n",
       "1990             0\n",
       "1991             1\n",
       "1992             2\n",
       "1993             2\n",
       "1994             2\n",
       "1995             2\n",
       "1996             0\n",
       "1997             2\n",
       "1998             2\n",
       "1999             0\n",
       "2000             1\n",
       "2001             1\n",
       "2002             2\n",
       "2003             0\n",
       "2004             2\n",
       "2005             2\n",
       "2006             0\n",
       "2007             1\n",
       "2008             1\n",
       "2009             1\n",
       "2010             2\n",
       "2011             1\n",
       "2012             2\n",
       "2013             2\n",
       "2014             1\n",
       "2015             1"
      ]
     },
     "execution_count": 54,
     "metadata": {},
     "output_type": "execute_result"
    }
   ],
   "source": [
    "df_grouped = df1[['bedrooms', 'yr_built']].groupby('yr_built').min()\n",
    "df_grouped"
   ]
  },
  {
   "cell_type": "markdown",
   "metadata": {},
   "source": [
    "## <center> Preço de Compra Mais Alto x Número de Quarto"
   ]
  },
  {
   "cell_type": "code",
   "execution_count": 55,
   "metadata": {
    "ExecuteTime": {
     "end_time": "2021-12-22T00:24:31.329396Z",
     "start_time": "2021-12-22T00:24:31.287298Z"
    },
    "scrolled": true
   },
   "outputs": [
    {
     "data": {
      "text/html": [
       "<div>\n",
       "<style scoped>\n",
       "    .dataframe tbody tr th:only-of-type {\n",
       "        vertical-align: middle;\n",
       "    }\n",
       "\n",
       "    .dataframe tbody tr th {\n",
       "        vertical-align: top;\n",
       "    }\n",
       "\n",
       "    .dataframe thead th {\n",
       "        text-align: right;\n",
       "    }\n",
       "</style>\n",
       "<table border=\"1\" class=\"dataframe\">\n",
       "  <thead>\n",
       "    <tr style=\"text-align: right;\">\n",
       "      <th></th>\n",
       "      <th>bedrooms</th>\n",
       "      <th>price</th>\n",
       "    </tr>\n",
       "  </thead>\n",
       "  <tbody>\n",
       "    <tr>\n",
       "      <th>0</th>\n",
       "      <td>0</td>\n",
       "      <td>1295650.000</td>\n",
       "    </tr>\n",
       "    <tr>\n",
       "      <th>1</th>\n",
       "      <td>1</td>\n",
       "      <td>1247000.000</td>\n",
       "    </tr>\n",
       "    <tr>\n",
       "      <th>2</th>\n",
       "      <td>2</td>\n",
       "      <td>3278000.000</td>\n",
       "    </tr>\n",
       "    <tr>\n",
       "      <th>3</th>\n",
       "      <td>3</td>\n",
       "      <td>3800000.000</td>\n",
       "    </tr>\n",
       "    <tr>\n",
       "      <th>4</th>\n",
       "      <td>4</td>\n",
       "      <td>4489000.000</td>\n",
       "    </tr>\n",
       "    <tr>\n",
       "      <th>5</th>\n",
       "      <td>5</td>\n",
       "      <td>7062500.000</td>\n",
       "    </tr>\n",
       "    <tr>\n",
       "      <th>6</th>\n",
       "      <td>6</td>\n",
       "      <td>7700000.000</td>\n",
       "    </tr>\n",
       "    <tr>\n",
       "      <th>7</th>\n",
       "      <td>7</td>\n",
       "      <td>3200000.000</td>\n",
       "    </tr>\n",
       "    <tr>\n",
       "      <th>8</th>\n",
       "      <td>8</td>\n",
       "      <td>3300000.000</td>\n",
       "    </tr>\n",
       "    <tr>\n",
       "      <th>9</th>\n",
       "      <td>9</td>\n",
       "      <td>1400000.000</td>\n",
       "    </tr>\n",
       "    <tr>\n",
       "      <th>10</th>\n",
       "      <td>10</td>\n",
       "      <td>1148000.000</td>\n",
       "    </tr>\n",
       "    <tr>\n",
       "      <th>11</th>\n",
       "      <td>11</td>\n",
       "      <td>520000.000</td>\n",
       "    </tr>\n",
       "  </tbody>\n",
       "</table>\n",
       "</div>"
      ],
      "text/plain": [
       "    bedrooms       price\n",
       "0          0 1295650.000\n",
       "1          1 1247000.000\n",
       "2          2 3278000.000\n",
       "3          3 3800000.000\n",
       "4          4 4489000.000\n",
       "5          5 7062500.000\n",
       "6          6 7700000.000\n",
       "7          7 3200000.000\n",
       "8          8 3300000.000\n",
       "9          9 1400000.000\n",
       "10        10 1148000.000\n",
       "11        11  520000.000"
      ]
     },
     "execution_count": 55,
     "metadata": {},
     "output_type": "execute_result"
    }
   ],
   "source": [
    "df_grouped = df1[['price', 'bedrooms']].groupby('bedrooms').max().reset_index()\n",
    "df_grouped"
   ]
  },
  {
   "cell_type": "markdown",
   "metadata": {},
   "source": [
    "## <center> Tamanho Médio das Salas dos Imóveis x Ano de Construção"
   ]
  },
  {
   "cell_type": "code",
   "execution_count": 56,
   "metadata": {
    "ExecuteTime": {
     "end_time": "2021-12-22T00:24:31.392559Z",
     "start_time": "2021-12-22T00:24:31.331448Z"
    }
   },
   "outputs": [
    {
     "data": {
      "text/html": [
       "<div>\n",
       "<style scoped>\n",
       "    .dataframe tbody tr th:only-of-type {\n",
       "        vertical-align: middle;\n",
       "    }\n",
       "\n",
       "    .dataframe tbody tr th {\n",
       "        vertical-align: top;\n",
       "    }\n",
       "\n",
       "    .dataframe thead th {\n",
       "        text-align: right;\n",
       "    }\n",
       "</style>\n",
       "<table border=\"1\" class=\"dataframe\">\n",
       "  <thead>\n",
       "    <tr style=\"text-align: right;\">\n",
       "      <th></th>\n",
       "      <th>yr_built</th>\n",
       "      <th>sqft_living</th>\n",
       "    </tr>\n",
       "  </thead>\n",
       "  <tbody>\n",
       "    <tr>\n",
       "      <th>0</th>\n",
       "      <td>1900</td>\n",
       "      <td>1732.011</td>\n",
       "    </tr>\n",
       "    <tr>\n",
       "      <th>1</th>\n",
       "      <td>1901</td>\n",
       "      <td>1763.621</td>\n",
       "    </tr>\n",
       "    <tr>\n",
       "      <th>2</th>\n",
       "      <td>1902</td>\n",
       "      <td>1919.630</td>\n",
       "    </tr>\n",
       "    <tr>\n",
       "      <th>3</th>\n",
       "      <td>1903</td>\n",
       "      <td>1507.739</td>\n",
       "    </tr>\n",
       "    <tr>\n",
       "      <th>4</th>\n",
       "      <td>1904</td>\n",
       "      <td>1603.178</td>\n",
       "    </tr>\n",
       "    <tr>\n",
       "      <th>5</th>\n",
       "      <td>1905</td>\n",
       "      <td>1965.811</td>\n",
       "    </tr>\n",
       "    <tr>\n",
       "      <th>6</th>\n",
       "      <td>1906</td>\n",
       "      <td>1802.228</td>\n",
       "    </tr>\n",
       "    <tr>\n",
       "      <th>7</th>\n",
       "      <td>1907</td>\n",
       "      <td>1904.277</td>\n",
       "    </tr>\n",
       "    <tr>\n",
       "      <th>8</th>\n",
       "      <td>1908</td>\n",
       "      <td>1699.640</td>\n",
       "    </tr>\n",
       "    <tr>\n",
       "      <th>9</th>\n",
       "      <td>1909</td>\n",
       "      <td>1900.106</td>\n",
       "    </tr>\n",
       "    <tr>\n",
       "      <th>10</th>\n",
       "      <td>1910</td>\n",
       "      <td>1880.716</td>\n",
       "    </tr>\n",
       "    <tr>\n",
       "      <th>11</th>\n",
       "      <td>1911</td>\n",
       "      <td>1893.836</td>\n",
       "    </tr>\n",
       "    <tr>\n",
       "      <th>12</th>\n",
       "      <td>1912</td>\n",
       "      <td>1829.051</td>\n",
       "    </tr>\n",
       "    <tr>\n",
       "      <th>13</th>\n",
       "      <td>1913</td>\n",
       "      <td>1902.271</td>\n",
       "    </tr>\n",
       "    <tr>\n",
       "      <th>14</th>\n",
       "      <td>1914</td>\n",
       "      <td>1850.926</td>\n",
       "    </tr>\n",
       "    <tr>\n",
       "      <th>15</th>\n",
       "      <td>1915</td>\n",
       "      <td>1726.094</td>\n",
       "    </tr>\n",
       "    <tr>\n",
       "      <th>16</th>\n",
       "      <td>1916</td>\n",
       "      <td>1758.987</td>\n",
       "    </tr>\n",
       "    <tr>\n",
       "      <th>17</th>\n",
       "      <td>1917</td>\n",
       "      <td>1668.179</td>\n",
       "    </tr>\n",
       "    <tr>\n",
       "      <th>18</th>\n",
       "      <td>1918</td>\n",
       "      <td>1539.767</td>\n",
       "    </tr>\n",
       "    <tr>\n",
       "      <th>19</th>\n",
       "      <td>1919</td>\n",
       "      <td>1677.955</td>\n",
       "    </tr>\n",
       "    <tr>\n",
       "      <th>20</th>\n",
       "      <td>1920</td>\n",
       "      <td>1564.184</td>\n",
       "    </tr>\n",
       "    <tr>\n",
       "      <th>21</th>\n",
       "      <td>1921</td>\n",
       "      <td>1841.803</td>\n",
       "    </tr>\n",
       "    <tr>\n",
       "      <th>22</th>\n",
       "      <td>1922</td>\n",
       "      <td>1723.063</td>\n",
       "    </tr>\n",
       "    <tr>\n",
       "      <th>23</th>\n",
       "      <td>1923</td>\n",
       "      <td>1670.119</td>\n",
       "    </tr>\n",
       "    <tr>\n",
       "      <th>24</th>\n",
       "      <td>1924</td>\n",
       "      <td>1639.928</td>\n",
       "    </tr>\n",
       "    <tr>\n",
       "      <th>25</th>\n",
       "      <td>1925</td>\n",
       "      <td>1840.097</td>\n",
       "    </tr>\n",
       "    <tr>\n",
       "      <th>26</th>\n",
       "      <td>1926</td>\n",
       "      <td>1787.583</td>\n",
       "    </tr>\n",
       "    <tr>\n",
       "      <th>27</th>\n",
       "      <td>1927</td>\n",
       "      <td>1824.957</td>\n",
       "    </tr>\n",
       "    <tr>\n",
       "      <th>28</th>\n",
       "      <td>1928</td>\n",
       "      <td>1765.000</td>\n",
       "    </tr>\n",
       "    <tr>\n",
       "      <th>29</th>\n",
       "      <td>1929</td>\n",
       "      <td>1817.105</td>\n",
       "    </tr>\n",
       "    <tr>\n",
       "      <th>30</th>\n",
       "      <td>1930</td>\n",
       "      <td>1812.333</td>\n",
       "    </tr>\n",
       "    <tr>\n",
       "      <th>31</th>\n",
       "      <td>1931</td>\n",
       "      <td>1949.016</td>\n",
       "    </tr>\n",
       "    <tr>\n",
       "      <th>32</th>\n",
       "      <td>1932</td>\n",
       "      <td>1587.632</td>\n",
       "    </tr>\n",
       "    <tr>\n",
       "      <th>33</th>\n",
       "      <td>1933</td>\n",
       "      <td>2193.000</td>\n",
       "    </tr>\n",
       "    <tr>\n",
       "      <th>34</th>\n",
       "      <td>1934</td>\n",
       "      <td>1786.667</td>\n",
       "    </tr>\n",
       "    <tr>\n",
       "      <th>35</th>\n",
       "      <td>1935</td>\n",
       "      <td>1813.750</td>\n",
       "    </tr>\n",
       "    <tr>\n",
       "      <th>36</th>\n",
       "      <td>1936</td>\n",
       "      <td>1850.900</td>\n",
       "    </tr>\n",
       "    <tr>\n",
       "      <th>37</th>\n",
       "      <td>1937</td>\n",
       "      <td>1937.588</td>\n",
       "    </tr>\n",
       "    <tr>\n",
       "      <th>38</th>\n",
       "      <td>1938</td>\n",
       "      <td>1764.423</td>\n",
       "    </tr>\n",
       "    <tr>\n",
       "      <th>39</th>\n",
       "      <td>1939</td>\n",
       "      <td>1704.340</td>\n",
       "    </tr>\n",
       "    <tr>\n",
       "      <th>40</th>\n",
       "      <td>1940</td>\n",
       "      <td>1777.346</td>\n",
       "    </tr>\n",
       "    <tr>\n",
       "      <th>41</th>\n",
       "      <td>1941</td>\n",
       "      <td>1574.161</td>\n",
       "    </tr>\n",
       "    <tr>\n",
       "      <th>42</th>\n",
       "      <td>1942</td>\n",
       "      <td>1306.556</td>\n",
       "    </tr>\n",
       "    <tr>\n",
       "      <th>43</th>\n",
       "      <td>1943</td>\n",
       "      <td>1245.771</td>\n",
       "    </tr>\n",
       "    <tr>\n",
       "      <th>44</th>\n",
       "      <td>1944</td>\n",
       "      <td>1371.214</td>\n",
       "    </tr>\n",
       "    <tr>\n",
       "      <th>45</th>\n",
       "      <td>1945</td>\n",
       "      <td>1442.737</td>\n",
       "    </tr>\n",
       "    <tr>\n",
       "      <th>46</th>\n",
       "      <td>1946</td>\n",
       "      <td>1660.286</td>\n",
       "    </tr>\n",
       "    <tr>\n",
       "      <th>47</th>\n",
       "      <td>1947</td>\n",
       "      <td>1559.080</td>\n",
       "    </tr>\n",
       "    <tr>\n",
       "      <th>48</th>\n",
       "      <td>1948</td>\n",
       "      <td>1607.502</td>\n",
       "    </tr>\n",
       "    <tr>\n",
       "      <th>49</th>\n",
       "      <td>1949</td>\n",
       "      <td>1537.615</td>\n",
       "    </tr>\n",
       "    <tr>\n",
       "      <th>50</th>\n",
       "      <td>1950</td>\n",
       "      <td>1633.112</td>\n",
       "    </tr>\n",
       "    <tr>\n",
       "      <th>51</th>\n",
       "      <td>1951</td>\n",
       "      <td>1693.118</td>\n",
       "    </tr>\n",
       "    <tr>\n",
       "      <th>52</th>\n",
       "      <td>1952</td>\n",
       "      <td>1732.991</td>\n",
       "    </tr>\n",
       "    <tr>\n",
       "      <th>53</th>\n",
       "      <td>1953</td>\n",
       "      <td>1705.794</td>\n",
       "    </tr>\n",
       "    <tr>\n",
       "      <th>54</th>\n",
       "      <td>1954</td>\n",
       "      <td>1660.502</td>\n",
       "    </tr>\n",
       "    <tr>\n",
       "      <th>55</th>\n",
       "      <td>1955</td>\n",
       "      <td>1702.808</td>\n",
       "    </tr>\n",
       "    <tr>\n",
       "      <th>56</th>\n",
       "      <td>1956</td>\n",
       "      <td>1784.944</td>\n",
       "    </tr>\n",
       "    <tr>\n",
       "      <th>57</th>\n",
       "      <td>1957</td>\n",
       "      <td>1898.510</td>\n",
       "    </tr>\n",
       "    <tr>\n",
       "      <th>58</th>\n",
       "      <td>1958</td>\n",
       "      <td>1915.420</td>\n",
       "    </tr>\n",
       "    <tr>\n",
       "      <th>59</th>\n",
       "      <td>1959</td>\n",
       "      <td>1815.048</td>\n",
       "    </tr>\n",
       "    <tr>\n",
       "      <th>60</th>\n",
       "      <td>1960</td>\n",
       "      <td>1888.282</td>\n",
       "    </tr>\n",
       "    <tr>\n",
       "      <th>61</th>\n",
       "      <td>1961</td>\n",
       "      <td>1847.643</td>\n",
       "    </tr>\n",
       "    <tr>\n",
       "      <th>62</th>\n",
       "      <td>1962</td>\n",
       "      <td>1923.250</td>\n",
       "    </tr>\n",
       "    <tr>\n",
       "      <th>63</th>\n",
       "      <td>1963</td>\n",
       "      <td>1988.746</td>\n",
       "    </tr>\n",
       "    <tr>\n",
       "      <th>64</th>\n",
       "      <td>1964</td>\n",
       "      <td>2101.581</td>\n",
       "    </tr>\n",
       "    <tr>\n",
       "      <th>65</th>\n",
       "      <td>1965</td>\n",
       "      <td>2149.497</td>\n",
       "    </tr>\n",
       "    <tr>\n",
       "      <th>66</th>\n",
       "      <td>1966</td>\n",
       "      <td>1950.880</td>\n",
       "    </tr>\n",
       "    <tr>\n",
       "      <th>67</th>\n",
       "      <td>1967</td>\n",
       "      <td>1908.623</td>\n",
       "    </tr>\n",
       "    <tr>\n",
       "      <th>68</th>\n",
       "      <td>1968</td>\n",
       "      <td>1901.157</td>\n",
       "    </tr>\n",
       "    <tr>\n",
       "      <th>69</th>\n",
       "      <td>1969</td>\n",
       "      <td>1788.439</td>\n",
       "    </tr>\n",
       "    <tr>\n",
       "      <th>70</th>\n",
       "      <td>1970</td>\n",
       "      <td>1940.833</td>\n",
       "    </tr>\n",
       "    <tr>\n",
       "      <th>71</th>\n",
       "      <td>1971</td>\n",
       "      <td>1832.308</td>\n",
       "    </tr>\n",
       "    <tr>\n",
       "      <th>72</th>\n",
       "      <td>1972</td>\n",
       "      <td>2018.188</td>\n",
       "    </tr>\n",
       "    <tr>\n",
       "      <th>73</th>\n",
       "      <td>1973</td>\n",
       "      <td>2167.685</td>\n",
       "    </tr>\n",
       "    <tr>\n",
       "      <th>74</th>\n",
       "      <td>1974</td>\n",
       "      <td>2075.364</td>\n",
       "    </tr>\n",
       "    <tr>\n",
       "      <th>75</th>\n",
       "      <td>1975</td>\n",
       "      <td>2086.048</td>\n",
       "    </tr>\n",
       "    <tr>\n",
       "      <th>76</th>\n",
       "      <td>1976</td>\n",
       "      <td>2189.403</td>\n",
       "    </tr>\n",
       "    <tr>\n",
       "      <th>77</th>\n",
       "      <td>1977</td>\n",
       "      <td>2159.645</td>\n",
       "    </tr>\n",
       "    <tr>\n",
       "      <th>78</th>\n",
       "      <td>1978</td>\n",
       "      <td>2215.705</td>\n",
       "    </tr>\n",
       "    <tr>\n",
       "      <th>79</th>\n",
       "      <td>1979</td>\n",
       "      <td>2246.700</td>\n",
       "    </tr>\n",
       "    <tr>\n",
       "      <th>80</th>\n",
       "      <td>1980</td>\n",
       "      <td>2103.296</td>\n",
       "    </tr>\n",
       "    <tr>\n",
       "      <th>81</th>\n",
       "      <td>1981</td>\n",
       "      <td>1941.116</td>\n",
       "    </tr>\n",
       "    <tr>\n",
       "      <th>82</th>\n",
       "      <td>1982</td>\n",
       "      <td>2118.629</td>\n",
       "    </tr>\n",
       "    <tr>\n",
       "      <th>83</th>\n",
       "      <td>1983</td>\n",
       "      <td>2049.594</td>\n",
       "    </tr>\n",
       "    <tr>\n",
       "      <th>84</th>\n",
       "      <td>1984</td>\n",
       "      <td>2218.314</td>\n",
       "    </tr>\n",
       "    <tr>\n",
       "      <th>85</th>\n",
       "      <td>1985</td>\n",
       "      <td>2113.057</td>\n",
       "    </tr>\n",
       "    <tr>\n",
       "      <th>86</th>\n",
       "      <td>1986</td>\n",
       "      <td>2139.037</td>\n",
       "    </tr>\n",
       "    <tr>\n",
       "      <th>87</th>\n",
       "      <td>1987</td>\n",
       "      <td>2223.680</td>\n",
       "    </tr>\n",
       "    <tr>\n",
       "      <th>88</th>\n",
       "      <td>1988</td>\n",
       "      <td>2408.856</td>\n",
       "    </tr>\n",
       "    <tr>\n",
       "      <th>89</th>\n",
       "      <td>1989</td>\n",
       "      <td>2442.483</td>\n",
       "    </tr>\n",
       "    <tr>\n",
       "      <th>90</th>\n",
       "      <td>1990</td>\n",
       "      <td>2517.919</td>\n",
       "    </tr>\n",
       "    <tr>\n",
       "      <th>91</th>\n",
       "      <td>1991</td>\n",
       "      <td>2622.946</td>\n",
       "    </tr>\n",
       "    <tr>\n",
       "      <th>92</th>\n",
       "      <td>1992</td>\n",
       "      <td>2402.162</td>\n",
       "    </tr>\n",
       "    <tr>\n",
       "      <th>93</th>\n",
       "      <td>1993</td>\n",
       "      <td>2430.045</td>\n",
       "    </tr>\n",
       "    <tr>\n",
       "      <th>94</th>\n",
       "      <td>1994</td>\n",
       "      <td>2249.799</td>\n",
       "    </tr>\n",
       "    <tr>\n",
       "      <th>95</th>\n",
       "      <td>1995</td>\n",
       "      <td>2410.284</td>\n",
       "    </tr>\n",
       "    <tr>\n",
       "      <th>96</th>\n",
       "      <td>1996</td>\n",
       "      <td>2585.138</td>\n",
       "    </tr>\n",
       "    <tr>\n",
       "      <th>97</th>\n",
       "      <td>1997</td>\n",
       "      <td>2513.994</td>\n",
       "    </tr>\n",
       "    <tr>\n",
       "      <th>98</th>\n",
       "      <td>1998</td>\n",
       "      <td>2594.159</td>\n",
       "    </tr>\n",
       "    <tr>\n",
       "      <th>99</th>\n",
       "      <td>1999</td>\n",
       "      <td>2573.642</td>\n",
       "    </tr>\n",
       "    <tr>\n",
       "      <th>100</th>\n",
       "      <td>2000</td>\n",
       "      <td>2646.307</td>\n",
       "    </tr>\n",
       "    <tr>\n",
       "      <th>101</th>\n",
       "      <td>2001</td>\n",
       "      <td>2880.708</td>\n",
       "    </tr>\n",
       "    <tr>\n",
       "      <th>102</th>\n",
       "      <td>2002</td>\n",
       "      <td>2600.153</td>\n",
       "    </tr>\n",
       "    <tr>\n",
       "      <th>103</th>\n",
       "      <td>2003</td>\n",
       "      <td>2458.550</td>\n",
       "    </tr>\n",
       "    <tr>\n",
       "      <th>104</th>\n",
       "      <td>2004</td>\n",
       "      <td>2537.367</td>\n",
       "    </tr>\n",
       "    <tr>\n",
       "      <th>105</th>\n",
       "      <td>2005</td>\n",
       "      <td>2403.051</td>\n",
       "    </tr>\n",
       "    <tr>\n",
       "      <th>106</th>\n",
       "      <td>2006</td>\n",
       "      <td>2531.800</td>\n",
       "    </tr>\n",
       "    <tr>\n",
       "      <th>107</th>\n",
       "      <td>2007</td>\n",
       "      <td>2320.650</td>\n",
       "    </tr>\n",
       "    <tr>\n",
       "      <th>108</th>\n",
       "      <td>2008</td>\n",
       "      <td>2246.044</td>\n",
       "    </tr>\n",
       "    <tr>\n",
       "      <th>109</th>\n",
       "      <td>2009</td>\n",
       "      <td>1977.517</td>\n",
       "    </tr>\n",
       "    <tr>\n",
       "      <th>110</th>\n",
       "      <td>2010</td>\n",
       "      <td>2225.804</td>\n",
       "    </tr>\n",
       "    <tr>\n",
       "      <th>111</th>\n",
       "      <td>2011</td>\n",
       "      <td>2313.685</td>\n",
       "    </tr>\n",
       "    <tr>\n",
       "      <th>112</th>\n",
       "      <td>2012</td>\n",
       "      <td>2378.741</td>\n",
       "    </tr>\n",
       "    <tr>\n",
       "      <th>113</th>\n",
       "      <td>2013</td>\n",
       "      <td>2636.592</td>\n",
       "    </tr>\n",
       "    <tr>\n",
       "      <th>114</th>\n",
       "      <td>2014</td>\n",
       "      <td>2615.390</td>\n",
       "    </tr>\n",
       "    <tr>\n",
       "      <th>115</th>\n",
       "      <td>2015</td>\n",
       "      <td>2596.316</td>\n",
       "    </tr>\n",
       "  </tbody>\n",
       "</table>\n",
       "</div>"
      ],
      "text/plain": [
       "     yr_built  sqft_living\n",
       "0        1900     1732.011\n",
       "1        1901     1763.621\n",
       "2        1902     1919.630\n",
       "3        1903     1507.739\n",
       "4        1904     1603.178\n",
       "5        1905     1965.811\n",
       "6        1906     1802.228\n",
       "7        1907     1904.277\n",
       "8        1908     1699.640\n",
       "9        1909     1900.106\n",
       "10       1910     1880.716\n",
       "11       1911     1893.836\n",
       "12       1912     1829.051\n",
       "13       1913     1902.271\n",
       "14       1914     1850.926\n",
       "15       1915     1726.094\n",
       "16       1916     1758.987\n",
       "17       1917     1668.179\n",
       "18       1918     1539.767\n",
       "19       1919     1677.955\n",
       "20       1920     1564.184\n",
       "21       1921     1841.803\n",
       "22       1922     1723.063\n",
       "23       1923     1670.119\n",
       "24       1924     1639.928\n",
       "25       1925     1840.097\n",
       "26       1926     1787.583\n",
       "27       1927     1824.957\n",
       "28       1928     1765.000\n",
       "29       1929     1817.105\n",
       "30       1930     1812.333\n",
       "31       1931     1949.016\n",
       "32       1932     1587.632\n",
       "33       1933     2193.000\n",
       "34       1934     1786.667\n",
       "35       1935     1813.750\n",
       "36       1936     1850.900\n",
       "37       1937     1937.588\n",
       "38       1938     1764.423\n",
       "39       1939     1704.340\n",
       "40       1940     1777.346\n",
       "41       1941     1574.161\n",
       "42       1942     1306.556\n",
       "43       1943     1245.771\n",
       "44       1944     1371.214\n",
       "45       1945     1442.737\n",
       "46       1946     1660.286\n",
       "47       1947     1559.080\n",
       "48       1948     1607.502\n",
       "49       1949     1537.615\n",
       "50       1950     1633.112\n",
       "51       1951     1693.118\n",
       "52       1952     1732.991\n",
       "53       1953     1705.794\n",
       "54       1954     1660.502\n",
       "55       1955     1702.808\n",
       "56       1956     1784.944\n",
       "57       1957     1898.510\n",
       "58       1958     1915.420\n",
       "59       1959     1815.048\n",
       "60       1960     1888.282\n",
       "61       1961     1847.643\n",
       "62       1962     1923.250\n",
       "63       1963     1988.746\n",
       "64       1964     2101.581\n",
       "65       1965     2149.497\n",
       "66       1966     1950.880\n",
       "67       1967     1908.623\n",
       "68       1968     1901.157\n",
       "69       1969     1788.439\n",
       "70       1970     1940.833\n",
       "71       1971     1832.308\n",
       "72       1972     2018.188\n",
       "73       1973     2167.685\n",
       "74       1974     2075.364\n",
       "75       1975     2086.048\n",
       "76       1976     2189.403\n",
       "77       1977     2159.645\n",
       "78       1978     2215.705\n",
       "79       1979     2246.700\n",
       "80       1980     2103.296\n",
       "81       1981     1941.116\n",
       "82       1982     2118.629\n",
       "83       1983     2049.594\n",
       "84       1984     2218.314\n",
       "85       1985     2113.057\n",
       "86       1986     2139.037\n",
       "87       1987     2223.680\n",
       "88       1988     2408.856\n",
       "89       1989     2442.483\n",
       "90       1990     2517.919\n",
       "91       1991     2622.946\n",
       "92       1992     2402.162\n",
       "93       1993     2430.045\n",
       "94       1994     2249.799\n",
       "95       1995     2410.284\n",
       "96       1996     2585.138\n",
       "97       1997     2513.994\n",
       "98       1998     2594.159\n",
       "99       1999     2573.642\n",
       "100      2000     2646.307\n",
       "101      2001     2880.708\n",
       "102      2002     2600.153\n",
       "103      2003     2458.550\n",
       "104      2004     2537.367\n",
       "105      2005     2403.051\n",
       "106      2006     2531.800\n",
       "107      2007     2320.650\n",
       "108      2008     2246.044\n",
       "109      2009     1977.517\n",
       "110      2010     2225.804\n",
       "111      2011     2313.685\n",
       "112      2012     2378.741\n",
       "113      2013     2636.592\n",
       "114      2014     2615.390\n",
       "115      2015     2596.316"
      ]
     },
     "execution_count": 56,
     "metadata": {},
     "output_type": "execute_result"
    }
   ],
   "source": [
    "df_grouped = df1[['sqft_living', 'yr_built']].groupby('yr_built').mean().reset_index()\n",
    "df_grouped"
   ]
  },
  {
   "cell_type": "markdown",
   "metadata": {},
   "source": [
    "## <center> Média dos Preços dos Imóveis por Tipo de Dormitório x Ano de Construção"
   ]
  },
  {
   "cell_type": "code",
   "execution_count": 57,
   "metadata": {
    "ExecuteTime": {
     "end_time": "2021-12-22T00:24:31.441260Z",
     "start_time": "2021-12-22T00:24:31.394609Z"
    },
    "scrolled": false
   },
   "outputs": [
    {
     "data": {
      "text/html": [
       "<div>\n",
       "<style scoped>\n",
       "    .dataframe tbody tr th:only-of-type {\n",
       "        vertical-align: middle;\n",
       "    }\n",
       "\n",
       "    .dataframe tbody tr th {\n",
       "        vertical-align: top;\n",
       "    }\n",
       "\n",
       "    .dataframe thead th {\n",
       "        text-align: right;\n",
       "    }\n",
       "</style>\n",
       "<table border=\"1\" class=\"dataframe\">\n",
       "  <thead>\n",
       "    <tr style=\"text-align: right;\">\n",
       "      <th></th>\n",
       "      <th>dormitory_type</th>\n",
       "      <th>price</th>\n",
       "    </tr>\n",
       "  </thead>\n",
       "  <tbody>\n",
       "    <tr>\n",
       "      <th>0</th>\n",
       "      <td>apartament</td>\n",
       "      <td>401372.682</td>\n",
       "    </tr>\n",
       "    <tr>\n",
       "      <th>1</th>\n",
       "      <td>house</td>\n",
       "      <td>563088.086</td>\n",
       "    </tr>\n",
       "    <tr>\n",
       "      <th>2</th>\n",
       "      <td>no bedroom</td>\n",
       "      <td>409503.846</td>\n",
       "    </tr>\n",
       "    <tr>\n",
       "      <th>3</th>\n",
       "      <td>studio</td>\n",
       "      <td>317642.884</td>\n",
       "    </tr>\n",
       "  </tbody>\n",
       "</table>\n",
       "</div>"
      ],
      "text/plain": [
       "  dormitory_type      price\n",
       "0     apartament 401372.682\n",
       "1          house 563088.086\n",
       "2     no bedroom 409503.846\n",
       "3         studio 317642.884"
      ]
     },
     "execution_count": 57,
     "metadata": {},
     "output_type": "execute_result"
    }
   ],
   "source": [
    "df1[['price', 'dormitory_type']].groupby('dormitory_type').mean().reset_index()"
   ]
  },
  {
   "cell_type": "markdown",
   "metadata": {},
   "source": [
    "## <center> Média dos Preços dos Imóveis x Level"
   ]
  },
  {
   "cell_type": "code",
   "execution_count": 58,
   "metadata": {
    "ExecuteTime": {
     "end_time": "2021-12-22T00:24:31.489361Z",
     "start_time": "2021-12-22T00:24:31.447071Z"
    }
   },
   "outputs": [
    {
     "data": {
      "text/html": [
       "<div>\n",
       "<style scoped>\n",
       "    .dataframe tbody tr th:only-of-type {\n",
       "        vertical-align: middle;\n",
       "    }\n",
       "\n",
       "    .dataframe tbody tr th {\n",
       "        vertical-align: top;\n",
       "    }\n",
       "\n",
       "    .dataframe thead th {\n",
       "        text-align: right;\n",
       "    }\n",
       "</style>\n",
       "<table border=\"1\" class=\"dataframe\">\n",
       "  <thead>\n",
       "    <tr style=\"text-align: right;\">\n",
       "      <th></th>\n",
       "      <th>level</th>\n",
       "      <th>price</th>\n",
       "    </tr>\n",
       "  </thead>\n",
       "  <tbody>\n",
       "    <tr>\n",
       "      <th>0</th>\n",
       "      <td>0</td>\n",
       "      <td>251544.622</td>\n",
       "    </tr>\n",
       "    <tr>\n",
       "      <th>1</th>\n",
       "      <td>1</td>\n",
       "      <td>383596.861</td>\n",
       "    </tr>\n",
       "    <tr>\n",
       "      <th>2</th>\n",
       "      <td>2</td>\n",
       "      <td>538922.894</td>\n",
       "    </tr>\n",
       "    <tr>\n",
       "      <th>3</th>\n",
       "      <td>3</td>\n",
       "      <td>968416.680</td>\n",
       "    </tr>\n",
       "  </tbody>\n",
       "</table>\n",
       "</div>"
      ],
      "text/plain": [
       "   level      price\n",
       "0      0 251544.622\n",
       "1      1 383596.861\n",
       "2      2 538922.894\n",
       "3      3 968416.680"
      ]
     },
     "execution_count": 58,
     "metadata": {},
     "output_type": "execute_result"
    }
   ],
   "source": [
    "df1[['price', 'level']].groupby('level').mean().reset_index()"
   ]
  },
  {
   "cell_type": "markdown",
   "metadata": {},
   "source": [
    "## <center> Média dos Preços dos Imóveis x Tamanho da Sala de Estar"
   ]
  },
  {
   "cell_type": "code",
   "execution_count": 59,
   "metadata": {
    "ExecuteTime": {
     "end_time": "2021-12-22T00:24:31.537233Z",
     "start_time": "2021-12-22T00:24:31.494248Z"
    },
    "scrolled": true
   },
   "outputs": [
    {
     "data": {
      "text/html": [
       "<div>\n",
       "<style scoped>\n",
       "    .dataframe tbody tr th:only-of-type {\n",
       "        vertical-align: middle;\n",
       "    }\n",
       "\n",
       "    .dataframe tbody tr th {\n",
       "        vertical-align: top;\n",
       "    }\n",
       "\n",
       "    .dataframe thead th {\n",
       "        text-align: right;\n",
       "    }\n",
       "</style>\n",
       "<table border=\"1\" class=\"dataframe\">\n",
       "  <thead>\n",
       "    <tr style=\"text-align: right;\">\n",
       "      <th></th>\n",
       "      <th>size</th>\n",
       "      <th>price</th>\n",
       "    </tr>\n",
       "  </thead>\n",
       "  <tbody>\n",
       "    <tr>\n",
       "      <th>0</th>\n",
       "      <td>s00</td>\n",
       "      <td>339014.843</td>\n",
       "    </tr>\n",
       "    <tr>\n",
       "      <th>1</th>\n",
       "      <td>s01</td>\n",
       "      <td>421764.778</td>\n",
       "    </tr>\n",
       "    <tr>\n",
       "      <th>2</th>\n",
       "      <td>s02</td>\n",
       "      <td>521473.766</td>\n",
       "    </tr>\n",
       "    <tr>\n",
       "      <th>3</th>\n",
       "      <td>s03</td>\n",
       "      <td>881265.923</td>\n",
       "    </tr>\n",
       "  </tbody>\n",
       "</table>\n",
       "</div>"
      ],
      "text/plain": [
       "  size      price\n",
       "0  s00 339014.843\n",
       "1  s01 421764.778\n",
       "2  s02 521473.766\n",
       "3  s03 881265.923"
      ]
     },
     "execution_count": 59,
     "metadata": {},
     "output_type": "execute_result"
    }
   ],
   "source": [
    "df1[['price', 'size']].groupby('size').mean().reset_index()"
   ]
  },
  {
   "cell_type": "markdown",
   "metadata": {},
   "source": [
    "# <center> GRÁFICOS"
   ]
  },
  {
   "cell_type": "markdown",
   "metadata": {},
   "source": [
    "## 1. Gráfico que represente a soma dos preços pelo números de quartos"
   ]
  },
  {
   "cell_type": "code",
   "execution_count": 60,
   "metadata": {
    "ExecuteTime": {
     "end_time": "2021-12-22T00:24:32.274542Z",
     "start_time": "2021-12-22T00:24:31.543137Z"
    },
    "scrolled": false
   },
   "outputs": [
    {
     "data": {
      "text/plain": [
       "<AxesSubplot:xlabel='bedrooms', ylabel='price'>"
      ]
     },
     "execution_count": 60,
     "metadata": {},
     "output_type": "execute_result"
    },
    {
     "data": {
      "image/png": "[encoded data removed]",
      "text/plain": [
       "<Figure size 1440x864 with 1 Axes>"
      ]
     },
     "metadata": {},
     "output_type": "display_data"
    }
   ],
   "source": [
    "aux1 = df1[['price', 'bedrooms']].groupby('bedrooms').sum().reset_index()\n",
    "\n",
    "sns.barplot( x = 'bedrooms', y= 'price', data = aux1)"
   ]
  },
  {
   "cell_type": "markdown",
   "metadata": {},
   "source": [
    "## 2. Gráfico de linhas que represente a média dos preços pelo ano de construção dos imóveis."
   ]
  },
  {
   "cell_type": "code",
   "execution_count": 61,
   "metadata": {
    "ExecuteTime": {
     "end_time": "2021-12-22T00:24:32.736974Z",
     "start_time": "2021-12-22T00:24:32.278892Z"
    }
   },
   "outputs": [
    {
     "data": {
      "text/plain": [
       "<AxesSubplot:xlabel='yr_built', ylabel='price'>"
      ]
     },
     "execution_count": 61,
     "metadata": {},
     "output_type": "execute_result"
    },
    {
     "data": {
      "image/png": "[encoded data removed]",
      "text/plain": [
       "<Figure size 1440x864 with 1 Axes>"
      ]
     },
     "metadata": {},
     "output_type": "display_data"
    }
   ],
   "source": [
    "aux1 = df1[['price', 'yr_built']].groupby('yr_built').mean().reset_index()\n",
    "\n",
    "sns.lineplot( x = 'yr_built', y= 'price', data = aux1)"
   ]
  },
  {
   "cell_type": "markdown",
   "metadata": {},
   "source": [
    "## 3. Gráfico que represente a média dos preços pelos tipos de dormitórios"
   ]
  },
  {
   "cell_type": "code",
   "execution_count": 62,
   "metadata": {
    "ExecuteTime": {
     "end_time": "2021-12-22T00:24:33.099056Z",
     "start_time": "2021-12-22T00:24:32.741441Z"
    }
   },
   "outputs": [
    {
     "data": {
      "text/plain": [
       "<AxesSubplot:xlabel='dormitory_type', ylabel='price'>"
      ]
     },
     "execution_count": 62,
     "metadata": {},
     "output_type": "execute_result"
    },
    {
     "data": {
      "image/png": "[encoded data removed]",
      "text/plain": [
       "<Figure size 1440x864 with 1 Axes>"
      ]
     },
     "metadata": {},
     "output_type": "display_data"
    }
   ],
   "source": [
    "aux1 = df1[['price', 'dormitory_type']].groupby('dormitory_type').mean().reset_index()\n",
    "\n",
    "sns.barplot( x = 'dormitory_type', y= 'price', data = aux1)"
   ]
  },
  {
   "cell_type": "markdown",
   "metadata": {},
   "source": [
    "## 4. Gráfico que represente a evolução da média dos preços pelo ano da reforma dos imóveis a partir do ano de 1930."
   ]
  },
  {
   "cell_type": "code",
   "execution_count": 63,
   "metadata": {
    "ExecuteTime": {
     "end_time": "2021-12-22T00:24:33.721740Z",
     "start_time": "2021-12-22T00:24:33.102133Z"
    }
   },
   "outputs": [
    {
     "data": {
      "text/plain": [
       "<AxesSubplot:xlabel='yr_renovated', ylabel='price'>"
      ]
     },
     "execution_count": 63,
     "metadata": {},
     "output_type": "execute_result"
    },
    {
     "data": {
      "image/png": "[encoded data removed]",
      "text/plain": [
       "<Figure size 1440x864 with 1 Axes>"
      ]
     },
     "metadata": {},
     "output_type": "display_data"
    }
   ],
   "source": [
    "aux1 = df1.loc[df1['yr_renovated'] > pd.to_datetime ('1930'), ['price','yr_renovated']].groupby ('yr_renovated').mean().reset_index()\n",
    "sns.lineplot( x = 'yr_renovated', y = 'price', data = aux1)"
   ]
  },
  {
   "cell_type": "markdown",
   "metadata": {},
   "source": [
    "# <center> DASHBOARDS"
   ]
  },
  {
   "cell_type": "code",
   "execution_count": 64,
   "metadata": {
    "ExecuteTime": {
     "end_time": "2021-12-22T00:24:35.686296Z",
     "start_time": "2021-12-22T00:24:33.723775Z"
    }
   },
   "outputs": [
    {
     "data": {
      "text/plain": [
       "Text(0, 0.5, '')"
      ]
     },
     "execution_count": 64,
     "metadata": {},
     "output_type": "execute_result"
    },
    {
     "data": {
      "image/png": "[encoded data removed]",
      "text/plain": [
       "<Figure size 1440x864 with 4 Axes>"
      ]
     },
     "metadata": {},
     "output_type": "display_data"
    }
   ],
   "source": [
    "fig = plt.figure(figsize = (20,12))\n",
    "specs = gridspec.GridSpec(ncols = 2, nrows = 3, figure=fig)\n",
    "\n",
    "ax1 = fig.add_subplot(specs[0,:])\n",
    "ax2 = fig.add_subplot(specs[1,:])\n",
    "ax3 = fig.add_subplot(specs[2,0])\n",
    "ax4 = fig.add_subplot(specs[2,1])\n",
    "\n",
    "# 1\n",
    "df = df1[['price', 'yr_built']].groupby('yr_built').mean().reset_index()\n",
    "sns.lineplot( x = 'yr_built', y = 'price', data = df, ax = ax1);\n",
    "ax1.set_title( \"Price vs Year Built\" , size = 20 )\n",
    "ax1.set_xlabel(\"\")\n",
    "ax1.set_ylabel(\"\")\n",
    "\n",
    "# 2\n",
    "df = df1.loc[df1['yr_renovated'] > pd.to_datetime ('1930'), ['price','yr_renovated']].groupby ('yr_renovated').mean().reset_index()\n",
    "sns.lineplot( x = 'yr_renovated', y = 'price', data = df, ax = ax2);\n",
    "ax2.set_title( \"Price vs Year Renovated\" , size = 20 ) \n",
    "ax2.set_xlabel(\"\")\n",
    "ax2.set_ylabel(\"\")\n",
    "\n",
    "# 3            \n",
    "df = df1[['price', 'bedrooms']].groupby('bedrooms').sum().reset_index()\n",
    "sns.barplot( x = 'bedrooms', y = 'price', data = df, ax = ax3);\n",
    "ax3.set_title( \"Price vs Bedrooms\" , size = 20 )\n",
    "ax3.set_xlabel(\"\")\n",
    "ax3.set_ylabel(\"\")\n",
    "\n",
    "# 4\n",
    "df = df1[['price', 'dormitory_type']].groupby('dormitory_type').mean().reset_index()\n",
    "sns.barplot(x = 'dormitory_type', y = 'price', data =df, ax= ax4);\n",
    "ax4.set_title( \"Price vs Dormitory Type\" , size = 20 )\n",
    "ax4.set_xlabel(\"\")\n",
    "ax4.set_ylabel(\"\")"
   ]
  },
  {
   "cell_type": "code",
   "execution_count": 65,
   "metadata": {
    "ExecuteTime": {
     "end_time": "2021-12-22T00:24:38.132787Z",
     "start_time": "2021-12-22T00:24:35.688338Z"
    }
   },
   "outputs": [
    {
     "data": {
      "image/png": "[encoded data removed]",
      "text/plain": [
       "<Figure size 1440x864 with 3 Axes>"
      ]
     },
     "metadata": {},
     "output_type": "display_data"
    }
   ],
   "source": [
    "fig = plt.figure(figsize = (20,12))\n",
    "specs = gridspec.GridSpec(ncols = 2, nrows = 2, figure=fig)\n",
    "\n",
    "ax1 = fig.add_subplot(specs[0,:])\n",
    "ax2 = fig.add_subplot(specs[1,0])\n",
    "ax3 = fig.add_subplot(specs[1,1])\n",
    "\n",
    "# Gráfico 1:\n",
    "df1['year'] = pd.to_datetime (df1['date']).dt.year\n",
    "by_year = df1[['price', 'year']].groupby('year').sum().reset_index()\n",
    "\n",
    "sns.barplot(x = 'year',y = 'price', data = by_year, ax = ax1)\n",
    "ax1.set_title( \"Price vs Year\" , size = 20 )\n",
    "ax1.set_xlabel(\"\")\n",
    "ax1.set_ylabel(\"\")\n",
    "\n",
    "# Gráfico 2:\n",
    "df1['day'] = pd.to_datetime (df1['date'])\n",
    "by_day = df1[['price', 'day']].groupby('day').mean().reset_index()\n",
    "\n",
    "sns.lineplot(x = 'day', y = 'price', data = by_day, ax = ax2)\n",
    "ax2.set_title( \"Price vs Day\" , size = 20 ) \n",
    "ax2.set_xlabel(\"\")\n",
    "ax2.set_ylabel(\"\")\n",
    "\n",
    "\n",
    "# Gráfico 3:\n",
    "df1['week'] = pd.to_datetime (df1['date']).dt.strftime('%Y-%U')\n",
    "by_week = df1[['price', 'week']].groupby('week').mean().reset_index()\n",
    "\n",
    "sns.lineplot(x = 'week', y = 'price', data = by_week, ax = ax3)\n",
    "ax3.set_title( \"Price vs Week\" , size = 20 ) \n",
    "ax3.set_xlabel(\"\")\n",
    "ax3.set_ylabel(\"\")\n",
    "plt.xticks (rotation = 90 );"
   ]
  },
  {
   "cell_type": "markdown",
   "metadata": {},
   "source": [
    "# <center> FILTROS ITERATIVOS"
   ]
  },
  {
   "cell_type": "code",
   "execution_count": 66,
   "metadata": {
    "ExecuteTime": {
     "end_time": "2021-12-22T00:24:38.148089Z",
     "start_time": "2021-12-22T00:24:38.134782Z"
    }
   },
   "outputs": [],
   "source": [
    "df2 =  df1.copy()"
   ]
  },
  {
   "cell_type": "code",
   "execution_count": 67,
   "metadata": {
    "ExecuteTime": {
     "end_time": "2021-12-22T00:24:38.166283Z",
     "start_time": "2021-12-22T00:24:38.151882Z"
    }
   },
   "outputs": [],
   "source": [
    "style = {'description_width' : 'initial'}"
   ]
  },
  {
   "cell_type": "code",
   "execution_count": 68,
   "metadata": {
    "ExecuteTime": {
     "end_time": "2021-12-22T00:24:38.200030Z",
     "start_time": "2021-12-22T00:24:38.169953Z"
    }
   },
   "outputs": [],
   "source": [
    "#Iterative Buttons - Price\n",
    "\n",
    "price_limit = widgets.IntSlider(\n",
    "    value = int(df2['price'].mean() ),\n",
    "    min = df2['price'].min(),\n",
    "    max = df2['price'].max(),\n",
    "    step = 1,\n",
    "    description = 'Maximum Price',\n",
    "    disable = False,\n",
    "    style = style\n",
    ")"
   ]
  },
  {
   "cell_type": "code",
   "execution_count": 69,
   "metadata": {
    "ExecuteTime": {
     "end_time": "2021-12-22T00:24:38.233069Z",
     "start_time": "2021-12-22T00:24:38.204018Z"
    }
   },
   "outputs": [],
   "source": [
    "#Iterative Buttons - WaterFront\n",
    "\n",
    "waterfront_bar = widgets.Dropdown(\n",
    "    options = df2['is_waterfront'].unique().tolist(),\n",
    "    value  = 'Yes',\n",
    "    description = 'Water View',\n",
    "    disable = False\n",
    ")"
   ]
  },
  {
   "cell_type": "code",
   "execution_count": 70,
   "metadata": {
    "ExecuteTime": {
     "end_time": "2021-12-22T00:24:38.266067Z",
     "start_time": "2021-12-22T00:24:38.238286Z"
    }
   },
   "outputs": [],
   "source": [
    "#Iterative Buttons - LivingRoom\n",
    "\n",
    "livingroom_limit = widgets.IntSlider(\n",
    "    value = int(df2['sqft_living'].mean() ),\n",
    "    min = df2['sqft_living'].min(),\n",
    "    max = df2['sqft_living'].max(),\n",
    "   step = 1,\n",
    "    description = 'Minimum Living Room Size',\n",
    "    disable = False,\n",
    "    style = style\n",
    ")"
   ]
  },
  {
   "cell_type": "code",
   "execution_count": 71,
   "metadata": {
    "ExecuteTime": {
     "end_time": "2021-12-22T00:24:38.297258Z",
     "start_time": "2021-12-22T00:24:38.269059Z"
    }
   },
   "outputs": [],
   "source": [
    "#Iterative Buttons - Bathrooms\n",
    "\n",
    "bathrooms_limit = widgets.IntSlider(\n",
    "    value = df2['bathrooms'].mean(),\n",
    "    min = df2['bathrooms'].min(),\n",
    "    max = df2['bathrooms'].max(),\n",
    "    step = 1,\n",
    "    description = 'Minimum Bathrooms',\n",
    "    disable = False,\n",
    "    style = style\n",
    ")"
   ]
  },
  {
   "cell_type": "code",
   "execution_count": 72,
   "metadata": {
    "ExecuteTime": {
     "end_time": "2021-12-22T00:24:38.328630Z",
     "start_time": "2021-12-22T00:24:38.301264Z"
    }
   },
   "outputs": [],
   "source": [
    "#Iterative Buttons - Year Built\n",
    "\n",
    "yr_built_limit = widgets.IntSlider(\n",
    "    value = df2['yr_built'].mean(),\n",
    "    min = df2['yr_built'].min(),\n",
    "    max = df2['yr_built'].max(),\n",
    "   step = 1,\n",
    "   description = 'Year Built',\n",
    "    disable = False,\n",
    "    style = style\n",
    ")"
   ]
  },
  {
   "cell_type": "markdown",
   "metadata": {},
   "source": [
    "## <center> MAPA INTERATIVO"
   ]
  },
  {
   "cell_type": "code",
   "execution_count": 73,
   "metadata": {
    "ExecuteTime": {
     "end_time": "2021-12-22T00:24:38.344437Z",
     "start_time": "2021-12-22T00:24:38.330624Z"
    }
   },
   "outputs": [],
   "source": [
    "def update_map(df2, price_limit, livingroom_limit, bathrooms_limit, yr_built_limit, waterfront_bar ): \n",
    "\n",
    "    filters = df2[(df2['price'] < price_limit)&\n",
    "                  (df2['sqft_living'] > livingroom_limit)&\n",
    "                  (df2['bathrooms'] > bathrooms_limit) &\n",
    "                  (df2['yr_built'] > yr_built_limit)&\n",
    "                  (df2['is_waterfront'])][['id', 'lat', 'long', 'price', 'level']].copy()\n",
    "\n",
    "    mapa = px.scatter_mapbox ( filters,\n",
    "                               lat='lat',\n",
    "                               lon='long',\n",
    "                               size = 'price',\n",
    "                               color = 'level',\n",
    "                               hover_name='id',\n",
    "                               color_continuous_scale = px.colors.cyclical.IceFire,\n",
    "                               size_max = 15,\n",
    "                               zoom = 10 )\n",
    "    mapa.update_layout (mapbox_style = 'open-street-map', height = 600, margin = {'r':0, 't':0, 'l':0, 'b':0})\n",
    "    mapa.show()"
   ]
  },
  {
   "cell_type": "code",
   "execution_count": 74,
   "metadata": {
    "ExecuteTime": {
     "end_time": "2021-12-22T00:24:39.746161Z",
     "start_time": "2021-12-22T00:24:38.347261Z"
    }
   },
   "outputs": [
    {
     "data": {
      "application/vnd.jupyter.widget-view+json": {
       "model_id": "1d7ab6ab86794bdab36a74dcdb79e3ea",
       "version_major": 2,
       "version_minor": 0
      },
      "text/plain": [
       "interactive(children=(IntSlider(value=540083, description='Maximum Price', max=7700000, min=75000, style=Slide…"
      ]
     },
     "metadata": {},
     "output_type": "display_data"
    }
   ],
   "source": [
    "widgets.interactive (update_map, df2 =  fixed (df2), price_limit = price_limit,\n",
    "                                                     livingroom_limit = livingroom_limit,\n",
    "                                                     bathrooms_limit = bathrooms_limit,\n",
    "                                                     yr_built_limit = yr_built_limit,\n",
    "                                                     waterfront_bar = waterfront_bar)"
   ]
  },
  {
   "cell_type": "markdown",
   "metadata": {},
   "source": [
    "# <center> ITERATIVIDADE COM O DASHBOARD"
   ]
  },
  {
   "cell_type": "code",
   "execution_count": 75,
   "metadata": {
    "ExecuteTime": {
     "end_time": "2021-12-22T00:24:39.761999Z",
     "start_time": "2021-12-22T00:24:39.750604Z"
    }
   },
   "outputs": [],
   "source": [
    "df3 = df2.copy()"
   ]
  },
  {
   "cell_type": "code",
   "execution_count": 76,
   "metadata": {
    "ExecuteTime": {
     "end_time": "2021-12-22T00:24:40.598873Z",
     "start_time": "2021-12-22T00:24:39.766138Z"
    }
   },
   "outputs": [],
   "source": [
    "#Change Date Format\n",
    "\n",
    "df3['year'] = pd.to_datetime (df3['date']).dt.strftime( '%Y' )\n",
    "df3['date'] = pd.to_datetime (df3['date']).dt.strftime( '%Y-%m-%d')\n",
    "df3['year_week'] = pd.to_datetime (df3['date']).dt.strftime( 'Y%-%U')\n",
    "\n",
    "#Widget to Control Data\n",
    "\n",
    "price_limit = widgets.IntSlider(\n",
    "    value = int(df2['price'].mean() ),\n",
    "    min = df2['price'].min(),\n",
    "    max = df2['price'].max(),\n",
    "    step = 1,\n",
    "    description = 'Maximum Price',\n",
    "    disable = False,\n",
    "    style = style\n",
    ")\n",
    "\n",
    "waterfront_limit = widgets.Checkbox(\n",
    "    value = False,\n",
    "    description = 'Is Waterfront?',\n",
    "    disable = False,\n",
    "    indent = False)"
   ]
  },
  {
   "cell_type": "code",
   "execution_count": 77,
   "metadata": {
    "ExecuteTime": {
     "end_time": "2021-12-22T00:24:40.618062Z",
     "start_time": "2021-12-22T00:24:40.600498Z"
    }
   },
   "outputs": [],
   "source": [
    "def update_dash (df3, price_limit, waterfront_limit ):\n",
    "    \n",
    "    filters_2 = df3[(df3['price'] < price_limit)&\n",
    "                    (df3['waterfront'] == waterfront_limit)].copy()\n",
    "\n",
    "    \n",
    "    fig = plt.figure (figsize = (21,12))\n",
    "    specs = gridspec.GridSpec ( ncols =  2, nrows = 2, figure = fig )\n",
    "    \n",
    "    ax1 = fig.add_subplot (specs[0,:])\n",
    "    ax2 = fig.add_subplot (specs[1,:])\n",
    "    \n",
    "    by_year = filters_2[['price','year']].groupby ('year').count().reset_index()\n",
    "    sns.barplot (x = 'year', y = 'price', data = by_year, ax = ax1)\n",
    "    plt.xticks (rotation = 90 );\n",
    "    \n",
    "    by_day = filters_2[['price','date']].groupby ('date').mean().reset_index()\n",
    "    sns.lineplot (x = 'date', y = 'price', data = by_day, ax = ax2)\n",
    "    plt.xticks (rotation = 90 );"
   ]
  },
  {
   "cell_type": "code",
   "execution_count": 78,
   "metadata": {
    "ExecuteTime": {
     "end_time": "2021-12-22T00:24:50.946249Z",
     "start_time": "2021-12-22T00:24:40.619067Z"
    }
   },
   "outputs": [
    {
     "data": {
      "application/vnd.jupyter.widget-view+json": {
       "model_id": "c5610d9ca9d448e4af47e76d0375c99b",
       "version_major": 2,
       "version_minor": 0
      },
      "text/plain": [
       "interactive(children=(IntSlider(value=540083, description='Maximum Price', max=7700000, min=75000, style=Slide…"
      ]
     },
     "metadata": {},
     "output_type": "display_data"
    }
   ],
   "source": [
    "widgets.interactive ( update_dash, \n",
    "                     df3 = fixed (df3),\n",
    "                     price_limit = price_limit,\n",
    "                     waterfront_limit = waterfront_limit )"
   ]
  }
 ],
 "metadata": {
  "kernelspec": {
   "display_name": "Python 3 (ipykernel)",
   "language": "python",
   "name": "python3"
  },
  "language_info": {
   "codemirror_mode": {
    "name": "ipython",
    "version": 3
   },
   "file_extension": ".py",
   "mimetype": "text/x-python",
   "name": "python",
   "nbconvert_exporter": "python",
   "pygments_lexer": "ipython3",
   "version": "3.9.7"
  }
 },
 "nbformat": 4,
 "nbformat_minor": 4
}
