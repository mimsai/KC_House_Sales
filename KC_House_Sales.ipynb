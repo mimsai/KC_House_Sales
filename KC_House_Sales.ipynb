{
 "cells": [
  {
   "cell_type": "code",
   "execution_count": 1,
   "metadata": {
    "ExecuteTime": {
     "end_time": "2021-12-20T22:54:17.459440Z",
     "start_time": "2021-12-20T22:54:15.962702Z"
    },
    "scrolled": true
   },
   "outputs": [],
   "source": [
    "import time\n",
    "import geopy\n",
    "import numpy                as np\n",
    "import pandas               as pd\n",
    "import seaborn              as sns\n",
    "import plotly.express       as px\n",
    "import matplotlib.pyplot    as plt\n",
    "import ipywidgets           as widgets\n",
    "import geopandas            as gpd\n",
    "import matplotlib.pyplot    as plt\n",
    "import plotly_express       as px\n",
    "\n",
    "from geopy.geocoders          import Nominatim\n",
    "from tabulate                 import tabulate\n",
    "from datetime                 import datetime as dt\n",
    "from matplotlib               import gridspec\n",
    "from IPython.core.display     import HTML  \n",
    "from ipywidgets               import fixed\n",
    "from multiprocessing          import Pool\n",
    "from geopy.extra.rate_limiter import RateLimiter"
   ]
  },
  {
   "cell_type": "code",
   "execution_count": 2,
   "metadata": {
    "ExecuteTime": {
     "end_time": "2021-12-20T22:54:17.475300Z",
     "start_time": "2021-12-20T22:54:17.459440Z"
    }
   },
   "outputs": [],
   "source": [
    "def jupyter_settings():\n",
    "    %matplotlib inline\n",
    "    %pylab inline\n",
    "\n",
    "    plt.style.use( 'bmh' )\n",
    "    plt.rcParams['figure.figsize'] = [20,12]\n",
    "    plt.rcParams['font.size'] = 15\n",
    "    display( HTML( '<style>.container { width:100% !important; }</style>') )\n",
    "    pd.set_option('display.float_format', lambda x: '%.3f' % x)\n",
    "    pd.options.display.max_columns = None\n",
    "    pd.options.display.max_rows = None\n",
    "    pd.set_option( 'display.expand_frame_repr', False )\n",
    "\n",
    "    sns.set()\n"
   ]
  },
  {
   "cell_type": "code",
   "execution_count": 3,
   "metadata": {
    "ExecuteTime": {
     "end_time": "2021-12-20T22:54:17.491212Z",
     "start_time": "2021-12-20T22:54:17.475300Z"
    }
   },
   "outputs": [
    {
     "name": "stdout",
     "output_type": "stream",
     "text": [
      "Populating the interactive namespace from numpy and matplotlib\n"
     ]
    },
    {
     "data": {
      "text/html": [
       "<style>.container { width:100% !important; }</style>"
      ],
      "text/plain": [
       "<IPython.core.display.HTML object>"
      ]
     },
     "metadata": {},
     "output_type": "display_data"
    }
   ],
   "source": [
    "jupyter_settings()"
   ]
  },
  {
   "cell_type": "markdown",
   "metadata": {},
   "source": [
    "# 0.0 Imports"
   ]
  },
  {
   "cell_type": "markdown",
   "metadata": {},
   "source": [
    "## 0.1 Loanding Data"
   ]
  },
  {
   "cell_type": "code",
   "execution_count": 4,
   "metadata": {
    "ExecuteTime": {
     "end_time": "2021-12-20T22:54:19.139489Z",
     "start_time": "2021-12-20T22:54:19.096850Z"
    }
   },
   "outputs": [],
   "source": [
    "df_kc_sales = pd.read_csv(\"kc_house_data.csv\", index_col = False, low_memory = False)"
   ]
  },
  {
   "cell_type": "code",
   "execution_count": 5,
   "metadata": {
    "ExecuteTime": {
     "end_time": "2021-12-20T22:54:19.643700Z",
     "start_time": "2021-12-20T22:54:19.620727Z"
    },
    "scrolled": true
   },
   "outputs": [
    {
     "data": {
      "text/html": [
       "<div>\n",
       "<style scoped>\n",
       "    .dataframe tbody tr th:only-of-type {\n",
       "        vertical-align: middle;\n",
       "    }\n",
       "\n",
       "    .dataframe tbody tr th {\n",
       "        vertical-align: top;\n",
       "    }\n",
       "\n",
       "    .dataframe thead th {\n",
       "        text-align: right;\n",
       "    }\n",
       "</style>\n",
       "<table border=\"1\" class=\"dataframe\">\n",
       "  <thead>\n",
       "    <tr style=\"text-align: right;\">\n",
       "      <th></th>\n",
       "      <th>id</th>\n",
       "      <th>date</th>\n",
       "      <th>price</th>\n",
       "      <th>bedrooms</th>\n",
       "      <th>bathrooms</th>\n",
       "      <th>sqft_living</th>\n",
       "      <th>sqft_lot</th>\n",
       "      <th>floors</th>\n",
       "      <th>waterfront</th>\n",
       "      <th>view</th>\n",
       "      <th>condition</th>\n",
       "      <th>grade</th>\n",
       "      <th>sqft_above</th>\n",
       "      <th>sqft_basement</th>\n",
       "      <th>yr_built</th>\n",
       "      <th>yr_renovated</th>\n",
       "      <th>zipcode</th>\n",
       "      <th>lat</th>\n",
       "      <th>long</th>\n",
       "      <th>sqft_living15</th>\n",
       "      <th>sqft_lot15</th>\n",
       "    </tr>\n",
       "  </thead>\n",
       "  <tbody>\n",
       "    <tr>\n",
       "      <th>8311</th>\n",
       "      <td>2867700035</td>\n",
       "      <td>20150212T000000</td>\n",
       "      <td>500000.000</td>\n",
       "      <td>5</td>\n",
       "      <td>2.000</td>\n",
       "      <td>2300</td>\n",
       "      <td>7897</td>\n",
       "      <td>2.500</td>\n",
       "      <td>0</td>\n",
       "      <td>0</td>\n",
       "      <td>4</td>\n",
       "      <td>8</td>\n",
       "      <td>2300</td>\n",
       "      <td>0</td>\n",
       "      <td>1956</td>\n",
       "      <td>0</td>\n",
       "      <td>98133</td>\n",
       "      <td>47.756</td>\n",
       "      <td>-122.356</td>\n",
       "      <td>2030</td>\n",
       "      <td>7902</td>\n",
       "    </tr>\n",
       "    <tr>\n",
       "      <th>10507</th>\n",
       "      <td>9290850060</td>\n",
       "      <td>20141022T000000</td>\n",
       "      <td>910000.000</td>\n",
       "      <td>4</td>\n",
       "      <td>2.500</td>\n",
       "      <td>3170</td>\n",
       "      <td>32430</td>\n",
       "      <td>2.500</td>\n",
       "      <td>0</td>\n",
       "      <td>0</td>\n",
       "      <td>3</td>\n",
       "      <td>10</td>\n",
       "      <td>3170</td>\n",
       "      <td>0</td>\n",
       "      <td>1989</td>\n",
       "      <td>0</td>\n",
       "      <td>98053</td>\n",
       "      <td>47.690</td>\n",
       "      <td>-122.056</td>\n",
       "      <td>3360</td>\n",
       "      <td>35610</td>\n",
       "    </tr>\n",
       "    <tr>\n",
       "      <th>8466</th>\n",
       "      <td>3410600100</td>\n",
       "      <td>20140613T000000</td>\n",
       "      <td>345000.000</td>\n",
       "      <td>2</td>\n",
       "      <td>1.500</td>\n",
       "      <td>1800</td>\n",
       "      <td>26615</td>\n",
       "      <td>1.000</td>\n",
       "      <td>0</td>\n",
       "      <td>0</td>\n",
       "      <td>5</td>\n",
       "      <td>7</td>\n",
       "      <td>1240</td>\n",
       "      <td>560</td>\n",
       "      <td>1987</td>\n",
       "      <td>0</td>\n",
       "      <td>98092</td>\n",
       "      <td>47.302</td>\n",
       "      <td>-122.123</td>\n",
       "      <td>2010</td>\n",
       "      <td>26337</td>\n",
       "    </tr>\n",
       "    <tr>\n",
       "      <th>6104</th>\n",
       "      <td>4136890280</td>\n",
       "      <td>20150327T000000</td>\n",
       "      <td>320000.000</td>\n",
       "      <td>4</td>\n",
       "      <td>2.500</td>\n",
       "      <td>1940</td>\n",
       "      <td>7040</td>\n",
       "      <td>2.000</td>\n",
       "      <td>0</td>\n",
       "      <td>0</td>\n",
       "      <td>3</td>\n",
       "      <td>8</td>\n",
       "      <td>1940</td>\n",
       "      <td>0</td>\n",
       "      <td>1998</td>\n",
       "      <td>0</td>\n",
       "      <td>98092</td>\n",
       "      <td>47.263</td>\n",
       "      <td>-122.209</td>\n",
       "      <td>2400</td>\n",
       "      <td>7145</td>\n",
       "    </tr>\n",
       "    <tr>\n",
       "      <th>13084</th>\n",
       "      <td>518500210</td>\n",
       "      <td>20140508T000000</td>\n",
       "      <td>868500.000</td>\n",
       "      <td>3</td>\n",
       "      <td>2.500</td>\n",
       "      <td>2920</td>\n",
       "      <td>3942</td>\n",
       "      <td>3.000</td>\n",
       "      <td>0</td>\n",
       "      <td>0</td>\n",
       "      <td>3</td>\n",
       "      <td>10</td>\n",
       "      <td>2920</td>\n",
       "      <td>0</td>\n",
       "      <td>2008</td>\n",
       "      <td>0</td>\n",
       "      <td>98056</td>\n",
       "      <td>47.531</td>\n",
       "      <td>-122.204</td>\n",
       "      <td>2920</td>\n",
       "      <td>3942</td>\n",
       "    </tr>\n",
       "  </tbody>\n",
       "</table>\n",
       "</div>"
      ],
      "text/plain": [
       "               id             date      price  bedrooms  bathrooms  sqft_living  sqft_lot  floors  waterfront  view  condition  grade  sqft_above  sqft_basement  yr_built  yr_renovated  zipcode    lat     long  sqft_living15  sqft_lot15\n",
       "8311   2867700035  20150212T000000 500000.000         5      2.000         2300      7897   2.500           0     0          4      8        2300              0      1956             0    98133 47.756 -122.356           2030        7902\n",
       "10507  9290850060  20141022T000000 910000.000         4      2.500         3170     32430   2.500           0     0          3     10        3170              0      1989             0    98053 47.690 -122.056           3360       35610\n",
       "8466   3410600100  20140613T000000 345000.000         2      1.500         1800     26615   1.000           0     0          5      7        1240            560      1987             0    98092 47.302 -122.123           2010       26337\n",
       "6104   4136890280  20150327T000000 320000.000         4      2.500         1940      7040   2.000           0     0          3      8        1940              0      1998             0    98092 47.263 -122.209           2400        7145\n",
       "13084   518500210  20140508T000000 868500.000         3      2.500         2920      3942   3.000           0     0          3     10        2920              0      2008             0    98056 47.531 -122.204           2920        3942"
      ]
     },
     "execution_count": 5,
     "metadata": {},
     "output_type": "execute_result"
    }
   ],
   "source": [
    "df_kc_sales.sample(5)"
   ]
  },
  {
   "cell_type": "markdown",
   "metadata": {},
   "source": [
    "# 1.0 Data Descriptive\n",
    "\n"
   ]
  },
  {
   "cell_type": "code",
   "execution_count": 6,
   "metadata": {
    "ExecuteTime": {
     "end_time": "2021-12-20T22:54:20.728268Z",
     "start_time": "2021-12-20T22:54:20.716271Z"
    }
   },
   "outputs": [],
   "source": [
    "df1 = df_kc_sales.copy()"
   ]
  },
  {
   "cell_type": "markdown",
   "metadata": {},
   "source": [
    "# 1.1 Data Dimensions"
   ]
  },
  {
   "cell_type": "code",
   "execution_count": 7,
   "metadata": {
    "ExecuteTime": {
     "end_time": "2021-12-20T22:54:21.818456Z",
     "start_time": "2021-12-20T22:54:21.798109Z"
    }
   },
   "outputs": [
    {
     "name": "stdout",
     "output_type": "stream",
     "text": [
      "Number of Rows: 21613\n",
      "Number of Cols: 21\n"
     ]
    }
   ],
   "source": [
    "print ('Number of Rows: {}'.format( df1.shape[0]))\n",
    "print ('Number of Cols: {}'.format (df1.shape[1]))"
   ]
  },
  {
   "cell_type": "code",
   "execution_count": 8,
   "metadata": {
    "ExecuteTime": {
     "end_time": "2021-12-20T22:54:22.354458Z",
     "start_time": "2021-12-20T22:54:22.346435Z"
    }
   },
   "outputs": [
    {
     "data": {
      "text/plain": [
       "Index(['id', 'date', 'price', 'bedrooms', 'bathrooms', 'sqft_living',\n",
       "       'sqft_lot', 'floors', 'waterfront', 'view', 'condition', 'grade',\n",
       "       'sqft_above', 'sqft_basement', 'yr_built', 'yr_renovated', 'zipcode',\n",
       "       'lat', 'long', 'sqft_living15', 'sqft_lot15'],\n",
       "      dtype='object')"
      ]
     },
     "execution_count": 8,
     "metadata": {},
     "output_type": "execute_result"
    }
   ],
   "source": [
    "df1.columns"
   ]
  },
  {
   "cell_type": "markdown",
   "metadata": {},
   "source": [
    "# 1.2 Data Types"
   ]
  },
  {
   "cell_type": "code",
   "execution_count": 9,
   "metadata": {
    "ExecuteTime": {
     "end_time": "2021-12-20T22:54:23.394290Z",
     "start_time": "2021-12-20T22:54:23.378307Z"
    },
    "scrolled": true
   },
   "outputs": [
    {
     "data": {
      "text/plain": [
       "id                 int64\n",
       "date              object\n",
       "price            float64\n",
       "bedrooms           int64\n",
       "bathrooms        float64\n",
       "sqft_living        int64\n",
       "sqft_lot           int64\n",
       "floors           float64\n",
       "waterfront         int64\n",
       "view               int64\n",
       "condition          int64\n",
       "grade              int64\n",
       "sqft_above         int64\n",
       "sqft_basement      int64\n",
       "yr_built           int64\n",
       "yr_renovated       int64\n",
       "zipcode            int64\n",
       "lat              float64\n",
       "long             float64\n",
       "sqft_living15      int64\n",
       "sqft_lot15         int64\n",
       "dtype: object"
      ]
     },
     "execution_count": 9,
     "metadata": {},
     "output_type": "execute_result"
    }
   ],
   "source": [
    "df1.dtypes"
   ]
  },
  {
   "cell_type": "markdown",
   "metadata": {},
   "source": [
    "# 1.3 API (Adicionar Endereço Completo)"
   ]
  },
  {
   "cell_type": "code",
   "execution_count": 10,
   "metadata": {
    "ExecuteTime": {
     "end_time": "2021-12-20T22:54:24.479770Z",
     "start_time": "2021-12-20T22:54:24.467782Z"
    },
    "scrolled": true
   },
   "outputs": [],
   "source": [
    "#df1['query'] = df1[['lat', 'long']].apply( lambda x: str(x['lat']) + ',' + str(x['long']), axis = 1)\n",
    "#\n",
    "#df_query = df1.loc[:,('id', 'query')]"
   ]
  },
  {
   "cell_type": "code",
   "execution_count": 11,
   "metadata": {
    "ExecuteTime": {
     "end_time": "2021-12-20T22:54:24.993518Z",
     "start_time": "2021-12-20T22:54:24.989588Z"
    }
   },
   "outputs": [],
   "source": [
    "#Create Empty Columns\n",
    "\n",
    "#df1.loc[:,'place_id']      = 'NA'\n",
    "#df1.loc[:,'osm_type']      = 'NA'\n",
    "#df1.loc[:,'house_number']  = 'NA'\n",
    "#df1.loc[:,'road']          = 'NA'\n",
    "#df1.loc[:,'neighbourhood'] = 'NA'\n",
    "#df1.loc[:,'city']          = 'NA'\n",
    "#df1.loc[:,'county']        = 'NA'\n",
    "#df1.loc[:,'state']         = 'NA'\n",
    "#df1.loc[:,'country']       = 'NA'\n",
    "#df1.loc[:,'country_code']  = 'NA'"
   ]
  },
  {
   "cell_type": "code",
   "execution_count": 12,
   "metadata": {
    "ExecuteTime": {
     "end_time": "2021-12-20T22:54:25.503334Z",
     "start_time": "2021-12-20T22:54:25.487327Z"
    }
   },
   "outputs": [],
   "source": [
    "#p = Pool(4)\n",
    "#\n",
    "#\n",
    "#start = time.process_time()\n",
    "#\n",
    "##Arquivo 'defs' em .py\n",
    "#\n",
    "#import defs\n",
    "#\n",
    "#df_query[['house_number','road', 'neighbourhood', 'city', 'state', 'country']] = p.map ( defs.get_data, df_query.iterrows())\n",
    "#\n",
    "#end = time.process_time()\n",
    "#\n",
    "#print ('Time Elapsed: {}', end - start)\n",
    "\n",
    "#df_query = df_query.to_csv(\"df_query.csv\")"
   ]
  },
  {
   "cell_type": "code",
   "execution_count": 13,
   "metadata": {
    "ExecuteTime": {
     "end_time": "2021-12-20T22:54:26.011166Z",
     "start_time": "2021-12-20T22:54:25.963232Z"
    }
   },
   "outputs": [],
   "source": [
    "df_query = pd.read_csv('df_query.csv')"
   ]
  },
  {
   "cell_type": "markdown",
   "metadata": {},
   "source": [
    "# 1.4 Check NA"
   ]
  },
  {
   "cell_type": "code",
   "execution_count": 14,
   "metadata": {
    "ExecuteTime": {
     "end_time": "2021-12-20T22:54:27.059296Z",
     "start_time": "2021-12-20T22:54:27.047311Z"
    },
    "scrolled": true
   },
   "outputs": [
    {
     "data": {
      "text/plain": [
       "id               0\n",
       "date             0\n",
       "price            0\n",
       "bedrooms         0\n",
       "bathrooms        0\n",
       "sqft_living      0\n",
       "sqft_lot         0\n",
       "floors           0\n",
       "waterfront       0\n",
       "view             0\n",
       "condition        0\n",
       "grade            0\n",
       "sqft_above       0\n",
       "sqft_basement    0\n",
       "yr_built         0\n",
       "yr_renovated     0\n",
       "zipcode          0\n",
       "lat              0\n",
       "long             0\n",
       "sqft_living15    0\n",
       "sqft_lot15       0\n",
       "dtype: int64"
      ]
     },
     "execution_count": 14,
     "metadata": {},
     "output_type": "execute_result"
    }
   ],
   "source": [
    "df1.isnull().sum()#/df1.shape[0] * 100"
   ]
  },
  {
   "cell_type": "markdown",
   "metadata": {},
   "source": [
    "# 1.4 Descriptive Statistical"
   ]
  },
  {
   "cell_type": "code",
   "execution_count": 15,
   "metadata": {
    "ExecuteTime": {
     "end_time": "2021-12-20T22:54:28.598855Z",
     "start_time": "2021-12-20T22:54:28.578102Z"
    }
   },
   "outputs": [],
   "source": [
    "num_att = df1.select_dtypes( include = ['int64', 'float64'])"
   ]
  },
  {
   "cell_type": "markdown",
   "metadata": {},
   "source": [
    "# 1.4.1 Numerical Attributes"
   ]
  },
  {
   "cell_type": "code",
   "execution_count": 16,
   "metadata": {
    "ExecuteTime": {
     "end_time": "2021-12-20T22:54:29.823497Z",
     "start_time": "2021-12-20T22:54:29.725620Z"
    }
   },
   "outputs": [
    {
     "data": {
      "text/html": [
       "<div>\n",
       "<style scoped>\n",
       "    .dataframe tbody tr th:only-of-type {\n",
       "        vertical-align: middle;\n",
       "    }\n",
       "\n",
       "    .dataframe tbody tr th {\n",
       "        vertical-align: top;\n",
       "    }\n",
       "\n",
       "    .dataframe thead th {\n",
       "        text-align: right;\n",
       "    }\n",
       "</style>\n",
       "<table border=\"1\" class=\"dataframe\">\n",
       "  <thead>\n",
       "    <tr style=\"text-align: right;\">\n",
       "      <th></th>\n",
       "      <th>attributes</th>\n",
       "      <th>min</th>\n",
       "      <th>max</th>\n",
       "      <th>range</th>\n",
       "      <th>mean</th>\n",
       "      <th>median</th>\n",
       "      <th>std</th>\n",
       "      <th>skew</th>\n",
       "      <th>kurtosis</th>\n",
       "    </tr>\n",
       "  </thead>\n",
       "  <tbody>\n",
       "    <tr>\n",
       "      <th>0</th>\n",
       "      <td>id</td>\n",
       "      <td>1000102.000</td>\n",
       "      <td>9900000190.000</td>\n",
       "      <td>9899000088.000</td>\n",
       "      <td>4580301520.865</td>\n",
       "      <td>3904930410.000</td>\n",
       "      <td>2876499023.428</td>\n",
       "      <td>0.243</td>\n",
       "      <td>-1.261</td>\n",
       "    </tr>\n",
       "    <tr>\n",
       "      <th>1</th>\n",
       "      <td>price</td>\n",
       "      <td>75000.000</td>\n",
       "      <td>7700000.000</td>\n",
       "      <td>7625000.000</td>\n",
       "      <td>540088.142</td>\n",
       "      <td>450000.000</td>\n",
       "      <td>367118.703</td>\n",
       "      <td>4.024</td>\n",
       "      <td>34.586</td>\n",
       "    </tr>\n",
       "    <tr>\n",
       "      <th>2</th>\n",
       "      <td>bedrooms</td>\n",
       "      <td>0.000</td>\n",
       "      <td>33.000</td>\n",
       "      <td>33.000</td>\n",
       "      <td>3.371</td>\n",
       "      <td>3.000</td>\n",
       "      <td>0.930</td>\n",
       "      <td>1.974</td>\n",
       "      <td>49.064</td>\n",
       "    </tr>\n",
       "    <tr>\n",
       "      <th>3</th>\n",
       "      <td>bathrooms</td>\n",
       "      <td>0.000</td>\n",
       "      <td>8.000</td>\n",
       "      <td>8.000</td>\n",
       "      <td>2.115</td>\n",
       "      <td>2.250</td>\n",
       "      <td>0.770</td>\n",
       "      <td>0.511</td>\n",
       "      <td>1.280</td>\n",
       "    </tr>\n",
       "    <tr>\n",
       "      <th>4</th>\n",
       "      <td>sqft_living</td>\n",
       "      <td>290.000</td>\n",
       "      <td>13540.000</td>\n",
       "      <td>13250.000</td>\n",
       "      <td>2079.900</td>\n",
       "      <td>1910.000</td>\n",
       "      <td>918.420</td>\n",
       "      <td>1.472</td>\n",
       "      <td>5.243</td>\n",
       "    </tr>\n",
       "    <tr>\n",
       "      <th>5</th>\n",
       "      <td>sqft_lot</td>\n",
       "      <td>520.000</td>\n",
       "      <td>1651359.000</td>\n",
       "      <td>1650839.000</td>\n",
       "      <td>15106.968</td>\n",
       "      <td>7618.000</td>\n",
       "      <td>41419.553</td>\n",
       "      <td>13.060</td>\n",
       "      <td>285.078</td>\n",
       "    </tr>\n",
       "    <tr>\n",
       "      <th>6</th>\n",
       "      <td>floors</td>\n",
       "      <td>1.000</td>\n",
       "      <td>3.500</td>\n",
       "      <td>2.500</td>\n",
       "      <td>1.494</td>\n",
       "      <td>1.500</td>\n",
       "      <td>0.540</td>\n",
       "      <td>0.616</td>\n",
       "      <td>-0.485</td>\n",
       "    </tr>\n",
       "    <tr>\n",
       "      <th>7</th>\n",
       "      <td>waterfront</td>\n",
       "      <td>0.000</td>\n",
       "      <td>1.000</td>\n",
       "      <td>1.000</td>\n",
       "      <td>0.008</td>\n",
       "      <td>0.000</td>\n",
       "      <td>0.087</td>\n",
       "      <td>11.385</td>\n",
       "      <td>127.632</td>\n",
       "    </tr>\n",
       "    <tr>\n",
       "      <th>8</th>\n",
       "      <td>view</td>\n",
       "      <td>0.000</td>\n",
       "      <td>4.000</td>\n",
       "      <td>4.000</td>\n",
       "      <td>0.234</td>\n",
       "      <td>0.000</td>\n",
       "      <td>0.766</td>\n",
       "      <td>3.396</td>\n",
       "      <td>10.893</td>\n",
       "    </tr>\n",
       "    <tr>\n",
       "      <th>9</th>\n",
       "      <td>condition</td>\n",
       "      <td>1.000</td>\n",
       "      <td>5.000</td>\n",
       "      <td>4.000</td>\n",
       "      <td>3.409</td>\n",
       "      <td>3.000</td>\n",
       "      <td>0.651</td>\n",
       "      <td>1.033</td>\n",
       "      <td>0.526</td>\n",
       "    </tr>\n",
       "    <tr>\n",
       "      <th>10</th>\n",
       "      <td>grade</td>\n",
       "      <td>1.000</td>\n",
       "      <td>13.000</td>\n",
       "      <td>12.000</td>\n",
       "      <td>7.657</td>\n",
       "      <td>7.000</td>\n",
       "      <td>1.175</td>\n",
       "      <td>0.771</td>\n",
       "      <td>1.191</td>\n",
       "    </tr>\n",
       "    <tr>\n",
       "      <th>11</th>\n",
       "      <td>sqft_above</td>\n",
       "      <td>290.000</td>\n",
       "      <td>9410.000</td>\n",
       "      <td>9120.000</td>\n",
       "      <td>1788.391</td>\n",
       "      <td>1560.000</td>\n",
       "      <td>828.072</td>\n",
       "      <td>1.447</td>\n",
       "      <td>3.402</td>\n",
       "    </tr>\n",
       "    <tr>\n",
       "      <th>12</th>\n",
       "      <td>sqft_basement</td>\n",
       "      <td>0.000</td>\n",
       "      <td>4820.000</td>\n",
       "      <td>4820.000</td>\n",
       "      <td>291.509</td>\n",
       "      <td>0.000</td>\n",
       "      <td>442.565</td>\n",
       "      <td>1.578</td>\n",
       "      <td>2.716</td>\n",
       "    </tr>\n",
       "    <tr>\n",
       "      <th>13</th>\n",
       "      <td>yr_built</td>\n",
       "      <td>1900.000</td>\n",
       "      <td>2015.000</td>\n",
       "      <td>115.000</td>\n",
       "      <td>1971.005</td>\n",
       "      <td>1975.000</td>\n",
       "      <td>29.373</td>\n",
       "      <td>-0.470</td>\n",
       "      <td>-0.657</td>\n",
       "    </tr>\n",
       "    <tr>\n",
       "      <th>14</th>\n",
       "      <td>yr_renovated</td>\n",
       "      <td>0.000</td>\n",
       "      <td>2015.000</td>\n",
       "      <td>2015.000</td>\n",
       "      <td>84.402</td>\n",
       "      <td>0.000</td>\n",
       "      <td>401.670</td>\n",
       "      <td>4.549</td>\n",
       "      <td>18.701</td>\n",
       "    </tr>\n",
       "    <tr>\n",
       "      <th>15</th>\n",
       "      <td>zipcode</td>\n",
       "      <td>98001.000</td>\n",
       "      <td>98199.000</td>\n",
       "      <td>198.000</td>\n",
       "      <td>98077.940</td>\n",
       "      <td>98065.000</td>\n",
       "      <td>53.504</td>\n",
       "      <td>0.406</td>\n",
       "      <td>-0.853</td>\n",
       "    </tr>\n",
       "    <tr>\n",
       "      <th>16</th>\n",
       "      <td>lat</td>\n",
       "      <td>47.156</td>\n",
       "      <td>47.778</td>\n",
       "      <td>0.622</td>\n",
       "      <td>47.560</td>\n",
       "      <td>47.572</td>\n",
       "      <td>0.139</td>\n",
       "      <td>-0.485</td>\n",
       "      <td>-0.676</td>\n",
       "    </tr>\n",
       "    <tr>\n",
       "      <th>17</th>\n",
       "      <td>long</td>\n",
       "      <td>-122.519</td>\n",
       "      <td>-121.315</td>\n",
       "      <td>1.204</td>\n",
       "      <td>-122.214</td>\n",
       "      <td>-122.230</td>\n",
       "      <td>0.141</td>\n",
       "      <td>0.885</td>\n",
       "      <td>1.050</td>\n",
       "    </tr>\n",
       "    <tr>\n",
       "      <th>18</th>\n",
       "      <td>sqft_living15</td>\n",
       "      <td>399.000</td>\n",
       "      <td>6210.000</td>\n",
       "      <td>5811.000</td>\n",
       "      <td>1986.552</td>\n",
       "      <td>1840.000</td>\n",
       "      <td>685.375</td>\n",
       "      <td>1.108</td>\n",
       "      <td>1.597</td>\n",
       "    </tr>\n",
       "    <tr>\n",
       "      <th>19</th>\n",
       "      <td>sqft_lot15</td>\n",
       "      <td>651.000</td>\n",
       "      <td>871200.000</td>\n",
       "      <td>870549.000</td>\n",
       "      <td>12768.456</td>\n",
       "      <td>7620.000</td>\n",
       "      <td>27303.548</td>\n",
       "      <td>9.507</td>\n",
       "      <td>150.763</td>\n",
       "    </tr>\n",
       "  </tbody>\n",
       "</table>\n",
       "</div>"
      ],
      "text/plain": [
       "       attributes         min            max          range           mean         median            std   skew  kurtosis\n",
       "0              id 1000102.000 9900000190.000 9899000088.000 4580301520.865 3904930410.000 2876499023.428  0.243    -1.261\n",
       "1           price   75000.000    7700000.000    7625000.000     540088.142     450000.000     367118.703  4.024    34.586\n",
       "2        bedrooms       0.000         33.000         33.000          3.371          3.000          0.930  1.974    49.064\n",
       "3       bathrooms       0.000          8.000          8.000          2.115          2.250          0.770  0.511     1.280\n",
       "4     sqft_living     290.000      13540.000      13250.000       2079.900       1910.000        918.420  1.472     5.243\n",
       "5        sqft_lot     520.000    1651359.000    1650839.000      15106.968       7618.000      41419.553 13.060   285.078\n",
       "6          floors       1.000          3.500          2.500          1.494          1.500          0.540  0.616    -0.485\n",
       "7      waterfront       0.000          1.000          1.000          0.008          0.000          0.087 11.385   127.632\n",
       "8            view       0.000          4.000          4.000          0.234          0.000          0.766  3.396    10.893\n",
       "9       condition       1.000          5.000          4.000          3.409          3.000          0.651  1.033     0.526\n",
       "10          grade       1.000         13.000         12.000          7.657          7.000          1.175  0.771     1.191\n",
       "11     sqft_above     290.000       9410.000       9120.000       1788.391       1560.000        828.072  1.447     3.402\n",
       "12  sqft_basement       0.000       4820.000       4820.000        291.509          0.000        442.565  1.578     2.716\n",
       "13       yr_built    1900.000       2015.000        115.000       1971.005       1975.000         29.373 -0.470    -0.657\n",
       "14   yr_renovated       0.000       2015.000       2015.000         84.402          0.000        401.670  4.549    18.701\n",
       "15        zipcode   98001.000      98199.000        198.000      98077.940      98065.000         53.504  0.406    -0.853\n",
       "16            lat      47.156         47.778          0.622         47.560         47.572          0.139 -0.485    -0.676\n",
       "17           long    -122.519       -121.315          1.204       -122.214       -122.230          0.141  0.885     1.050\n",
       "18  sqft_living15     399.000       6210.000       5811.000       1986.552       1840.000        685.375  1.108     1.597\n",
       "19     sqft_lot15     651.000     871200.000     870549.000      12768.456       7620.000      27303.548  9.507   150.763"
      ]
     },
     "execution_count": 16,
     "metadata": {},
     "output_type": "execute_result"
    }
   ],
   "source": [
    "# Central Tendency - Mean, Median\n",
    "\n",
    "ct1 = pd.DataFrame (num_att.apply (np.mean)).T\n",
    "ct2 = pd.DataFrame (num_att.apply (np.median)).T\n",
    "\n",
    "#Dispersion - std, min, max, range, skew, kurtosis\n",
    "\n",
    "d1 = pd.DataFrame (num_att.apply (np.std)).T\n",
    "d2 = pd.DataFrame (num_att.apply (min)).T\n",
    "d3 = pd.DataFrame (num_att.apply (max)).T\n",
    "d4 = pd.DataFrame (num_att.apply (lambda x: x.max() - x.min())).T\n",
    "d5 = pd.DataFrame (num_att.apply (lambda x: x.skew())).T\n",
    "d6 = pd.DataFrame (num_att.apply (lambda x: x.kurtosis())).T\n",
    "\n",
    "# Concatenate\n",
    "\n",
    "t = pd.concat ((d2, d3, d4, ct1, ct2, d1, d5, d6)).T.reset_index()\n",
    "t.columns =['attributes', 'min', 'max', 'range', 'mean', 'median', 'std', 'skew', 'kurtosis']\n",
    "\n",
    "t"
   ]
  },
  {
   "cell_type": "markdown",
   "metadata": {},
   "source": [
    "# 1.5 Modificações Para Alterações de Variáveis (Usabilidade)"
   ]
  },
  {
   "cell_type": "code",
   "execution_count": 17,
   "metadata": {
    "ExecuteTime": {
     "end_time": "2021-12-20T22:54:32.511064Z",
     "start_time": "2021-12-20T22:54:31.053094Z"
    }
   },
   "outputs": [],
   "source": [
    "##Considerações de Old_House e New_House\n",
    "#Imóvel com data a partir de 01-01-2015: 'new_house'\n",
    "#Imóvel com data anterior à 01-01-2015: 'old_house'\n",
    "\n",
    "df1['date'] = pd.to_datetime(df1['date'], format = '%Y-%m-%d')\n",
    "df1['house_age'] = df1['date'].apply( lambda x: 'new_house' if x > pd.to_datetime('2015-01-01',format = '%Y-%m-%d')  else 'old_house')"
   ]
  },
  {
   "cell_type": "code",
   "execution_count": 18,
   "metadata": {
    "ExecuteTime": {
     "end_time": "2021-12-20T22:54:32.523075Z",
     "start_time": "2021-12-20T22:54:32.511064Z"
    }
   },
   "outputs": [],
   "source": [
    "##Considerações sobre tipo de Quarto\n",
    "#Imóvel com um quarto: 'Studio'\n",
    "#Imóvel com dois quartos: 'Apartament'\n",
    "#Imóvel com mais de dois quartos: 'House'\n",
    "#Imóvel com valor '0': 'No Bedroom'\n",
    "\n",
    "df1['dormitory_type'] = df1['bedrooms'].apply(lambda x: 'studio' if x == 1 else\n",
    "                                                        'apartament' if x == 2 else\n",
    "                                                        'house' if x > 2 else \"no bedroom\" )"
   ]
  },
  {
   "cell_type": "code",
   "execution_count": 19,
   "metadata": {
    "ExecuteTime": {
     "end_time": "2021-12-20T22:54:32.553428Z",
     "start_time": "2021-12-20T22:54:32.523075Z"
    }
   },
   "outputs": [],
   "source": [
    "##Considerações sobre Conservação do Apartamento\n",
    "#Imóvel com condição 1: 'bad'\n",
    "#Imóvel com condição 2: 'bad'\n",
    "#Imóvel com condição 3: 'regular'\n",
    "#Imóvel com condição 4: 'regular'\n",
    "#Imóvel com condição 5: 'good'\n",
    "\n",
    "\n",
    "df1['condition_type'] = df1['condition'].apply(lambda x: 'bad' if x <= 2 else\n",
    "                                                         'regular' if (x == 3) | (x == 4) else 'good')\n",
    "df1['condition'] = df1['condition'].astype('str')"
   ]
  },
  {
   "cell_type": "code",
   "execution_count": 20,
   "metadata": {
    "ExecuteTime": {
     "end_time": "2021-12-20T22:54:32.776066Z",
     "start_time": "2021-12-20T22:54:32.765901Z"
    }
   },
   "outputs": [],
   "source": [
    "#Modificação de Colunas\n",
    "\n",
    "df1 = df1.drop(['sqft_living15', 'sqft_lot15'], axis = 1)"
   ]
  },
  {
   "cell_type": "code",
   "execution_count": 21,
   "metadata": {
    "ExecuteTime": {
     "end_time": "2021-12-20T22:54:34.922540Z",
     "start_time": "2021-12-20T22:54:33.371184Z"
    }
   },
   "outputs": [],
   "source": [
    "#Transformação para Datas\n",
    "\n",
    "df1['yr_built'] = pd.to_datetime(df1['yr_built'], format = '%Y').dt.year\n",
    "\n",
    "df1['yr_renovated'] = df1['yr_renovated'].apply (lambda x: pd.to_datetime ('1900-01-01', format = '%Y-%m-%d') if x == 0 else pd.to_datetime (x, format ='%Y'))"
   ]
  },
  {
   "cell_type": "code",
   "execution_count": 22,
   "metadata": {
    "ExecuteTime": {
     "end_time": "2021-12-20T22:54:34.957187Z",
     "start_time": "2021-12-20T22:54:34.922540Z"
    }
   },
   "outputs": [],
   "source": [
    "##Considerações sobre Level de Valores\n",
    "#Imóvel 0 até 321.950: 0\n",
    "#Imóvel 321.950 até 450.000: 1\n",
    "#Imóvel 450.000 até 645.000: 2\n",
    "#Imóvel acima de 645.000: 3\n",
    "\n",
    "df1['level'] = 'standard'\n",
    "       \n",
    "df1['level'] = df1['price'].apply ( lambda x: 0 if x < 321950 else\n",
    "                                              1 if (x > 321950) & (x < 450000) else\n",
    "                                              2 if (x > 450000) & (x < 645000) else 3)\n",
    "\n",
    "df1['level'] = df1['level'].astype(int)"
   ]
  },
  {
   "cell_type": "code",
   "execution_count": 23,
   "metadata": {
    "ExecuteTime": {
     "end_time": "2021-12-20T22:54:34.973141Z",
     "start_time": "2021-12-20T22:54:34.957187Z"
    }
   },
   "outputs": [],
   "source": [
    "# Coluna \"Yes/No\" WaterFront\n",
    "\n",
    "df1['is_waterfront'] =  df1['waterfront'].apply( lambda x: 'Yes' if x == 1 else 'No')"
   ]
  },
  {
   "cell_type": "code",
   "execution_count": 24,
   "metadata": {
    "ExecuteTime": {
     "end_time": "2021-12-20T22:54:35.258223Z",
     "start_time": "2021-12-20T22:54:35.230294Z"
    }
   },
   "outputs": [],
   "source": [
    "## Size das Salas de Estar\n",
    "#Imóvel 0 até 1.427: 0\n",
    "#Imóvel 1.427 até 1.910: 1\n",
    "#Imóvel 1.910 até 2.550: 2\n",
    "#Imóvel acima de 2.550: 3\n",
    "\n",
    "df1['size'] = 'standard'\n",
    "\n",
    "df1['size'] = df1['sqft_living'].apply ( lambda x: 's00' if (x >= 0) & (x <= 1427) else\n",
    "                                            's01' if (x > 1427) & (x <= 1910) else\n",
    "                                            's02' if (x > 1910) & (x <= 2550) else 's03')"
   ]
  },
  {
   "cell_type": "code",
   "execution_count": 25,
   "metadata": {
    "ExecuteTime": {
     "end_time": "2021-12-20T22:54:35.803298Z",
     "start_time": "2021-12-20T22:54:35.791316Z"
    },
    "scrolled": true
   },
   "outputs": [
    {
     "name": "stdout",
     "output_type": "stream",
     "text": [
      "[ 3  2  4  5  1  6  7  0  8  9 11 10 33]\n",
      "1.000    10680\n",
      "2.000     8241\n",
      "1.500     1910\n",
      "3.000      613\n",
      "2.500      161\n",
      "3.500        8\n",
      "Name: floors, dtype: int64\n"
     ]
    }
   ],
   "source": [
    "##Inconformidade de Valores\n",
    "\n",
    "print(df1['bedrooms'].unique())\n",
    "print(df1['floors'].value_counts())"
   ]
  },
  {
   "cell_type": "code",
   "execution_count": 26,
   "metadata": {
    "ExecuteTime": {
     "end_time": "2021-12-20T22:54:36.395002Z",
     "start_time": "2021-12-20T22:54:36.363044Z"
    }
   },
   "outputs": [],
   "source": [
    "df1 = df1.drop(df1[df1['bedrooms'] > 11].index)"
   ]
  },
  {
   "cell_type": "code",
   "execution_count": 27,
   "metadata": {
    "ExecuteTime": {
     "end_time": "2021-12-20T22:54:36.956136Z",
     "start_time": "2021-12-20T22:54:36.944147Z"
    }
   },
   "outputs": [],
   "source": [
    "df1['floors'] = df1['floors'].apply(np.ceil)"
   ]
  },
  {
   "cell_type": "code",
   "execution_count": 28,
   "metadata": {
    "ExecuteTime": {
     "end_time": "2021-12-20T22:54:38.487273Z",
     "start_time": "2021-12-20T22:54:38.471295Z"
    },
    "scrolled": true
   },
   "outputs": [],
   "source": [
    "df1['bathrooms'] = df1['bathrooms'].apply(np.ceil)"
   ]
  },
  {
   "cell_type": "code",
   "execution_count": 29,
   "metadata": {
    "ExecuteTime": {
     "end_time": "2021-12-20T22:54:40.000289Z",
     "start_time": "2021-12-20T22:54:39.033232Z"
    }
   },
   "outputs": [],
   "source": [
    "df_clean = df1.to_csv('df_clean')"
   ]
  },
  {
   "cell_type": "code",
   "execution_count": 31,
   "metadata": {
    "ExecuteTime": {
     "end_time": "2021-12-20T22:55:06.283270Z",
     "start_time": "2021-12-20T22:55:06.193501Z"
    }
   },
   "outputs": [],
   "source": [
    "df_clean = pd.read_csv('df_clean')"
   ]
  },
  {
   "cell_type": "code",
   "execution_count": 40,
   "metadata": {
    "ExecuteTime": {
     "end_time": "2021-12-20T22:58:56.283517Z",
     "start_time": "2021-12-20T22:58:56.253821Z"
    }
   },
   "outputs": [
    {
     "name": "stderr",
     "output_type": "stream",
     "text": [
      "C:\\Users\\marin\\AppData\\Local\\Temp/ipykernel_1640/4253089150.py:7: RuntimeWarning: divide by zero encountered in double_scalars\n",
      "  bin_count = int(np.ceil((df_clean['waterfront'].max() - df_clean['waterfront'].min()) / bin_width))\n"
     ]
    },
    {
     "ename": "OverflowError",
     "evalue": "cannot convert float infinity to integer",
     "output_type": "error",
     "traceback": [
      "\u001b[1;31m---------------------------------------------------------------------------\u001b[0m",
      "\u001b[1;31mOverflowError\u001b[0m                             Traceback (most recent call last)",
      "\u001b[1;32m~\\AppData\\Local\\Temp/ipykernel_1640/4253089150.py\u001b[0m in \u001b[0;36m<module>\u001b[1;34m\u001b[0m\n\u001b[0;32m      5\u001b[0m \u001b[0miqr\u001b[0m \u001b[1;33m=\u001b[0m \u001b[0mq3\u001b[0m \u001b[1;33m-\u001b[0m \u001b[0mq1\u001b[0m\u001b[1;33m\u001b[0m\u001b[1;33m\u001b[0m\u001b[0m\n\u001b[0;32m      6\u001b[0m \u001b[0mbin_width\u001b[0m \u001b[1;33m=\u001b[0m \u001b[1;33m(\u001b[0m\u001b[1;36m2\u001b[0m \u001b[1;33m*\u001b[0m \u001b[0miqr\u001b[0m\u001b[1;33m)\u001b[0m \u001b[1;33m/\u001b[0m \u001b[1;33m(\u001b[0m\u001b[0mlen\u001b[0m\u001b[1;33m(\u001b[0m\u001b[0mdf_clean\u001b[0m\u001b[1;33m[\u001b[0m\u001b[1;34m'waterfront'\u001b[0m\u001b[1;33m]\u001b[0m\u001b[1;33m)\u001b[0m \u001b[1;33m**\u001b[0m \u001b[1;33m(\u001b[0m\u001b[1;36m1\u001b[0m \u001b[1;33m/\u001b[0m \u001b[1;36m3\u001b[0m\u001b[1;33m)\u001b[0m\u001b[1;33m)\u001b[0m\u001b[1;33m\u001b[0m\u001b[1;33m\u001b[0m\u001b[0m\n\u001b[1;32m----> 7\u001b[1;33m \u001b[0mbin_count\u001b[0m \u001b[1;33m=\u001b[0m \u001b[0mint\u001b[0m\u001b[1;33m(\u001b[0m\u001b[0mnp\u001b[0m\u001b[1;33m.\u001b[0m\u001b[0mceil\u001b[0m\u001b[1;33m(\u001b[0m\u001b[1;33m(\u001b[0m\u001b[0mdf_clean\u001b[0m\u001b[1;33m[\u001b[0m\u001b[1;34m'waterfront'\u001b[0m\u001b[1;33m]\u001b[0m\u001b[1;33m.\u001b[0m\u001b[0mmax\u001b[0m\u001b[1;33m(\u001b[0m\u001b[1;33m)\u001b[0m \u001b[1;33m-\u001b[0m \u001b[0mdf_clean\u001b[0m\u001b[1;33m[\u001b[0m\u001b[1;34m'waterfront'\u001b[0m\u001b[1;33m]\u001b[0m\u001b[1;33m.\u001b[0m\u001b[0mmin\u001b[0m\u001b[1;33m(\u001b[0m\u001b[1;33m)\u001b[0m\u001b[1;33m)\u001b[0m \u001b[1;33m/\u001b[0m \u001b[0mbin_width\u001b[0m\u001b[1;33m)\u001b[0m\u001b[1;33m)\u001b[0m\u001b[1;33m\u001b[0m\u001b[1;33m\u001b[0m\u001b[0m\n\u001b[0m",
      "\u001b[1;31mOverflowError\u001b[0m: cannot convert float infinity to integer"
     ]
    }
   ],
   "source": [
    "import pandas as pd\n",
    "\n",
    "q1 = df_clean['waterfront'].quantile(0.25)\n",
    "q3 = df_clean['waterfront'].quantile(0.75)\n",
    "iqr = q3 - q1\n",
    "bin_width = (2 * iqr) / (len(df_clean['waterfront']) ** (1 / 3))\n",
    "bin_count = int(np.ceil((df_clean['waterfront'].max() - df_clean['waterfront'].min()) / bin_width))"
   ]
  },
  {
   "cell_type": "code",
   "execution_count": 39,
   "metadata": {
    "ExecuteTime": {
     "end_time": "2021-12-20T22:58:31.973796Z",
     "start_time": "2021-12-20T22:58:31.963911Z"
    }
   },
   "outputs": [
    {
     "data": {
      "text/plain": [
       "154"
      ]
     },
     "execution_count": 39,
     "metadata": {},
     "output_type": "execute_result"
    }
   ],
   "source": [
    "bin_count"
   ]
  },
  {
   "cell_type": "code",
   "execution_count": null,
   "metadata": {
    "ExecuteTime": {
     "end_time": "2021-12-20T22:45:48.243200Z",
     "start_time": "2021-12-20T22:45:48.222944Z"
    }
   },
   "outputs": [],
   "source": [
    "len(df1['bathrooms'])"
   ]
  },
  {
   "cell_type": "code",
   "execution_count": null,
   "metadata": {
    "ExecuteTime": {
     "end_time": "2021-12-20T22:47:48.043618Z",
     "start_time": "2021-12-20T22:47:48.013429Z"
    }
   },
   "outputs": [],
   "source": [
    "df1['price'].sum()"
   ]
  },
  {
   "cell_type": "markdown",
   "metadata": {},
   "source": [
    "# 3.0 Perguntas CEO"
   ]
  },
  {
   "cell_type": "markdown",
   "metadata": {},
   "source": [
    "## 1. Quantas casas estão disponíveis para compra?"
   ]
  },
  {
   "cell_type": "code",
   "execution_count": null,
   "metadata": {
    "ExecuteTime": {
     "end_time": "2021-12-20T22:45:32.573322Z",
     "start_time": "2021-12-20T22:45:32.549475Z"
    }
   },
   "outputs": [],
   "source": [
    "houses = len( df1['id'].unique())\n",
    "print ('O número de casas disponíveis é de {}.'.format (houses))"
   ]
  },
  {
   "cell_type": "markdown",
   "metadata": {},
   "source": [
    "## 2. Quantos atributos as casas possuem?"
   ]
  },
  {
   "cell_type": "code",
   "execution_count": null,
   "metadata": {
    "ExecuteTime": {
     "end_time": "2021-12-20T22:45:32.592945Z",
     "start_time": "2021-12-20T22:45:32.573322Z"
    }
   },
   "outputs": [],
   "source": [
    "attribut = df1.drop(['id', 'date'], axis = 1)\n",
    "a = len(attribut.columns)\n",
    "\n",
    "print ('O número de atributos é: {}.'.format (a))"
   ]
  },
  {
   "cell_type": "markdown",
   "metadata": {},
   "source": [
    "## 3. Quais são os atributos das casas?"
   ]
  },
  {
   "cell_type": "code",
   "execution_count": null,
   "metadata": {
    "ExecuteTime": {
     "end_time": "2021-12-20T22:45:32.612630Z",
     "start_time": "2021-12-20T22:45:32.592945Z"
    },
    "scrolled": true
   },
   "outputs": [],
   "source": [
    "a = attribut.columns\n",
    "a"
   ]
  },
  {
   "cell_type": "markdown",
   "metadata": {},
   "source": [
    "## 4. Qual a casa mais cara?"
   ]
  },
  {
   "cell_type": "code",
   "execution_count": null,
   "metadata": {
    "ExecuteTime": {
     "end_time": "2021-12-20T22:45:32.633088Z",
     "start_time": "2021-12-20T22:45:32.612630Z"
    }
   },
   "outputs": [],
   "source": [
    "a = df1[['id', 'price']].sort_values ( 'price', ascending = False).reset_index(drop = True)['id'][0]\n",
    "b = df1[['id', 'price']].sort_values ( 'price', ascending = False).reset_index(drop = True)['price'][0]\n",
    "\n",
    "print ('A casa mais cara é a de ID: {} e valor: {}.'.format (a,b))"
   ]
  },
  {
   "cell_type": "markdown",
   "metadata": {},
   "source": [
    "## 5. Qual a casa com o maior número de quartos?"
   ]
  },
  {
   "cell_type": "code",
   "execution_count": null,
   "metadata": {
    "ExecuteTime": {
     "end_time": "2021-12-20T22:45:32.649465Z",
     "start_time": "2021-12-20T22:45:32.633088Z"
    }
   },
   "outputs": [],
   "source": [
    "a = df1[['id', 'bedrooms']].sort_values ( 'bedrooms', ascending = False).reset_index(drop = True)['id'][0]\n",
    "b = df1[['id', 'bedrooms']].sort_values ( 'bedrooms', ascending = False).reset_index(drop = True)['bedrooms'][0]\n",
    "\n",
    "print ('A casa com o maior número de quartos é a de ID: {} e possui: {} quartos.'.format (a,b))"
   ]
  },
  {
   "cell_type": "markdown",
   "metadata": {},
   "source": [
    "## 6. Quantas casas possuem 2 banheiros? E qual o valor médio destas?"
   ]
  },
  {
   "cell_type": "code",
   "execution_count": null,
   "metadata": {
    "ExecuteTime": {
     "end_time": "2021-12-20T22:45:32.673171Z",
     "start_time": "2021-12-20T22:45:32.649465Z"
    }
   },
   "outputs": [],
   "source": [
    "a = len(df1.loc[df1['bathrooms'] == 2, ['id', 'bathrooms']])\n",
    "b = np.round(df1.loc[df1['bathrooms'] == 2, 'price'].mean(), 2)\n",
    "\n",
    "print( 'O número de casas que possuem 2 banheiros é de {} e o valor médio destas estão por volta de {}.'. format(a,b))"
   ]
  },
  {
   "cell_type": "markdown",
   "metadata": {},
   "source": [
    "##  7. Qual o preço mínimo entre as casas com 3 quartos?"
   ]
  },
  {
   "cell_type": "code",
   "execution_count": null,
   "metadata": {
    "ExecuteTime": {
     "end_time": "2021-12-20T22:45:32.692842Z",
     "start_time": "2021-12-20T22:45:32.673171Z"
    },
    "scrolled": true
   },
   "outputs": [],
   "source": [
    "a = df1.loc[df1['bedrooms'] == 3, 'price'].min()\n",
    "\n",
    "print( 'O preço mínimo de casas que possuem 3 quartos é de {}.'. format(a))"
   ]
  },
  {
   "cell_type": "markdown",
   "metadata": {},
   "source": [
    "## 8. Quantas casas possuem mais de 300 metros quadrados na sala de estar e têm mais de 2 banheiros?"
   ]
  },
  {
   "cell_type": "code",
   "execution_count": null,
   "metadata": {
    "ExecuteTime": {
     "end_time": "2021-12-20T22:45:32.712936Z",
     "start_time": "2021-12-20T22:45:32.692842Z"
    }
   },
   "outputs": [],
   "source": [
    "df1['m2'] = df1['sqft_living'] *0.093\n",
    "\n",
    "a = len(df1.loc[(df1['m2'] > 300) & (df1['bedrooms'] > 2), 'id'])\n",
    "\n",
    "print( 'O número de casas que possuem 300 metros quadrados na sala de estar e possuem 2 banheiros é de {}.'. format(a))"
   ]
  },
  {
   "cell_type": "markdown",
   "metadata": {},
   "source": [
    "## 9. Quantas casas possuem mais de 2 andares? E quantos possuem dois andares?"
   ]
  },
  {
   "cell_type": "code",
   "execution_count": null,
   "metadata": {
    "ExecuteTime": {
     "end_time": "2021-12-20T22:45:32.732760Z",
     "start_time": "2021-12-20T22:45:32.712936Z"
    }
   },
   "outputs": [],
   "source": [
    "a = len (df1.loc[df1['floors']>2, 'id'])\n",
    "b = len (df1.loc[df1['floors'] == 2, 'id'])\n",
    "\n",
    "print( 'O número de casas que possuem mais de 2 andares é de {} e das que possuem dois andares é de {}.'. format(a,b))"
   ]
  },
  {
   "cell_type": "markdown",
   "metadata": {},
   "source": [
    "## 10. Quantas casas tem vista para o mar/lago?"
   ]
  },
  {
   "cell_type": "code",
   "execution_count": null,
   "metadata": {
    "ExecuteTime": {
     "end_time": "2021-12-20T22:45:32.749538Z",
     "start_time": "2021-12-20T22:45:32.733305Z"
    }
   },
   "outputs": [],
   "source": [
    "a = len (df1.loc[df1['waterfront'] == 1, 'id'])\n",
    "print( 'O número de casas que possuem vista para o mar/lago é de {}.'. format(a))"
   ]
  },
  {
   "cell_type": "markdown",
   "metadata": {},
   "source": [
    "## 11. Das casas com vista para o mar/lago, quantas tem 3 quartos?"
   ]
  },
  {
   "cell_type": "code",
   "execution_count": null,
   "metadata": {
    "ExecuteTime": {
     "end_time": "2021-12-20T22:45:32.772945Z",
     "start_time": "2021-12-20T22:45:32.749538Z"
    }
   },
   "outputs": [],
   "source": [
    "a = len(df1.loc[(df1['waterfront'] == 1) & (df1['bedrooms'] == 3), 'id'])\n",
    "\n",
    "print( 'O número de casas que possuem vista para o mar/lago e possuem 3 quartos é de {}.'. format(a))"
   ]
  },
  {
   "cell_type": "markdown",
   "metadata": {},
   "source": [
    "## 12. Qual a data do imóvel mais antigo? E qual a data mais antiga de renovação?"
   ]
  },
  {
   "cell_type": "code",
   "execution_count": null,
   "metadata": {
    "ExecuteTime": {
     "end_time": "2021-12-20T22:45:32.792794Z",
     "start_time": "2021-12-20T22:45:32.772945Z"
    }
   },
   "outputs": [],
   "source": [
    "a = df1['yr_built'].min()\n",
    "b = df1.loc[df1['yr_renovated'] > pd.to_datetime('1900-01-01',format = '%Y-%m-%d'), 'yr_renovated'].dt.year.min()\n",
    "\n",
    "print( 'A data do imóvel mais antigo é de {} e data do imóvel que tem a reforma mais antiga é de {}.'. format(a,b))"
   ]
  },
  {
   "cell_type": "markdown",
   "metadata": {},
   "source": [
    "## 13. Qual o número máximo de andares e quantos casas possuem este número?"
   ]
  },
  {
   "cell_type": "code",
   "execution_count": null,
   "metadata": {
    "ExecuteTime": {
     "end_time": "2021-12-20T22:45:32.812863Z",
     "start_time": "2021-12-20T22:45:32.792794Z"
    },
    "scrolled": true
   },
   "outputs": [],
   "source": [
    "a = df1['floors'].unique().max()\n",
    "b = len(df1[df1['floors'] == 3.5][['floors', 'id']])\n",
    "\n",
    "print( 'O número máximo de andares é de {} e {} imóveis possuem este número.'. format(a,b))"
   ]
  },
  {
   "cell_type": "markdown",
   "metadata": {},
   "source": [
    "## 14. Quantos imóveis estão com a condição regular?"
   ]
  },
  {
   "cell_type": "code",
   "execution_count": null,
   "metadata": {
    "ExecuteTime": {
     "end_time": "2021-12-20T22:45:32.833011Z",
     "start_time": "2021-12-20T22:45:32.812863Z"
    },
    "scrolled": true
   },
   "outputs": [],
   "source": [
    "a = df1.loc[df1['condition_type'] == 'regular', 'id'].size\n",
    "\n",
    "print( 'O número imóveis que estão com a condição regular é de {}.'. format(a))"
   ]
  },
  {
   "cell_type": "markdown",
   "metadata": {},
   "source": [
    "## 15. Quantos imóveis estão com a condição 'bad' e possuem vista para mar/lago?"
   ]
  },
  {
   "cell_type": "code",
   "execution_count": null,
   "metadata": {
    "ExecuteTime": {
     "end_time": "2021-12-20T22:45:32.849518Z",
     "start_time": "2021-12-20T22:45:32.833011Z"
    },
    "scrolled": true
   },
   "outputs": [],
   "source": [
    "a = df1.loc[(df1['condition_type'] == 'bad')& (df1['waterfront'] == 1), 'id'].size\n",
    "\n",
    "print( 'O número imóveis que estão com a condição \"bad\" e possuem vista para mar/lago é de {}.'. format(a))"
   ]
  },
  {
   "cell_type": "markdown",
   "metadata": {},
   "source": [
    "## 16. Quantos imóveis estão com a condição 'good' e são consideradas 'new_house'?"
   ]
  },
  {
   "cell_type": "code",
   "execution_count": null,
   "metadata": {
    "ExecuteTime": {
     "end_time": "2021-12-20T22:45:32.873131Z",
     "start_time": "2021-12-20T22:45:32.849518Z"
    }
   },
   "outputs": [],
   "source": [
    "a = df1.loc[(df1['condition_type'] == 'good')& (df1['house_age'] == 'new_house'), 'id'].size\n",
    "\n",
    "print( 'O número imóveis que estão com a condição \"good\" e são consideradas \"new_house\" é de {}.'. format(a))"
   ]
  },
  {
   "cell_type": "markdown",
   "metadata": {},
   "source": [
    "## 17. Qual o valor do imóvel mais caro do tipo 'studio'?"
   ]
  },
  {
   "cell_type": "code",
   "execution_count": null,
   "metadata": {
    "ExecuteTime": {
     "end_time": "2021-12-20T22:45:32.892758Z",
     "start_time": "2021-12-20T22:45:32.873131Z"
    },
    "scrolled": true
   },
   "outputs": [],
   "source": [
    "a = df1.loc[df1['dormitory_type'] == 'studio', 'price'].max()\n",
    "\n",
    "print( 'O valor do imóvel mais caro do tipo \"studio\" é de {}.'. format(a))"
   ]
  },
  {
   "cell_type": "markdown",
   "metadata": {},
   "source": [
    "## 18. Quantos imóveis do tipo \"apartment\" foram reformados em 2015?"
   ]
  },
  {
   "cell_type": "code",
   "execution_count": null,
   "metadata": {
    "ExecuteTime": {
     "end_time": "2021-12-20T22:45:32.912776Z",
     "start_time": "2021-12-20T22:45:32.892758Z"
    },
    "scrolled": true
   },
   "outputs": [],
   "source": [
    "a = df1.loc[df1['yr_renovated'] == pd.to_datetime ('2015-01-01'), 'id'].size\n",
    "\n",
    "print( 'A quantidade de imóveis do tipo \"apartment\" que foram reformados no ano de 2015 é de {}.'. format(a))"
   ]
  },
  {
   "cell_type": "markdown",
   "metadata": {},
   "source": [
    "## 19. Qual o maior número de quartos que um imóvel do tipo \"house\" possui?"
   ]
  },
  {
   "cell_type": "code",
   "execution_count": null,
   "metadata": {
    "ExecuteTime": {
     "end_time": "2021-12-20T22:45:32.933117Z",
     "start_time": "2021-12-20T22:45:32.912776Z"
    }
   },
   "outputs": [],
   "source": [
    "a = df1.loc[df1['dormitory_type'] == 'house', 'bedrooms'].max()\n",
    "\n",
    "print( 'O maior número de quartos de um imóvel do tipo \"house\" é de {}.'. format(a))"
   ]
  },
  {
   "cell_type": "markdown",
   "metadata": {},
   "source": [
    "## 20. Quantos imóveis \"new_house\" foram reformados no ano de 2014?"
   ]
  },
  {
   "cell_type": "code",
   "execution_count": null,
   "metadata": {
    "ExecuteTime": {
     "end_time": "2021-12-20T22:45:32.949810Z",
     "start_time": "2021-12-20T22:45:32.933117Z"
    }
   },
   "outputs": [],
   "source": [
    "a = df1.loc[( df1['house_age'] == 'new_house') &\n",
    "            ( df1['yr_renovated'] == pd.to_datetime ('2014-01-01', format = '%Y-%m-%d')), 'id'].size\n",
    "\n",
    "print ( 'A quantidade de imóveis considerados \"new_house\" que foram reformados no ano de 2014 é de {}.'. format(a))"
   ]
  },
  {
   "cell_type": "markdown",
   "metadata": {},
   "source": [
    "# <center> TABELAS"
   ]
  },
  {
   "cell_type": "markdown",
   "metadata": {},
   "source": [
    "## <center> Imóveis x Quartos"
   ]
  },
  {
   "cell_type": "code",
   "execution_count": null,
   "metadata": {
    "ExecuteTime": {
     "end_time": "2021-12-20T22:45:32.972900Z",
     "start_time": "2021-12-20T22:45:32.949810Z"
    },
    "scrolled": true
   },
   "outputs": [],
   "source": [
    "df_grouped = df1[['id', 'bedrooms']].groupby('bedrooms').size()\n",
    "df_grouped"
   ]
  },
  {
   "cell_type": "markdown",
   "metadata": {},
   "source": [
    "## <center> Imóveis x Ano de Construção\n",
    "    "
   ]
  },
  {
   "cell_type": "code",
   "execution_count": null,
   "metadata": {
    "ExecuteTime": {
     "end_time": "2021-12-20T22:45:32.992991Z",
     "start_time": "2021-12-20T22:45:32.972900Z"
    },
    "scrolled": true
   },
   "outputs": [],
   "source": [
    "df_grouped = df1[['id', 'yr_built']].groupby('yr_built').count().reset_index()\n",
    "df_grouped"
   ]
  },
  {
   "cell_type": "markdown",
   "metadata": {},
   "source": [
    "## <center> Menor Número de Quartos x Ano de Construção de Imóveis"
   ]
  },
  {
   "cell_type": "code",
   "execution_count": null,
   "metadata": {
    "ExecuteTime": {
     "end_time": "2021-12-20T22:45:33.033064Z",
     "start_time": "2021-12-20T22:45:32.992991Z"
    }
   },
   "outputs": [],
   "source": [
    "df_grouped = df1[['bedrooms', 'yr_built']].groupby('yr_built').min()\n",
    "df_grouped"
   ]
  },
  {
   "cell_type": "markdown",
   "metadata": {},
   "source": [
    "## <center> Preço de Compra Mais Alto x Número de Quarto"
   ]
  },
  {
   "cell_type": "code",
   "execution_count": null,
   "metadata": {
    "ExecuteTime": {
     "end_time": "2021-12-20T22:45:33.049748Z",
     "start_time": "2021-12-20T22:45:33.033064Z"
    },
    "scrolled": true
   },
   "outputs": [],
   "source": [
    "df_grouped = df1[['price', 'bedrooms']].groupby('bedrooms').max().reset_index()\n",
    "df_grouped"
   ]
  },
  {
   "cell_type": "markdown",
   "metadata": {},
   "source": [
    "## <center> Tamanho Médio das Salas dos Imóveis x Ano de Construção"
   ]
  },
  {
   "cell_type": "code",
   "execution_count": null,
   "metadata": {
    "ExecuteTime": {
     "end_time": "2021-12-20T22:45:33.072940Z",
     "start_time": "2021-12-20T22:45:33.049748Z"
    }
   },
   "outputs": [],
   "source": [
    "df_grouped = df1[['sqft_living', 'yr_built']].groupby('yr_built').mean().reset_index()\n",
    "df_grouped"
   ]
  },
  {
   "cell_type": "markdown",
   "metadata": {},
   "source": [
    "## <center> Média dos Preços dos Imóveis por Tipo de Dormitório x Ano de Construção"
   ]
  },
  {
   "cell_type": "code",
   "execution_count": null,
   "metadata": {
    "ExecuteTime": {
     "end_time": "2021-12-20T22:45:33.092678Z",
     "start_time": "2021-12-20T22:45:33.073003Z"
    },
    "scrolled": false
   },
   "outputs": [],
   "source": [
    "df1[['price', 'dormitory_type']].groupby('dormitory_type').mean().reset_index()"
   ]
  },
  {
   "cell_type": "markdown",
   "metadata": {},
   "source": [
    "## <center> Média dos Preços dos Imóveis x Level"
   ]
  },
  {
   "cell_type": "code",
   "execution_count": null,
   "metadata": {
    "ExecuteTime": {
     "end_time": "2021-12-20T22:45:33.112768Z",
     "start_time": "2021-12-20T22:45:33.092678Z"
    }
   },
   "outputs": [],
   "source": [
    "df1[['price', 'level']].groupby('level').mean().reset_index()"
   ]
  },
  {
   "cell_type": "markdown",
   "metadata": {},
   "source": [
    "## <center> Média dos Preços dos Imóveis x Tamanho da Sala de Estar"
   ]
  },
  {
   "cell_type": "code",
   "execution_count": null,
   "metadata": {
    "ExecuteTime": {
     "end_time": "2021-12-20T22:45:33.132807Z",
     "start_time": "2021-12-20T22:45:33.112768Z"
    },
    "scrolled": true
   },
   "outputs": [],
   "source": [
    "df1[['price', 'size']].groupby('size').mean().reset_index()"
   ]
  },
  {
   "cell_type": "markdown",
   "metadata": {},
   "source": [
    "# <center> GRÁFICOS"
   ]
  },
  {
   "cell_type": "markdown",
   "metadata": {},
   "source": [
    "## 1. Gráfico que represente a soma dos preços pelo números de quartos"
   ]
  },
  {
   "cell_type": "code",
   "execution_count": null,
   "metadata": {
    "ExecuteTime": {
     "end_time": "2021-12-20T22:45:33.443121Z",
     "start_time": "2021-12-20T22:45:33.132807Z"
    },
    "scrolled": false
   },
   "outputs": [],
   "source": [
    "aux1 = df1[['price', 'bedrooms']].groupby('bedrooms').sum().reset_index()\n",
    "\n",
    "sns.barplot( x = 'bedrooms', y= 'price', data = aux1)"
   ]
  },
  {
   "cell_type": "markdown",
   "metadata": {},
   "source": [
    "## 2. Gráfico de linhas que represente a média dos preços pelo ano de construção dos imóveis."
   ]
  },
  {
   "cell_type": "code",
   "execution_count": null,
   "metadata": {
    "ExecuteTime": {
     "end_time": "2021-12-20T22:45:33.643098Z",
     "start_time": "2021-12-20T22:45:33.443121Z"
    }
   },
   "outputs": [],
   "source": [
    "aux1 = df1[['price', 'yr_built']].groupby('yr_built').mean().reset_index()\n",
    "\n",
    "sns.lineplot( x = 'yr_built', y= 'price', data = aux1)"
   ]
  },
  {
   "cell_type": "markdown",
   "metadata": {},
   "source": [
    "## 3. Gráfico que represente a média dos preços pelos tipos de dormitórios"
   ]
  },
  {
   "cell_type": "code",
   "execution_count": null,
   "metadata": {
    "ExecuteTime": {
     "end_time": "2021-12-20T22:45:33.783252Z",
     "start_time": "2021-12-20T22:45:33.643098Z"
    }
   },
   "outputs": [],
   "source": [
    "aux1 = df1[['price', 'dormitory_type']].groupby('dormitory_type').mean().reset_index()\n",
    "\n",
    "sns.barplot( x = 'dormitory_type', y= 'price', data = aux1)"
   ]
  },
  {
   "cell_type": "markdown",
   "metadata": {},
   "source": [
    "## 4. Gráfico que represente a evolução da média dos preços pelo ano da reforma dos imóveis a partir do ano de 1930."
   ]
  },
  {
   "cell_type": "code",
   "execution_count": null,
   "metadata": {
    "ExecuteTime": {
     "end_time": "2021-12-20T22:45:34.011937Z",
     "start_time": "2021-12-20T22:45:33.783252Z"
    }
   },
   "outputs": [],
   "source": [
    "aux1 = df1.loc[df1['yr_renovated'] > pd.to_datetime ('1930'), ['price','yr_renovated']].groupby ('yr_renovated').mean().reset_index()\n",
    "sns.lineplot( x = 'yr_renovated', y = 'price', data = aux1)"
   ]
  },
  {
   "cell_type": "markdown",
   "metadata": {},
   "source": [
    "# <center> DASHBOARDS"
   ]
  },
  {
   "cell_type": "code",
   "execution_count": null,
   "metadata": {
    "ExecuteTime": {
     "end_time": "2021-12-20T22:45:34.672875Z",
     "start_time": "2021-12-20T22:45:34.012952Z"
    }
   },
   "outputs": [],
   "source": [
    "fig = plt.figure(figsize = (20,12))\n",
    "specs = gridspec.GridSpec(ncols = 2, nrows = 3, figure=fig)\n",
    "\n",
    "ax1 = fig.add_subplot(specs[0,:])\n",
    "ax2 = fig.add_subplot(specs[1,:])\n",
    "ax3 = fig.add_subplot(specs[2,0])\n",
    "ax4 = fig.add_subplot(specs[2,1])\n",
    "\n",
    "# 1\n",
    "df = df1[['price', 'yr_built']].groupby('yr_built').mean().reset_index()\n",
    "sns.lineplot( x = 'yr_built', y = 'price', data = df, ax = ax1);\n",
    "ax1.set_title( \"Price vs Year Built\" , size = 20 )\n",
    "ax1.set_xlabel(\"\")\n",
    "ax1.set_ylabel(\"\")\n",
    "\n",
    "# 2\n",
    "df = df1.loc[df1['yr_renovated'] > pd.to_datetime ('1930'), ['price','yr_renovated']].groupby ('yr_renovated').mean().reset_index()\n",
    "sns.lineplot( x = 'yr_renovated', y = 'price', data = df, ax = ax2);\n",
    "ax2.set_title( \"Price vs Year Renovated\" , size = 20 ) \n",
    "ax2.set_xlabel(\"\")\n",
    "ax2.set_ylabel(\"\")\n",
    "\n",
    "# 3            \n",
    "df = df1[['price', 'bedrooms']].groupby('bedrooms').sum().reset_index()\n",
    "sns.barplot( x = 'bedrooms', y = 'price', data = df, ax = ax3);\n",
    "ax3.set_title( \"Price vs Bedrooms\" , size = 20 )\n",
    "ax3.set_xlabel(\"\")\n",
    "ax3.set_ylabel(\"\")\n",
    "\n",
    "# 4\n",
    "df = df1[['price', 'dormitory_type']].groupby('dormitory_type').mean().reset_index()\n",
    "sns.barplot(x = 'dormitory_type', y = 'price', data =df, ax= ax4);\n",
    "ax4.set_title( \"Price vs Dormitory Type\" , size = 20 )\n",
    "ax4.set_xlabel(\"\")\n",
    "ax4.set_ylabel(\"\")"
   ]
  },
  {
   "cell_type": "code",
   "execution_count": null,
   "metadata": {
    "ExecuteTime": {
     "end_time": "2021-12-20T22:45:36.338142Z",
     "start_time": "2021-12-20T22:45:34.672875Z"
    }
   },
   "outputs": [],
   "source": [
    "fig = plt.figure(figsize = (20,12))\n",
    "specs = gridspec.GridSpec(ncols = 2, nrows = 2, figure=fig)\n",
    "\n",
    "ax1 = fig.add_subplot(specs[0,:])\n",
    "ax2 = fig.add_subplot(specs[1,0])\n",
    "ax3 = fig.add_subplot(specs[1,1])\n",
    "\n",
    "# Gráfico 1:\n",
    "df1['year'] = pd.to_datetime (df1['date']).dt.year\n",
    "by_year = df1[['price', 'year']].groupby('year').sum().reset_index()\n",
    "\n",
    "sns.barplot(x = 'year',y = 'price', data = by_year, ax = ax1)\n",
    "ax1.set_title( \"Price vs Year\" , size = 20 )\n",
    "ax1.set_xlabel(\"\")\n",
    "ax1.set_ylabel(\"\")\n",
    "\n",
    "# Gráfico 2:\n",
    "df1['day'] = pd.to_datetime (df1['date'])\n",
    "by_day = df1[['price', 'day']].groupby('day').mean().reset_index()\n",
    "\n",
    "sns.lineplot(x = 'day', y = 'price', data = by_day, ax = ax2)\n",
    "ax2.set_title( \"Price vs Day\" , size = 20 ) \n",
    "ax2.set_xlabel(\"\")\n",
    "ax2.set_ylabel(\"\")\n",
    "\n",
    "\n",
    "# Gráfico 3:\n",
    "df1['week'] = pd.to_datetime (df1['date']).dt.strftime('%Y-%U')\n",
    "by_week = df1[['price', 'week']].groupby('week').mean().reset_index()\n",
    "\n",
    "sns.lineplot(x = 'week', y = 'price', data = by_week, ax = ax3)\n",
    "ax3.set_title( \"Price vs Week\" , size = 20 ) \n",
    "ax3.set_xlabel(\"\")\n",
    "ax3.set_ylabel(\"\")\n",
    "plt.xticks (rotation = 90 );"
   ]
  },
  {
   "cell_type": "markdown",
   "metadata": {},
   "source": [
    "# <center> FILTROS ITERATIVOS"
   ]
  },
  {
   "cell_type": "code",
   "execution_count": null,
   "metadata": {
    "ExecuteTime": {
     "end_time": "2021-12-20T22:45:36.363302Z",
     "start_time": "2021-12-20T22:45:36.338142Z"
    }
   },
   "outputs": [],
   "source": [
    "df2 =  df1.copy()"
   ]
  },
  {
   "cell_type": "code",
   "execution_count": null,
   "metadata": {
    "ExecuteTime": {
     "end_time": "2021-12-20T22:45:36.382882Z",
     "start_time": "2021-12-20T22:45:36.363302Z"
    }
   },
   "outputs": [],
   "source": [
    "style = {'description_width' : 'initial'}"
   ]
  },
  {
   "cell_type": "code",
   "execution_count": null,
   "metadata": {
    "ExecuteTime": {
     "end_time": "2021-12-20T22:45:36.403308Z",
     "start_time": "2021-12-20T22:45:36.382882Z"
    }
   },
   "outputs": [],
   "source": [
    "#Iterative Buttons - Price\n",
    "\n",
    "price_limit = widgets.IntSlider(\n",
    "    value = int(df2['price'].mean() ),\n",
    "    min = df2['price'].min(),\n",
    "    max = df2['price'].max(),\n",
    "    step = 1,\n",
    "    description = 'Maximum Price',\n",
    "    disable = False,\n",
    "    style = style\n",
    ")"
   ]
  },
  {
   "cell_type": "code",
   "execution_count": null,
   "metadata": {
    "ExecuteTime": {
     "end_time": "2021-12-20T22:45:36.422911Z",
     "start_time": "2021-12-20T22:45:36.403308Z"
    }
   },
   "outputs": [],
   "source": [
    "#Iterative Buttons - WaterFront\n",
    "\n",
    "waterfront_bar = widgets.Dropdown(\n",
    "    options = df2['is_waterfront'].unique().tolist(),\n",
    "    value  = 'Yes',\n",
    "    description = 'Water View',\n",
    "    disable = False\n",
    ")"
   ]
  },
  {
   "cell_type": "code",
   "execution_count": null,
   "metadata": {
    "ExecuteTime": {
     "end_time": "2021-12-20T22:45:36.438323Z",
     "start_time": "2021-12-20T22:45:36.422911Z"
    }
   },
   "outputs": [],
   "source": [
    "#Iterative Buttons - LivingRoom\n",
    "\n",
    "livingroom_limit = widgets.IntSlider(\n",
    "    value = int(df2['sqft_living'].mean() ),\n",
    "    min = df2['sqft_living'].min(),\n",
    "    max = df2['sqft_living'].max(),\n",
    "   step = 1,\n",
    "    description = 'Minimum Living Room Size',\n",
    "    disable = False,\n",
    "    style = style\n",
    ")"
   ]
  },
  {
   "cell_type": "code",
   "execution_count": null,
   "metadata": {
    "ExecuteTime": {
     "end_time": "2021-12-20T22:45:36.523086Z",
     "start_time": "2021-12-20T22:45:36.462824Z"
    }
   },
   "outputs": [],
   "source": [
    "#Iterative Buttons - Bathrooms\n",
    "\n",
    "bathrooms_limit = widgets.IntSlider(\n",
    "    value = df2['bathrooms'].mean(),\n",
    "    min = df2['bathrooms'].min(),\n",
    "    max = df2['bathrooms'].max(),\n",
    "    step = 1,\n",
    "    description = 'Minimum Bathrooms',\n",
    "    disable = False,\n",
    "    style = style\n",
    ")"
   ]
  },
  {
   "cell_type": "code",
   "execution_count": null,
   "metadata": {
    "ExecuteTime": {
     "end_time": "2021-12-20T22:45:36.538238Z",
     "start_time": "2021-12-20T22:45:36.523086Z"
    }
   },
   "outputs": [],
   "source": [
    "#Iterative Buttons - Year Built\n",
    "\n",
    "yr_built_limit = widgets.IntSlider(\n",
    "    value = df2['yr_built'].mean(),\n",
    "    min = df2['yr_built'].min(),\n",
    "    max = df2['yr_built'].max(),\n",
    "   step = 1,\n",
    "   description = 'Year Built',\n",
    "    disable = False,\n",
    "    style = style\n",
    ")"
   ]
  },
  {
   "cell_type": "markdown",
   "metadata": {},
   "source": [
    "## <center> MAPA INTERATIVO"
   ]
  },
  {
   "cell_type": "code",
   "execution_count": null,
   "metadata": {
    "ExecuteTime": {
     "end_time": "2021-12-20T22:45:36.562912Z",
     "start_time": "2021-12-20T22:45:36.538238Z"
    }
   },
   "outputs": [],
   "source": [
    "def update_map(df2, price_limit, livingroom_limit, bathrooms_limit, yr_built_limit, waterfront_bar ): \n",
    "\n",
    "    filters = df2[(df2['price'] < price_limit)&\n",
    "                  (df2['sqft_living'] > livingroom_limit)&\n",
    "                  (df2['bathrooms'] > bathrooms_limit) &\n",
    "                  (df2['yr_built'] > yr_built_limit)&\n",
    "                  (df2['is_waterfront'])][['id', 'lat', 'long', 'price', 'level']].copy()\n",
    "\n",
    "    mapa = px.scatter_mapbox ( filters,\n",
    "                               lat='lat',\n",
    "                               lon='long',\n",
    "                               size = 'price',\n",
    "                               color = 'level',\n",
    "                               hover_name='id',\n",
    "                               color_continuous_scale = px.colors.cyclical.IceFire,\n",
    "                               size_max = 15,\n",
    "                               zoom = 10 )\n",
    "    mapa.update_layout (mapbox_style = 'open-street-map', height = 600, margin = {'r':0, 't':0, 'l':0, 'b':0})\n",
    "    mapa.show()"
   ]
  },
  {
   "cell_type": "code",
   "execution_count": null,
   "metadata": {
    "ExecuteTime": {
     "end_time": "2021-12-20T22:45:37.172853Z",
     "start_time": "2021-12-20T22:45:36.562912Z"
    }
   },
   "outputs": [],
   "source": [
    "widgets.interactive (update_map, df2 =  fixed (df2), price_limit = price_limit,\n",
    "                                                     livingroom_limit = livingroom_limit,\n",
    "                                                     bathrooms_limit = bathrooms_limit,\n",
    "                                                     yr_built_limit = yr_built_limit,\n",
    "                                                     waterfront_bar = waterfront_bar)"
   ]
  },
  {
   "cell_type": "markdown",
   "metadata": {},
   "source": [
    "# <center> ITERATIVIDADE COM O DASHBOARD"
   ]
  },
  {
   "cell_type": "code",
   "execution_count": null,
   "metadata": {
    "ExecuteTime": {
     "end_time": "2021-12-20T22:45:37.192808Z",
     "start_time": "2021-12-20T22:45:37.172853Z"
    }
   },
   "outputs": [],
   "source": [
    "df3 = df2.copy()"
   ]
  },
  {
   "cell_type": "code",
   "execution_count": null,
   "metadata": {
    "ExecuteTime": {
     "end_time": "2021-12-20T22:45:37.892880Z",
     "start_time": "2021-12-20T22:45:37.192808Z"
    }
   },
   "outputs": [],
   "source": [
    "#Change Date Format\n",
    "\n",
    "df3['year'] = pd.to_datetime (df3['date']).dt.strftime( '%Y' )\n",
    "df3['date'] = pd.to_datetime (df3['date']).dt.strftime( '%Y-%m-%d')\n",
    "df3['year_week'] = pd.to_datetime (df3['date']).dt.strftime( 'Y%-%U')\n",
    "\n",
    "#Widget to Control Data\n",
    "\n",
    "price_limit = widgets.IntSlider(\n",
    "    value = int(df2['price'].mean() ),\n",
    "    min = df2['price'].min(),\n",
    "    max = df2['price'].max(),\n",
    "    step = 1,\n",
    "    description = 'Maximum Price',\n",
    "    disable = False,\n",
    "    style = style\n",
    ")\n",
    "\n",
    "waterfront_limit = widgets.Checkbox(\n",
    "    value = False,\n",
    "    description = 'Is Waterfront?',\n",
    "    disable = False,\n",
    "    indent = False)"
   ]
  },
  {
   "cell_type": "code",
   "execution_count": null,
   "metadata": {
    "ExecuteTime": {
     "end_time": "2021-12-20T22:45:37.912818Z",
     "start_time": "2021-12-20T22:45:37.892880Z"
    }
   },
   "outputs": [],
   "source": [
    "def update_dash (df3, price_limit, waterfront_limit ):\n",
    "    \n",
    "    filters_2 = df3[(df3['price'] < price_limit)&\n",
    "                    (df3['waterfront'] == waterfront_limit)].copy()\n",
    "\n",
    "    \n",
    "    fig = plt.figure (figsize = (21,12))\n",
    "    specs = gridspec.GridSpec ( ncols =  2, nrows = 2, figure = fig )\n",
    "    \n",
    "    ax1 = fig.add_subplot (specs[0,:])\n",
    "    ax2 = fig.add_subplot (specs[1,:])\n",
    "    \n",
    "    by_year = filters_2[['price','year']].groupby ('year').count().reset_index()\n",
    "    sns.barplot (x = 'year', y = 'price', data = by_year, ax = ax1)\n",
    "    plt.xticks (rotation = 90 );\n",
    "    \n",
    "    by_day = filters_2[['price','date']].groupby ('date').mean().reset_index()\n",
    "    sns.lineplot (x = 'date', y = 'price', data = by_day, ax = ax2)\n",
    "    plt.xticks (rotation = 90 );"
   ]
  },
  {
   "cell_type": "code",
   "execution_count": null,
   "metadata": {
    "ExecuteTime": {
     "end_time": "2021-12-20T22:45:45.229701Z",
     "start_time": "2021-12-20T22:45:37.912818Z"
    }
   },
   "outputs": [],
   "source": [
    "widgets.interactive ( update_dash, \n",
    "                     df3 = fixed (df3),\n",
    "                     price_limit = price_limit,\n",
    "                     waterfront_limit = waterfront_limit )"
   ]
  }
 ],
 "metadata": {
  "kernelspec": {
   "display_name": "Python 3 (ipykernel)",
   "language": "python",
   "name": "python3"
  },
  "language_info": {
   "codemirror_mode": {
    "name": "ipython",
    "version": 3
   },
   "file_extension": ".py",
   "mimetype": "text/x-python",
   "name": "python",
   "nbconvert_exporter": "python",
   "pygments_lexer": "ipython3",
   "version": "3.9.7"
  }
 },
 "nbformat": 4,
 "nbformat_minor": 4
}
